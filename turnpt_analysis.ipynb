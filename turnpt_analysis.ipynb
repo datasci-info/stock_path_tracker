{
 "cells": [
  {
   "cell_type": "markdown",
   "metadata": {},
   "source": [
    "# Turning point analysis\n",
    "- TODO: encapsulation and check N=1,2,3, ...\n",
    "- Work flow\n",
    "    1. turn tick data into daily data\n",
    "        - findataflow\n",
    "    1. For each maturity\n",
    "        - detect turing points (N)\n",
    "            - N = 1, 2, 3, ...\n",
    "        - combine turning points\n",
    "    1. summarize turning points by day-to-maturity\n",
    "        - frequency\n",
    "        - slope\n",
    "        - duration\n",
    "        - optimal lambda\n"
   ]
  },
  {
   "cell_type": "code",
   "execution_count": 1,
   "metadata": {},
   "outputs": [],
   "source": [
    "%reload_ext autoreload\n",
    "%autoreload 2\n",
    "%matplotlib inline"
   ]
  },
  {
   "cell_type": "code",
   "execution_count": 2,
   "metadata": {},
   "outputs": [],
   "source": [
    "# pretty print for consecutive dfs\n",
    "from IPython.core.interactiveshell import InteractiveShell\n",
    "InteractiveShell.ast_node_interactivity = \"all\""
   ]
  },
  {
   "cell_type": "code",
   "execution_count": 3,
   "metadata": {},
   "outputs": [],
   "source": [
    "import numpy as np\n",
    "import pandas as pd\n",
    "import matplotlib.pylab as plt\n",
    "import datetime\n",
    "import seaborn as sns"
   ]
  },
  {
   "cell_type": "code",
   "execution_count": 4,
   "metadata": {},
   "outputs": [],
   "source": [
    "import config as cfg\n",
    "from findataflow.dataprocs import resample"
   ]
  },
  {
   "cell_type": "code",
   "execution_count": 5,
   "metadata": {},
   "outputs": [],
   "source": [
    "def get_maturity(series_date):\n",
    "    settlements = pd.to_datetime(pd.read_csv(cfg.PATH_SETTLEMENTS).settlement).dt.date\n",
    "    maturities = series_date.where(series_date.isin(settlements)).fillna(method='bfill')\n",
    "    maturities.where(maturities >= settlements.min(), inplace = True)\n",
    "    return maturities"
   ]
  },
  {
   "cell_type": "code",
   "execution_count": 6,
   "metadata": {},
   "outputs": [],
   "source": [
    "def get_daily_TXF_OHLC():\n",
    "    df_ohlc = resample.get_OHLCV_given_frequency(symbol='TXF', freq='1D')\n",
    "    df_ohlc.reset_index(inplace=True)\n",
    "    df_ohlc.rename(columns={'index': 'tx_datetime'}, inplace=True)\n",
    "    df_ohlc['tx_datetime'] = df_ohlc.tx_datetime.dt.date\n",
    "    df_ohlc.loc[df_ohlc.shape[0]] = [datetime.date(2014,3,19), 8734, 8742, 8684, 8696, np.nan]#TODO: no data\n",
    "    df_ohlc.sort_values('tx_datetime', inplace=True)\n",
    "    df_ohlc['maturity'] = get_maturity(df_ohlc.tx_datetime)\n",
    "    df_ohlc['day_to_maturity'] = (df_ohlc.tx_datetime - df_ohlc.maturity).dt.days\n",
    "    return df_ohlc"
   ]
  },
  {
   "cell_type": "markdown",
   "metadata": {},
   "source": [
    "## turing point at maturity-level\n",
    "- detect turing points (N)\n",
    "    - N = 1, 2, 3, ...\n",
    "- combine turning points"
   ]
  },
  {
   "cell_type": "code",
   "execution_count": 53,
   "metadata": {},
   "outputs": [],
   "source": [
    "def get_marked_turnpt(prc_ohlc, N): \n",
    "    assert 'tx_datetime' in prc_ohlc.columns, 'tx_datetime is not in column name list'\n",
    "    assert 'low' in prc_ohlc.columns, 'low is not in column name list'\n",
    "    assert 'high' in prc_ohlc.columns, 'high is not in column name list'\n",
    "    \n",
    "    df_prc = prc_ohlc[['tx_datetime']].copy()\n",
    "    window = prc_ohlc[['close']].rolling(window=2*N+1, center=True, min_periods=(N+1)+1)\n",
    "    df_prc['N'] = N\n",
    "    df_prc['is_turnpt_upward'] = (prc_ohlc.close == window.min().close).astype(int)\n",
    "    df_prc['is_turnpt_downward'] = (prc_ohlc.close == window.max().close).astype(int)\n",
    "    df_prc['is_turnpt'] = df_prc.is_turnpt_upward + df_prc.is_turnpt_downward * (-1)\n",
    "    return df_prc\n",
    "\n",
    "def get_combined_turnpt(df_turnpt_ohlc):\n",
    "    def get_extreme(df_same):\n",
    "        direction = df_same.is_turnpt.unique()\n",
    "        assert len(direction) == 1, 'should be only 1 direction'\n",
    "        direction = direction[0]\n",
    "        if direction == 1:\n",
    "            idx_candidate = df_same.close.values.argmin()\n",
    "        elif direction == -1:\n",
    "            idx_candidate = df_same.close.values.argmax()\n",
    "        df_extreme = df_same.iloc[[idx_candidate]]\n",
    "        return df_extreme\n",
    "    \n",
    "    df = df_turnpt_ohlc.query('is_turnpt != 0').reset_index(drop=True)\n",
    "    df['same_direction'] = np.where((df.is_turnpt * df.is_turnpt.shift(1)) == -1, 1, 0).cumsum()\n",
    "    df_turnpt_combined = df.groupby('same_direction', as_index=False).apply(get_extreme).reset_index(drop=True)\n",
    "    \n",
    "    if df_turnpt_combined.empty:\n",
    "        return pd.DataFrame(columns=df_turnpt_ohlc.columns)\n",
    "    \n",
    "    common_columns = ['tx_datetime', 'N']\n",
    "    df_turnpt_combined = df_turnpt_combined[common_columns+['is_turnpt_upward', 'is_turnpt_downward', 'is_turnpt']]\n",
    "    df_turnpt_ohlc = df_turnpt_ohlc[common_columns + [col for col in df_turnpt_ohlc.columns if col not in df_turnpt_combined.columns]]\n",
    "    df_turnpt_ohlc_combined = df_turnpt_ohlc.merge(df_turnpt_combined, on=common_columns, how='left')\n",
    "    return df_turnpt_ohlc_combined\n",
    "\n",
    "def plot_turnpt(df_turnpt_ohlc, N):\n",
    "    df_plot = df_turnpt_ohlc.copy()\n",
    "    df_plot.set_index('tx_datetime', inplace=True)\n",
    "    def find_loc(df, dates):\n",
    "        return [df.index.get_loc(date) for date in dates]\n",
    "    \n",
    "    dates_upward = df_plot.query(f'(N == {N}) and (is_turnpt_upward==1)').index\n",
    "    df_plot.close.plot.line(figsize=(20, 5), color='white', markevery=find_loc(df_plot, dates_upward), marker='^', markerfacecolor='red', markeredgewidth=0.0)\n",
    "\n",
    "    dates_downward = df_plot.query(f'(N == {N}) and (is_turnpt_downward==1)').index\n",
    "    df_plot.close.plot.line(figsize=(20, 5), color='black', markevery=find_loc(df_plot, dates_downward), marker='v', markerfacecolor='green', markeredgewidth=0.0)\n",
    "    plt.title(f'N: {N}')\n",
    "    \n",
    "\n",
    "def get_turnpt_magnitude(df_turnpt, N):\n",
    "    def get_prc_diff(dt_start, dt_end):\n",
    "        if dt_end is np.nan:\n",
    "            return np.nan\n",
    "        prc_start = df_turnpt[df_turnpt.tx_datetime.isin([dt_start])].close.values[0]\n",
    "        prc_end = df_turnpt[df_turnpt.tx_datetime.isin([dt_end])].close.values[0]\n",
    "        prc_diff = prc_end - prc_start\n",
    "        return prc_diff\n",
    "    idx_columns = ['tx_datetime', 'maturity']\n",
    "\n",
    "    df_m = df_turnpt.query(f'(N == {N}) and (is_turnpt != 0)')[idx_columns].copy()\n",
    "    df_m['next_dt_turnpt'] = df_m.tx_datetime.shift(-1).fillna(df_m.tx_datetime.max())#.fillna(df_m.maturity.max())\n",
    "    df_m['prc_diff'] = df_m.apply(lambda x: get_prc_diff(x.tx_datetime, x.next_dt_turnpt), axis=1)\n",
    "    df_m['duration'] = (df_m.next_dt_turnpt - df_m.tx_datetime).dt.days\n",
    "    df_m['slope'] = df_m.prc_diff.div(df_m.duration)\n",
    "    df_m = df_turnpt.merge(df_m, on = idx_columns, how= 'left')    \n",
    "    return df_m"
   ]
  },
  {
   "cell_type": "code",
   "execution_count": 8,
   "metadata": {},
   "outputs": [],
   "source": [
    "def get_df_turnpt_measures(N):\n",
    "    df_ohlc = get_daily_TXF_OHLC()\n",
    "    df_turnpt = (\n",
    "        df_ohlc.\n",
    "        groupby('maturity', as_index=False).apply(lambda x: get_marked_turnpt(x, N)).\n",
    "        merge(df_ohlc, on='tx_datetime', how='left').\n",
    "        groupby('maturity', as_index=False).apply(get_combined_turnpt).\n",
    "        groupby('maturity', as_index=False).apply(lambda x: get_turnpt_magnitude(x, N))\n",
    "    )\n",
    "    return df_turnpt\n",
    "\n",
    "def analysis(df):\n",
    "    df = df.query('turn == 1').copy()\n",
    "    df_res = pd.DataFrame(index=[0])\n",
    "    df_res['n_turn'] = df.shape[0]\n",
    "    df_res['prc_diff'] = df.prc_diff.mean()\n",
    "    df_res['duration'] = df.duration.mean()\n",
    "    df_res['slope'] = df.slope.mean()\n",
    "    return df_res\n",
    "\n",
    "def plot_measure(df_turnpt_measures):\n",
    "    assert df_turnpt_measures.N.nunique() == 1, 'df_turnpt should have only 1 N'\n",
    "    N = df_turnpt_measures.N.iloc[0]\n",
    "    df_analysis = pd.melt(df_turnpt_measures, id_vars=[col for col in df_turnpt_measures.columns if col not in ['is_turnpt_upward', 'is_turnpt_downward']], var_name = 'direction', value_name='turn')\n",
    "    idx_columns = ['N', 'direction', 'day_to_maturity']\n",
    "    df_summary = df_analysis.groupby(idx_columns).apply(analysis).reset_index(idx_columns)\n",
    "    for col in df_summary.columns:\n",
    "        if col in idx_columns:\n",
    "            continue\n",
    "        df_summary.set_index(['direction', 'day_to_maturity'])[col].unstack('direction').plot.bar(figsize=(15, 5), title=f'{col} at N={N}')\n",
    "    plt.show()"
   ]
  },
  {
   "cell_type": "code",
   "execution_count": 17,
   "metadata": {},
   "outputs": [
    {
     "name": "stdout",
     "output_type": "stream",
     "text": [
      "transformed OHLCV at frequency 1D\n",
      "reading cache of TXF in 1D OHLCV\n"
     ]
    }
   ],
   "source": [
    "# # test \n",
    "# df_ohlc = get_daily_TXF_OHLC()\n",
    "# n1_upward = df_ohlc.groupby('maturity', as_index=False).apply(lambda x: get_marked_turnpt(x, 1)).is_turnpt_upward.sum()\n",
    "# n2_upward = df_ohlc.groupby('maturity', as_index=False).apply(lambda x: get_marked_turnpt(x, 2)).is_turnpt_upward.sum()\n",
    "# assert n1_upward == 457 and n2_upward == 256"
   ]
  },
  {
   "cell_type": "code",
   "execution_count": 12,
   "metadata": {},
   "outputs": [],
   "source": [
    "if __name__ == '__main__':\n",
    "    dfs = {N: get_df_turnpt_measures(N) for N in [1, 2, 3, 5, 10]}\n",
    "    plot_measure(dfs[1])\n",
    "    plot_measure(dfs[2])"
   ]
  },
  {
   "cell_type": "markdown",
   "metadata": {},
   "source": [
    "# which N is the best?\n",
    "- check trading opportunity"
   ]
  },
  {
   "cell_type": "code",
   "execution_count": null,
   "metadata": {},
   "outputs": [],
   "source": []
  }
 ],
 "metadata": {
  "jupytext": {
   "formats": "ipynb,py:percent"
  },
  "kernelspec": {
   "display_name": "Python 3",
   "language": "python",
   "name": "python3"
  },
  "language_info": {
   "codemirror_mode": {
    "name": "ipython",
    "version": 3
   },
   "file_extension": ".py",
   "mimetype": "text/x-python",
   "name": "python",
   "nbconvert_exporter": "python",
   "pygments_lexer": "ipython3",
   "version": "3.8.0"
  }
 },
 "nbformat": 4,
 "nbformat_minor": 4
}
