{
 "cells": [
  {
   "cell_type": "code",
   "execution_count": 168,
   "metadata": {},
   "outputs": [],
   "source": [
    "%reload_ext autoreload\n",
    "%autoreload 2\n",
    "%matplotlib inline"
   ]
  },
  {
   "cell_type": "code",
   "execution_count": 2,
   "metadata": {},
   "outputs": [],
   "source": [
    "from IPython.core.interactiveshell import InteractiveShell\n",
    "InteractiveShell.ast_node_interactivity = \"all\""
   ]
  },
  {
   "cell_type": "code",
   "execution_count": 3,
   "metadata": {},
   "outputs": [],
   "source": [
    "import itertools "
   ]
  },
  {
   "cell_type": "code",
   "execution_count": 4,
   "metadata": {},
   "outputs": [
    {
     "data": {
      "text/plain": [
       "True"
      ]
     },
     "execution_count": 4,
     "metadata": {},
     "output_type": "execute_result"
    },
    {
     "name": "stdout",
     "output_type": "stream",
     "text": [
      "DolphinDB available tables:\n"
     ]
    },
    {
     "data": {
      "text/plain": [
       "array(['dfs://dailyETF/dailyETF', 'dfs://dailyOptions/dailyOptionsBasic',\n",
       "       'dfs://dailyStock/dailyStockBasic',\n",
       "       'dfs://dailyStock/dailyStockCapitalReduction',\n",
       "       'dfs://dailyStock/dailyStockCompanies',\n",
       "       'dfs://dailyStock/dailyStockDealers',\n",
       "       'dfs://dailyStock/dailyStockForeign',\n",
       "       'dfs://dailyStock/dailyStockForeignShare',\n",
       "       'dfs://dailyStock/dailyStockMargin',\n",
       "       'dfs://dailyStock/dailyStockRightDividend',\n",
       "       'dfs://dailyStock/dailyStockRightDividendComp',\n",
       "       'dfs://dailyStock/dailyStockShortSale',\n",
       "       'dfs://dailyStock/dailyStockShortSaleBalance',\n",
       "       'dfs://dailyStock/dailyStockShortSaleVolume',\n",
       "       'dfs://dailyStock/dailyStockTradeDay',\n",
       "       'dfs://daily_stock/dailyStock',\n",
       "       'dfs://daily_stock_margin/dailyStockMargin',\n",
       "       'dfs://daily_tfe/tickTFE', 'dfs://feature/indicator',\n",
       "       'dfs://futTaifex/futTaifex',\n",
       "       'dfs://test_indicator_tfe/testIndicator'], dtype='<U44')"
      ]
     },
     "execution_count": 4,
     "metadata": {},
     "output_type": "execute_result"
    }
   ],
   "source": [
    "import dolphindb\n",
    "sess = dolphindb.session()\n",
    "sess.connect(\"localhost\", 8868, \"admin\", \"123456\")\n",
    "print('DolphinDB available tables:')\n",
    "sess.run('getClusterDFSTables()')"
   ]
  },
  {
   "cell_type": "code",
   "execution_count": 5,
   "metadata": {},
   "outputs": [],
   "source": [
    "import sys\n",
    "import numpy as np\n",
    "import pandas as pd\n",
    "import matplotlib.pylab as plt"
   ]
  },
  {
   "cell_type": "code",
   "execution_count": 6,
   "metadata": {},
   "outputs": [],
   "source": [
    "import config as cfg"
   ]
  },
  {
   "cell_type": "code",
   "execution_count": 7,
   "metadata": {},
   "outputs": [
    {
     "name": "stderr",
     "output_type": "stream",
     "text": [
      "/home/cyyen/miniconda3/envs/stock_path_tracker/lib/python3.8/site-packages/IPython/core/interactiveshell.py:3343: FutureWarning: The read_msgpack is deprecated and will be removed in a future version.\n",
      "It is recommended to use pyarrow for on-the-wire transmission of pandas objects.\n",
      "  exec(code_obj, self.user_global_ns, self.user_ns)\n"
     ]
    },
    {
     "data": {
      "text/html": [
       "<div>\n",
       "<style scoped>\n",
       "    .dataframe tbody tr th:only-of-type {\n",
       "        vertical-align: middle;\n",
       "    }\n",
       "\n",
       "    .dataframe tbody tr th {\n",
       "        vertical-align: top;\n",
       "    }\n",
       "\n",
       "    .dataframe thead th {\n",
       "        text-align: right;\n",
       "    }\n",
       "</style>\n",
       "<table border=\"1\" class=\"dataframe\">\n",
       "  <thead>\n",
       "    <tr style=\"text-align: right;\">\n",
       "      <th></th>\n",
       "      <th>open</th>\n",
       "      <th>high</th>\n",
       "      <th>low</th>\n",
       "      <th>close</th>\n",
       "      <th>order_buy</th>\n",
       "      <th>order_sell</th>\n",
       "      <th>volume</th>\n",
       "    </tr>\n",
       "    <tr>\n",
       "      <th>date</th>\n",
       "      <th></th>\n",
       "      <th></th>\n",
       "      <th></th>\n",
       "      <th></th>\n",
       "      <th></th>\n",
       "      <th></th>\n",
       "      <th></th>\n",
       "    </tr>\n",
       "  </thead>\n",
       "  <tbody>\n",
       "    <tr>\n",
       "      <th>2005-07-11</th>\n",
       "      <td>6255.40</td>\n",
       "      <td>6305.61</td>\n",
       "      <td>6249.41</td>\n",
       "      <td>6298.86</td>\n",
       "      <td>88271.0</td>\n",
       "      <td>98780.0</td>\n",
       "      <td>93877.0</td>\n",
       "    </tr>\n",
       "    <tr>\n",
       "      <th>2005-07-12</th>\n",
       "      <td>6337.50</td>\n",
       "      <td>6365.76</td>\n",
       "      <td>6337.50</td>\n",
       "      <td>6358.81</td>\n",
       "      <td>86565.0</td>\n",
       "      <td>111912.0</td>\n",
       "      <td>101703.0</td>\n",
       "    </tr>\n",
       "    <tr>\n",
       "      <th>2005-07-13</th>\n",
       "      <td>6360.60</td>\n",
       "      <td>6406.99</td>\n",
       "      <td>6352.21</td>\n",
       "      <td>6377.09</td>\n",
       "      <td>80802.0</td>\n",
       "      <td>120531.0</td>\n",
       "      <td>106134.0</td>\n",
       "    </tr>\n",
       "    <tr>\n",
       "      <th>2005-07-14</th>\n",
       "      <td>6403.08</td>\n",
       "      <td>6427.32</td>\n",
       "      <td>6375.75</td>\n",
       "      <td>6418.35</td>\n",
       "      <td>92496.0</td>\n",
       "      <td>114781.0</td>\n",
       "      <td>106806.0</td>\n",
       "    </tr>\n",
       "    <tr>\n",
       "      <th>2005-07-15</th>\n",
       "      <td>6428.44</td>\n",
       "      <td>6454.33</td>\n",
       "      <td>6410.59</td>\n",
       "      <td>6410.59</td>\n",
       "      <td>88827.0</td>\n",
       "      <td>124306.0</td>\n",
       "      <td>106727.0</td>\n",
       "    </tr>\n",
       "  </tbody>\n",
       "</table>\n",
       "</div>"
      ],
      "text/plain": [
       "               open     high      low    close  order_buy  order_sell  \\\n",
       "date                                                                    \n",
       "2005-07-11  6255.40  6305.61  6249.41  6298.86    88271.0     98780.0   \n",
       "2005-07-12  6337.50  6365.76  6337.50  6358.81    86565.0    111912.0   \n",
       "2005-07-13  6360.60  6406.99  6352.21  6377.09    80802.0    120531.0   \n",
       "2005-07-14  6403.08  6427.32  6375.75  6418.35    92496.0    114781.0   \n",
       "2005-07-15  6428.44  6454.33  6410.59  6410.59    88827.0    124306.0   \n",
       "\n",
       "              volume  \n",
       "date                  \n",
       "2005-07-11   93877.0  \n",
       "2005-07-12  101703.0  \n",
       "2005-07-13  106134.0  \n",
       "2005-07-14  106806.0  \n",
       "2005-07-15  106727.0  "
      ]
     },
     "execution_count": 7,
     "metadata": {},
     "output_type": "execute_result"
    }
   ],
   "source": [
    "#TODO: switch to ddb twse index \n",
    "twse = pd.read_msgpack('/data/dataset/twse.msgpack')\n",
    "twse.head()"
   ]
  },
  {
   "cell_type": "markdown",
   "metadata": {},
   "source": [
    "# quantization: 2012-11-22 ~ 2020-04-15\n",
    "- TODO: add maturity dates before December 2012\n",
    "- size of cell: 100 \n",
    "- rounding: take floor"
   ]
  },
  {
   "cell_type": "code",
   "execution_count": 8,
   "metadata": {},
   "outputs": [],
   "source": [
    "df = twse[cfg.D_START:][['close']].copy()\n",
    "df['close_prev'] = df.close.shift(1)"
   ]
  },
  {
   "cell_type": "code",
   "execution_count": 9,
   "metadata": {},
   "outputs": [],
   "source": [
    "df['prc_qtz'] = df.close_prev // cfg.SIZE_CELL * cfg.SIZE_CELL\n",
    "df['delta'] = df.prc_qtz.diff()"
   ]
  },
  {
   "cell_type": "code",
   "execution_count": 10,
   "metadata": {},
   "outputs": [],
   "source": [
    "settlements = pd.to_datetime(pd.read_csv('settlement_txf.csv').settlement).dt.date.tolist()\n",
    "df['maturity'] = df.index.where(df.index.isin(settlements)).to_series().fillna(method='bfill').values\n",
    "d2m = df.groupby('maturity').size().sort_index().tolist()\n",
    "df['d2m'] = sum([list(reversed(range(d))) for d in d2m], []) + [np.nan] * (df.shape[0] - sum(d2m))\n",
    "df = df[cfg.D_START: cfg.D_END]\n",
    "\n",
    "df.dropna(inplace=True)\n",
    "df.sort_index(ascending=True, inplace=True)"
   ]
  },
  {
   "cell_type": "markdown",
   "metadata": {},
   "source": [
    "## example: 2015-07-01 ~ 2015-07-14"
   ]
  },
  {
   "cell_type": "code",
   "execution_count": 159,
   "metadata": {},
   "outputs": [
    {
     "data": {
      "text/plain": [
       "<matplotlib.axes._subplots.AxesSubplot at 0x7f46851f8c70>"
      ]
     },
     "execution_count": 159,
     "metadata": {},
     "output_type": "execute_result"
    },
    {
     "data": {
      "image/png": "[encoded data removed]",
      "text/plain": [
       "<Figure size 432x288 with 1 Axes>"
      ]
     },
     "metadata": {
      "needs_background": "light"
     },
     "output_type": "display_data"
    }
   ],
   "source": [
    "# vis\n",
    "d_start, d_end = '2015-07-01', '2015-07-14'\n",
    "df_plot = df[d_start: d_end]\n",
    "ax = df_plot[['close_prev']].plot(title=f'TWSE Index: {d_start} ~ {d_end}')\n",
    "df_plot[['prc_qtz']].plot(drawstyle='steps', ax=ax)"
   ]
  },
  {
   "cell_type": "markdown",
   "metadata": {},
   "source": [
    "# Distribution of changes in cell"
   ]
  },
  {
   "cell_type": "markdown",
   "metadata": {},
   "source": [
    "## histogram "
   ]
  },
  {
   "cell_type": "code",
   "execution_count": 12,
   "metadata": {},
   "outputs": [
    {
     "data": {
      "text/plain": [
       "Text(0.5, 1.0, '#(cells)')"
      ]
     },
     "execution_count": 12,
     "metadata": {},
     "output_type": "execute_result"
    },
    {
     "data": {
      "image/png": "[encoded data removed]",
      "text/plain": [
       "<Figure size 432x288 with 1 Axes>"
      ]
     },
     "metadata": {
      "needs_background": "light"
     },
     "output_type": "display_data"
    }
   ],
   "source": [
    "ax = df.delta.div(cfg.SIZE_CELL).hist()\n",
    "ax.set_title('#(cells)')"
   ]
  },
  {
   "cell_type": "markdown",
   "metadata": {},
   "source": [
    "## quantile"
   ]
  },
  {
   "cell_type": "code",
   "execution_count": 13,
   "metadata": {},
   "outputs": [
    {
     "data": {
      "text/html": [
       "<div>\n",
       "<style scoped>\n",
       "    .dataframe tbody tr th:only-of-type {\n",
       "        vertical-align: middle;\n",
       "    }\n",
       "\n",
       "    .dataframe tbody tr th {\n",
       "        vertical-align: top;\n",
       "    }\n",
       "\n",
       "    .dataframe thead th {\n",
       "        text-align: right;\n",
       "    }\n",
       "</style>\n",
       "<table border=\"1\" class=\"dataframe\">\n",
       "  <thead>\n",
       "    <tr style=\"text-align: right;\">\n",
       "      <th></th>\n",
       "      <th>min</th>\n",
       "      <th>2.5%</th>\n",
       "      <th>25%</th>\n",
       "      <th>median</th>\n",
       "      <th>75%</th>\n",
       "      <th>97.5%</th>\n",
       "      <th>max</th>\n",
       "    </tr>\n",
       "  </thead>\n",
       "  <tbody>\n",
       "    <tr>\n",
       "      <th>delta</th>\n",
       "      <td>-6.0</td>\n",
       "      <td>-2.0</td>\n",
       "      <td>0.0</td>\n",
       "      <td>0.0</td>\n",
       "      <td>1.0</td>\n",
       "      <td>1.0</td>\n",
       "      <td>3.0</td>\n",
       "    </tr>\n",
       "  </tbody>\n",
       "</table>\n",
       "</div>"
      ],
      "text/plain": [
       "       min  2.5%  25%  median  75%  97.5%  max\n",
       "delta -6.0  -2.0  0.0     0.0  1.0    1.0  3.0"
      ]
     },
     "execution_count": 13,
     "metadata": {},
     "output_type": "execute_result"
    }
   ],
   "source": [
    "df_quantile = df.delta.div(cfg.SIZE_CELL).quantile([0, 0.025, 0.25, 0.5, 0.75, 0.975, 1]).to_frame('delta').T\n",
    "df_quantile.columns = ['min', \"2.5%\", '25%', 'median', '75%', '97.5%', 'max']\n",
    "df_quantile"
   ]
  },
  {
   "cell_type": "markdown",
   "metadata": {},
   "source": [
    "## extreme cases"
   ]
  },
  {
   "cell_type": "code",
   "execution_count": 14,
   "metadata": {},
   "outputs": [
    {
     "data": {
      "text/html": [
       "<div>\n",
       "<style scoped>\n",
       "    .dataframe tbody tr th:only-of-type {\n",
       "        vertical-align: middle;\n",
       "    }\n",
       "\n",
       "    .dataframe tbody tr th {\n",
       "        vertical-align: top;\n",
       "    }\n",
       "\n",
       "    .dataframe thead th {\n",
       "        text-align: right;\n",
       "    }\n",
       "</style>\n",
       "<table border=\"1\" class=\"dataframe\">\n",
       "  <thead>\n",
       "    <tr style=\"text-align: right;\">\n",
       "      <th></th>\n",
       "      <th>close</th>\n",
       "      <th>close_prev</th>\n",
       "      <th>prc_qtz</th>\n",
       "      <th>delta</th>\n",
       "      <th>maturity</th>\n",
       "      <th>d2m</th>\n",
       "    </tr>\n",
       "    <tr>\n",
       "      <th>date</th>\n",
       "      <th></th>\n",
       "      <th></th>\n",
       "      <th></th>\n",
       "      <th></th>\n",
       "      <th></th>\n",
       "      <th></th>\n",
       "    </tr>\n",
       "  </thead>\n",
       "  <tbody>\n",
       "    <tr>\n",
       "      <th>2018-02-22</th>\n",
       "      <td>10662.38</td>\n",
       "      <td>10714.44</td>\n",
       "      <td>10700.0</td>\n",
       "      <td>300.0</td>\n",
       "      <td>2018-03-21</td>\n",
       "      <td>18.0</td>\n",
       "    </tr>\n",
       "    <tr>\n",
       "      <th>2018-11-01</th>\n",
       "      <td>9844.74</td>\n",
       "      <td>9802.13</td>\n",
       "      <td>9800.0</td>\n",
       "      <td>300.0</td>\n",
       "      <td>2018-11-21</td>\n",
       "      <td>14.0</td>\n",
       "    </tr>\n",
       "    <tr>\n",
       "      <th>2018-12-04</th>\n",
       "      <td>10083.54</td>\n",
       "      <td>10137.87</td>\n",
       "      <td>10100.0</td>\n",
       "      <td>300.0</td>\n",
       "      <td>2018-12-19</td>\n",
       "      <td>11.0</td>\n",
       "    </tr>\n",
       "  </tbody>\n",
       "</table>\n",
       "</div>"
      ],
      "text/plain": [
       "               close  close_prev  prc_qtz  delta   maturity   d2m\n",
       "date                                                             \n",
       "2018-02-22  10662.38    10714.44  10700.0  300.0 2018-03-21  18.0\n",
       "2018-11-01   9844.74     9802.13   9800.0  300.0 2018-11-21  14.0\n",
       "2018-12-04  10083.54    10137.87  10100.0  300.0 2018-12-19  11.0"
      ]
     },
     "execution_count": 14,
     "metadata": {},
     "output_type": "execute_result"
    }
   ],
   "source": [
    "df_extreme_pos = df.query(f'(delta > 2*{cfg.SIZE_CELL})')\n",
    "df_extreme_pos.sort_index()"
   ]
  },
  {
   "cell_type": "code",
   "execution_count": 15,
   "metadata": {},
   "outputs": [
    {
     "data": {
      "text/html": [
       "<div>\n",
       "<style scoped>\n",
       "    .dataframe tbody tr th:only-of-type {\n",
       "        vertical-align: middle;\n",
       "    }\n",
       "\n",
       "    .dataframe tbody tr th {\n",
       "        vertical-align: top;\n",
       "    }\n",
       "\n",
       "    .dataframe thead th {\n",
       "        text-align: right;\n",
       "    }\n",
       "</style>\n",
       "<table border=\"1\" class=\"dataframe\">\n",
       "  <thead>\n",
       "    <tr style=\"text-align: right;\">\n",
       "      <th></th>\n",
       "      <th>close</th>\n",
       "      <th>close_prev</th>\n",
       "      <th>prc_qtz</th>\n",
       "      <th>delta</th>\n",
       "      <th>maturity</th>\n",
       "      <th>d2m</th>\n",
       "    </tr>\n",
       "    <tr>\n",
       "      <th>date</th>\n",
       "      <th></th>\n",
       "      <th></th>\n",
       "      <th></th>\n",
       "      <th></th>\n",
       "      <th></th>\n",
       "      <th></th>\n",
       "    </tr>\n",
       "  </thead>\n",
       "  <tbody>\n",
       "    <tr>\n",
       "      <th>2015-07-09</th>\n",
       "      <td>8914.13</td>\n",
       "      <td>8976.11</td>\n",
       "      <td>8900.0</td>\n",
       "      <td>-300.0</td>\n",
       "      <td>2015-07-15</td>\n",
       "      <td>3.0</td>\n",
       "    </tr>\n",
       "    <tr>\n",
       "      <th>2015-08-24</th>\n",
       "      <td>7410.34</td>\n",
       "      <td>7786.92</td>\n",
       "      <td>7700.0</td>\n",
       "      <td>-300.0</td>\n",
       "      <td>2015-09-16</td>\n",
       "      <td>17.0</td>\n",
       "    </tr>\n",
       "    <tr>\n",
       "      <th>2015-08-25</th>\n",
       "      <td>7675.64</td>\n",
       "      <td>7410.34</td>\n",
       "      <td>7400.0</td>\n",
       "      <td>-300.0</td>\n",
       "      <td>2015-09-16</td>\n",
       "      <td>16.0</td>\n",
       "    </tr>\n",
       "    <tr>\n",
       "      <th>2016-11-10</th>\n",
       "      <td>9152.18</td>\n",
       "      <td>8943.20</td>\n",
       "      <td>8900.0</td>\n",
       "      <td>-300.0</td>\n",
       "      <td>2016-11-16</td>\n",
       "      <td>4.0</td>\n",
       "    </tr>\n",
       "    <tr>\n",
       "      <th>2018-02-07</th>\n",
       "      <td>10551.54</td>\n",
       "      <td>10404.00</td>\n",
       "      <td>10400.0</td>\n",
       "      <td>-500.0</td>\n",
       "      <td>2018-02-21</td>\n",
       "      <td>4.0</td>\n",
       "    </tr>\n",
       "    <tr>\n",
       "      <th>2018-10-12</th>\n",
       "      <td>10045.81</td>\n",
       "      <td>9806.11</td>\n",
       "      <td>9800.0</td>\n",
       "      <td>-600.0</td>\n",
       "      <td>2018-10-17</td>\n",
       "      <td>3.0</td>\n",
       "    </tr>\n",
       "    <tr>\n",
       "      <th>2018-12-07</th>\n",
       "      <td>9760.88</td>\n",
       "      <td>9684.72</td>\n",
       "      <td>9600.0</td>\n",
       "      <td>-300.0</td>\n",
       "      <td>2018-12-19</td>\n",
       "      <td>8.0</td>\n",
       "    </tr>\n",
       "  </tbody>\n",
       "</table>\n",
       "</div>"
      ],
      "text/plain": [
       "               close  close_prev  prc_qtz  delta   maturity   d2m\n",
       "date                                                             \n",
       "2015-07-09   8914.13     8976.11   8900.0 -300.0 2015-07-15   3.0\n",
       "2015-08-24   7410.34     7786.92   7700.0 -300.0 2015-09-16  17.0\n",
       "2015-08-25   7675.64     7410.34   7400.0 -300.0 2015-09-16  16.0\n",
       "2016-11-10   9152.18     8943.20   8900.0 -300.0 2016-11-16   4.0\n",
       "2018-02-07  10551.54    10404.00  10400.0 -500.0 2018-02-21   4.0\n",
       "2018-10-12  10045.81     9806.11   9800.0 -600.0 2018-10-17   3.0\n",
       "2018-12-07   9760.88     9684.72   9600.0 -300.0 2018-12-19   8.0"
      ]
     },
     "execution_count": 15,
     "metadata": {},
     "output_type": "execute_result"
    }
   ],
   "source": [
    "df_extreme_neg = df.query(f'(delta < -2*{cfg.SIZE_CELL})')\n",
    "df_extreme_neg.sort_index()"
   ]
  },
  {
   "cell_type": "markdown",
   "metadata": {},
   "source": [
    "## other figures in the slides"
   ]
  },
  {
   "cell_type": "code",
   "execution_count": 165,
   "metadata": {},
   "outputs": [
    {
     "name": "stderr",
     "output_type": "stream",
     "text": [
      "<ipython-input-165-5b195cbacb59>:1: FutureWarning: The read_msgpack is deprecated and will be removed in a future version.\n",
      "It is recommended to use pyarrow for on-the-wire transmission of pandas objects.\n",
      "  df = get_df()\n"
     ]
    }
   ],
   "source": [
    "df = get_df()"
   ]
  },
  {
   "cell_type": "code",
   "execution_count": 195,
   "metadata": {},
   "outputs": [
    {
     "data": {
      "text/html": [
       "<div>\n",
       "<style scoped>\n",
       "    .dataframe tbody tr th:only-of-type {\n",
       "        vertical-align: middle;\n",
       "    }\n",
       "\n",
       "    .dataframe tbody tr th {\n",
       "        vertical-align: top;\n",
       "    }\n",
       "\n",
       "    .dataframe thead th {\n",
       "        text-align: right;\n",
       "    }\n",
       "</style>\n",
       "<table border=\"1\" class=\"dataframe\">\n",
       "  <thead>\n",
       "    <tr style=\"text-align: right;\">\n",
       "      <th>delta_cell</th>\n",
       "      <th>-2.0</th>\n",
       "      <th>-1.0</th>\n",
       "      <th>0.0</th>\n",
       "      <th>1.0</th>\n",
       "      <th>2.0</th>\n",
       "    </tr>\n",
       "  </thead>\n",
       "  <tbody>\n",
       "    <tr>\n",
       "      <th>prob</th>\n",
       "      <td>0.035391</td>\n",
       "      <td>0.190123</td>\n",
       "      <td>0.50535</td>\n",
       "      <td>0.246914</td>\n",
       "      <td>0.022222</td>\n",
       "    </tr>\n",
       "  </tbody>\n",
       "</table>\n",
       "</div>"
      ],
      "text/plain": [
       "delta_cell      -2.0      -1.0      0.0       1.0       2.0\n",
       "prob        0.035391  0.190123  0.50535  0.246914  0.022222"
      ]
     },
     "execution_count": 195,
     "metadata": {},
     "output_type": "execute_result"
    }
   ],
   "source": [
    "df_prob_plot = (df.groupby('delta_cell').size() / df.shape[0]).to_frame('prob').T\n",
    "df_prob_plot"
   ]
  },
  {
   "cell_type": "code",
   "execution_count": 201,
   "metadata": {},
   "outputs": [
    {
     "data": {
      "text/plain": [
       "<matplotlib.axes._subplots.AxesSubplot at 0x7f467bd48d60>"
      ]
     },
     "execution_count": 201,
     "metadata": {},
     "output_type": "execute_result"
    },
    {
     "data": {
      "image/png": "[encoded data removed]",
      "text/plain": [
       "<Figure size 432x288 with 1 Axes>"
      ]
     },
     "metadata": {
      "needs_background": "light"
     },
     "output_type": "display_data"
    }
   ],
   "source": [
    "df_prob_plot.T.plot(kind='bar', width=1)"
   ]
  },
  {
   "cell_type": "markdown",
   "metadata": {},
   "source": [
    "# compute joint probabilty"
   ]
  },
  {
   "cell_type": "markdown",
   "metadata": {},
   "source": [
    "- currently only calcualte for $\\tau \\leq 9$, because of huge computing demand and memory"
   ]
  },
  {
   "cell_type": "markdown",
   "metadata": {},
   "source": [
    "# Cost distribution\n",
    "- $OptPrc_t$: the settlePrice of t-1"
   ]
  },
  {
   "cell_type": "markdown",
   "metadata": {},
   "source": [
    "# Profit"
   ]
  },
  {
   "cell_type": "code",
   "execution_count": 205,
   "metadata": {},
   "outputs": [
    {
     "data": {
      "text/html": [
       "<div>\n",
       "<style scoped>\n",
       "    .dataframe tbody tr th:only-of-type {\n",
       "        vertical-align: middle;\n",
       "    }\n",
       "\n",
       "    .dataframe tbody tr th {\n",
       "        vertical-align: top;\n",
       "    }\n",
       "\n",
       "    .dataframe thead th {\n",
       "        text-align: right;\n",
       "    }\n",
       "</style>\n",
       "<table border=\"1\" class=\"dataframe\">\n",
       "  <thead>\n",
       "    <tr style=\"text-align: right;\">\n",
       "      <th></th>\n",
       "      <th>d2m</th>\n",
       "      <th>lambd</th>\n",
       "      <th>opt_price</th>\n",
       "    </tr>\n",
       "  </thead>\n",
       "  <tbody>\n",
       "    <tr>\n",
       "      <th>0</th>\n",
       "      <td>0.0</td>\n",
       "      <td>-33.0</td>\n",
       "      <td>3350.0</td>\n",
       "    </tr>\n",
       "    <tr>\n",
       "      <th>1</th>\n",
       "      <td>0.0</td>\n",
       "      <td>-32.0</td>\n",
       "      <td>3250.0</td>\n",
       "    </tr>\n",
       "    <tr>\n",
       "      <th>2</th>\n",
       "      <td>0.0</td>\n",
       "      <td>-31.0</td>\n",
       "      <td>3145.0</td>\n",
       "    </tr>\n",
       "    <tr>\n",
       "      <th>3</th>\n",
       "      <td>0.0</td>\n",
       "      <td>-30.0</td>\n",
       "      <td>3045.0</td>\n",
       "    </tr>\n",
       "    <tr>\n",
       "      <th>4</th>\n",
       "      <td>0.0</td>\n",
       "      <td>-29.0</td>\n",
       "      <td>2945.0</td>\n",
       "    </tr>\n",
       "    <tr>\n",
       "      <th>5</th>\n",
       "      <td>0.0</td>\n",
       "      <td>-28.0</td>\n",
       "      <td>2850.0</td>\n",
       "    </tr>\n",
       "    <tr>\n",
       "      <th>6</th>\n",
       "      <td>0.0</td>\n",
       "      <td>-27.0</td>\n",
       "      <td>2750.0</td>\n",
       "    </tr>\n",
       "    <tr>\n",
       "      <th>7</th>\n",
       "      <td>0.0</td>\n",
       "      <td>-26.0</td>\n",
       "      <td>2650.0</td>\n",
       "    </tr>\n",
       "    <tr>\n",
       "      <th>8</th>\n",
       "      <td>0.0</td>\n",
       "      <td>-25.0</td>\n",
       "      <td>2550.0</td>\n",
       "    </tr>\n",
       "    <tr>\n",
       "      <th>9</th>\n",
       "      <td>0.0</td>\n",
       "      <td>-24.0</td>\n",
       "      <td>2450.0</td>\n",
       "    </tr>\n",
       "  </tbody>\n",
       "</table>\n",
       "</div>"
      ],
      "text/plain": [
       "   d2m  lambd  opt_price\n",
       "0  0.0  -33.0     3350.0\n",
       "1  0.0  -32.0     3250.0\n",
       "2  0.0  -31.0     3145.0\n",
       "3  0.0  -30.0     3045.0\n",
       "4  0.0  -29.0     2945.0\n",
       "5  0.0  -28.0     2850.0\n",
       "6  0.0  -27.0     2750.0\n",
       "7  0.0  -26.0     2650.0\n",
       "8  0.0  -25.0     2550.0\n",
       "9  0.0  -24.0     2450.0"
      ]
     },
     "execution_count": 205,
     "metadata": {},
     "output_type": "execute_result"
    }
   ],
   "source": [
    "df_cost = get_cost(df, cfg.CUTOFF_COST)\n",
    "df_cost = df_cost[df_cost.lambd.map(lambda x: x.is_integer())]\n",
    "df_cost.head(10)"
   ]
  },
  {
   "cell_type": "markdown",
   "metadata": {},
   "source": [
    "# Optimization"
   ]
  },
  {
   "cell_type": "code",
   "execution_count": 16,
   "metadata": {},
   "outputs": [],
   "source": [
    "from optimize import *"
   ]
  },
  {
   "cell_type": "code",
   "execution_count": 17,
   "metadata": {},
   "outputs": [
    {
     "name": "stderr",
     "output_type": "stream",
     "text": [
      "<ipython-input-17-f52f42a393ce>:1: FutureWarning: The read_msgpack is deprecated and will be removed in a future version.\n",
      "It is recommended to use pyarrow for on-the-wire transmission of pandas objects.\n",
      "  df = get_df()\n"
     ]
    }
   ],
   "source": [
    "df = get_df()\n",
    "prob_delta_cell = get_prob_single_day(df)\n",
    "df_cost = get_cost(df, cfg.CUTOFF_COST)"
   ]
  },
  {
   "cell_type": "code",
   "execution_count": 18,
   "metadata": {},
   "outputs": [
    {
     "name": "stdout",
     "output_type": "stream",
     "text": [
      "64.0 29.0\n"
     ]
    },
    {
     "data": {
      "text/plain": [
       "-22.025193985344337"
      ]
     },
     "execution_count": 18,
     "metadata": {},
     "output_type": "execute_result"
    }
   ],
   "source": [
    "var_lambda, var_tau = 2, 8\n",
    "optimize(var_lambda, var_tau, df_cost, prob_delta_cell)"
   ]
  },
  {
   "cell_type": "markdown",
   "metadata": {},
   "source": [
    "# try brute force"
   ]
  },
  {
   "cell_type": "code",
   "execution_count": 19,
   "metadata": {},
   "outputs": [],
   "source": [
    "%reload_ext autoreload\n",
    "%autoreload 2\n",
    "%matplotlib inline"
   ]
  },
  {
   "cell_type": "code",
   "execution_count": 20,
   "metadata": {},
   "outputs": [],
   "source": [
    "import matplotlib.pylab as plt\n",
    "from matplotlib.ticker import MaxNLocator"
   ]
  },
  {
   "cell_type": "code",
   "execution_count": 21,
   "metadata": {},
   "outputs": [],
   "source": [
    "from optimize import *\n",
    "import config as cfg"
   ]
  },
  {
   "cell_type": "code",
   "execution_count": 22,
   "metadata": {},
   "outputs": [],
   "source": [
    "n_tau = 10\n",
    "n_lambd = 10\n",
    "cutoff_cost = cfg.CUTOFF_COST"
   ]
  },
  {
   "cell_type": "code",
   "execution_count": 23,
   "metadata": {},
   "outputs": [
    {
     "name": "stderr",
     "output_type": "stream",
     "text": [
      "<ipython-input-23-5b195cbacb59>:1: FutureWarning: The read_msgpack is deprecated and will be removed in a future version.\n",
      "It is recommended to use pyarrow for on-the-wire transmission of pandas objects.\n",
      "  df = get_df()\n"
     ]
    }
   ],
   "source": [
    "df = get_df()"
   ]
  },
  {
   "cell_type": "code",
   "execution_count": 24,
   "metadata": {},
   "outputs": [],
   "source": [
    "PROB = np.zeros((n_tau, n_lambd))\n",
    "prob_delta_cell = get_prob_single_day(df)\n",
    "for var_tau in range(n_tau):\n",
    "    for var_lambda in range(n_lambd):\n",
    "        PROB[var_tau, var_lambda] = get_realizations(var_lambda, var_tau).pipe(get_prob, prob_delta_cell)"
   ]
  },
  {
   "cell_type": "code",
   "execution_count": 25,
   "metadata": {},
   "outputs": [],
   "source": [
    "PROFIT = np.array([cal_profit(var_lambda) for var_lambda in range(n_lambd)]).reshape(1, n_lambd)"
   ]
  },
  {
   "cell_type": "code",
   "execution_count": 26,
   "metadata": {},
   "outputs": [],
   "source": [
    "df_cost = get_cost(df, cutoff_cost)\n",
    "df_cost = df_cost[df_cost.lambd.map(lambda x: x.is_integer())]\n",
    "COST = df_cost.query(f'(d2m<{n_tau}) and (0 <= lambd < {n_lambd})').pivot(index='d2m', columns='lambd', values='opt_price').to_numpy()"
   ]
  },
  {
   "cell_type": "code",
   "execution_count": 180,
   "metadata": {},
   "outputs": [
    {
     "data": {
      "text/html": [
       "<div>\n",
       "<style scoped>\n",
       "    .dataframe tbody tr th:only-of-type {\n",
       "        vertical-align: middle;\n",
       "    }\n",
       "\n",
       "    .dataframe tbody tr th {\n",
       "        vertical-align: top;\n",
       "    }\n",
       "\n",
       "    .dataframe thead th {\n",
       "        text-align: right;\n",
       "    }\n",
       "</style>\n",
       "<table border=\"1\" class=\"dataframe\">\n",
       "  <thead>\n",
       "    <tr style=\"text-align: right;\">\n",
       "      <th></th>\n",
       "      <th>tau</th>\n",
       "      <th>lambd</th>\n",
       "      <th>prob</th>\n",
       "    </tr>\n",
       "  </thead>\n",
       "  <tbody>\n",
       "    <tr>\n",
       "      <th>0</th>\n",
       "      <td>0</td>\n",
       "      <td>0</td>\n",
       "      <td>0.505350</td>\n",
       "    </tr>\n",
       "    <tr>\n",
       "      <th>1</th>\n",
       "      <td>0</td>\n",
       "      <td>1</td>\n",
       "      <td>0.246914</td>\n",
       "    </tr>\n",
       "    <tr>\n",
       "      <th>2</th>\n",
       "      <td>0</td>\n",
       "      <td>2</td>\n",
       "      <td>0.022222</td>\n",
       "    </tr>\n",
       "    <tr>\n",
       "      <th>3</th>\n",
       "      <td>0</td>\n",
       "      <td>3</td>\n",
       "      <td>0.000000</td>\n",
       "    </tr>\n",
       "    <tr>\n",
       "      <th>4</th>\n",
       "      <td>0</td>\n",
       "      <td>4</td>\n",
       "      <td>0.000000</td>\n",
       "    </tr>\n",
       "    <tr>\n",
       "      <th>...</th>\n",
       "      <td>...</td>\n",
       "      <td>...</td>\n",
       "      <td>...</td>\n",
       "    </tr>\n",
       "    <tr>\n",
       "      <th>95</th>\n",
       "      <td>9</td>\n",
       "      <td>5</td>\n",
       "      <td>0.029279</td>\n",
       "    </tr>\n",
       "    <tr>\n",
       "      <th>96</th>\n",
       "      <td>9</td>\n",
       "      <td>6</td>\n",
       "      <td>0.012906</td>\n",
       "    </tr>\n",
       "    <tr>\n",
       "      <th>97</th>\n",
       "      <td>9</td>\n",
       "      <td>7</td>\n",
       "      <td>0.004798</td>\n",
       "    </tr>\n",
       "    <tr>\n",
       "      <th>98</th>\n",
       "      <td>9</td>\n",
       "      <td>8</td>\n",
       "      <td>0.001499</td>\n",
       "    </tr>\n",
       "    <tr>\n",
       "      <th>99</th>\n",
       "      <td>9</td>\n",
       "      <td>9</td>\n",
       "      <td>0.000392</td>\n",
       "    </tr>\n",
       "  </tbody>\n",
       "</table>\n",
       "<p>100 rows × 3 columns</p>\n",
       "</div>"
      ],
      "text/plain": [
       "    tau  lambd      prob\n",
       "0     0      0  0.505350\n",
       "1     0      1  0.246914\n",
       "2     0      2  0.022222\n",
       "3     0      3  0.000000\n",
       "4     0      4  0.000000\n",
       "..  ...    ...       ...\n",
       "95    9      5  0.029279\n",
       "96    9      6  0.012906\n",
       "97    9      7  0.004798\n",
       "98    9      8  0.001499\n",
       "99    9      9  0.000392\n",
       "\n",
       "[100 rows x 3 columns]"
      ]
     },
     "execution_count": 180,
     "metadata": {},
     "output_type": "execute_result"
    }
   ],
   "source": [
    "pd.DataFrame(PROB).stack().reset_index().rename(columns={'level_0': 'tau', 'level_1': 'lambd', 0: 'prob'})"
   ]
  },
  {
   "cell_type": "code",
   "execution_count": 182,
   "metadata": {},
   "outputs": [
    {
     "data": {
      "text/html": [
       "<div>\n",
       "<style scoped>\n",
       "    .dataframe tbody tr th:only-of-type {\n",
       "        vertical-align: middle;\n",
       "    }\n",
       "\n",
       "    .dataframe tbody tr th {\n",
       "        vertical-align: top;\n",
       "    }\n",
       "\n",
       "    .dataframe thead th {\n",
       "        text-align: right;\n",
       "    }\n",
       "</style>\n",
       "<table border=\"1\" class=\"dataframe\">\n",
       "  <thead>\n",
       "    <tr style=\"text-align: right;\">\n",
       "      <th></th>\n",
       "      <th>tau</th>\n",
       "      <th>lambd</th>\n",
       "      <th>cost</th>\n",
       "    </tr>\n",
       "  </thead>\n",
       "  <tbody>\n",
       "    <tr>\n",
       "      <th>0</th>\n",
       "      <td>0</td>\n",
       "      <td>0</td>\n",
       "      <td>56.50</td>\n",
       "    </tr>\n",
       "    <tr>\n",
       "      <th>1</th>\n",
       "      <td>0</td>\n",
       "      <td>1</td>\n",
       "      <td>9.45</td>\n",
       "    </tr>\n",
       "    <tr>\n",
       "      <th>2</th>\n",
       "      <td>0</td>\n",
       "      <td>2</td>\n",
       "      <td>0.70</td>\n",
       "    </tr>\n",
       "    <tr>\n",
       "      <th>3</th>\n",
       "      <td>0</td>\n",
       "      <td>3</td>\n",
       "      <td>0.30</td>\n",
       "    </tr>\n",
       "    <tr>\n",
       "      <th>4</th>\n",
       "      <td>0</td>\n",
       "      <td>4</td>\n",
       "      <td>0.20</td>\n",
       "    </tr>\n",
       "    <tr>\n",
       "      <th>5</th>\n",
       "      <td>0</td>\n",
       "      <td>5</td>\n",
       "      <td>0.20</td>\n",
       "    </tr>\n",
       "    <tr>\n",
       "      <th>6</th>\n",
       "      <td>0</td>\n",
       "      <td>6</td>\n",
       "      <td>0.10</td>\n",
       "    </tr>\n",
       "    <tr>\n",
       "      <th>7</th>\n",
       "      <td>0</td>\n",
       "      <td>7</td>\n",
       "      <td>0.10</td>\n",
       "    </tr>\n",
       "    <tr>\n",
       "      <th>8</th>\n",
       "      <td>0</td>\n",
       "      <td>8</td>\n",
       "      <td>0.10</td>\n",
       "    </tr>\n",
       "    <tr>\n",
       "      <th>9</th>\n",
       "      <td>0</td>\n",
       "      <td>9</td>\n",
       "      <td>0.10</td>\n",
       "    </tr>\n",
       "  </tbody>\n",
       "</table>\n",
       "</div>"
      ],
      "text/plain": [
       "   tau  lambd   cost\n",
       "0    0      0  56.50\n",
       "1    0      1   9.45\n",
       "2    0      2   0.70\n",
       "3    0      3   0.30\n",
       "4    0      4   0.20\n",
       "5    0      5   0.20\n",
       "6    0      6   0.10\n",
       "7    0      7   0.10\n",
       "8    0      8   0.10\n",
       "9    0      9   0.10"
      ]
     },
     "execution_count": 182,
     "metadata": {},
     "output_type": "execute_result"
    }
   ],
   "source": [
    "pd.DataFrame(COST).stack().reset_index().rename(columns={'level_0': 'tau', 'level_1': 'lambd', 0: 'cost'}).head(10)"
   ]
  },
  {
   "cell_type": "code",
   "execution_count": 176,
   "metadata": {},
   "outputs": [
    {
     "data": {
      "text/html": [
       "<div>\n",
       "<style scoped>\n",
       "    .dataframe tbody tr th:only-of-type {\n",
       "        vertical-align: middle;\n",
       "    }\n",
       "\n",
       "    .dataframe tbody tr th {\n",
       "        vertical-align: top;\n",
       "    }\n",
       "\n",
       "    .dataframe thead th {\n",
       "        text-align: right;\n",
       "    }\n",
       "</style>\n",
       "<table border=\"1\" class=\"dataframe\">\n",
       "  <thead>\n",
       "    <tr style=\"text-align: right;\">\n",
       "      <th></th>\n",
       "      <th>0</th>\n",
       "      <th>1</th>\n",
       "      <th>2</th>\n",
       "      <th>3</th>\n",
       "      <th>4</th>\n",
       "      <th>5</th>\n",
       "      <th>6</th>\n",
       "      <th>7</th>\n",
       "      <th>8</th>\n",
       "      <th>9</th>\n",
       "    </tr>\n",
       "  </thead>\n",
       "  <tbody>\n",
       "    <tr>\n",
       "      <th>0</th>\n",
       "      <td>-100</td>\n",
       "      <td>0</td>\n",
       "      <td>100</td>\n",
       "      <td>200</td>\n",
       "      <td>300</td>\n",
       "      <td>400</td>\n",
       "      <td>500</td>\n",
       "      <td>600</td>\n",
       "      <td>700</td>\n",
       "      <td>800</td>\n",
       "    </tr>\n",
       "  </tbody>\n",
       "</table>\n",
       "</div>"
      ],
      "text/plain": [
       "     0  1    2    3    4    5    6    7    8    9\n",
       "0 -100  0  100  200  300  400  500  600  700  800"
      ]
     },
     "execution_count": 176,
     "metadata": {},
     "output_type": "execute_result"
    }
   ],
   "source": [
    "pd.DataFrame(PROFIT)"
   ]
  },
  {
   "cell_type": "code",
   "execution_count": 183,
   "metadata": {},
   "outputs": [
    {
     "data": {
      "text/plain": [
       "<matplotlib.colorbar.Colorbar at 0x7f467b96a9a0>"
      ]
     },
     "execution_count": 183,
     "metadata": {},
     "output_type": "execute_result"
    },
    {
     "data": {
      "image/png": "[encoded data removed]",
      "text/plain": [
       "<Figure size 432x288 with 2 Axes>"
      ]
     },
     "metadata": {
      "needs_background": "light"
     },
     "output_type": "display_data"
    },
    {
     "data": {
      "image/png": "[encoded data removed]",
      "text/plain": [
       "<Figure size 432x288 with 2 Axes>"
      ]
     },
     "metadata": {
      "needs_background": "light"
     },
     "output_type": "display_data"
    }
   ],
   "source": [
    "ax_cost = plt.figure().gca()\n",
    "cs_cost = ax_cost.contourf(COST, extend='both')\n",
    "ax_cost.xaxis.set_major_locator(MaxNLocator(integer=True))\n",
    "plt.colorbar(cs_cost)\n",
    "_ = plt.xlabel('$\\lambda$')\n",
    "_ = plt.ylabel('$\\\\tau$')\n",
    "_ = plt.title(f'Cost($\\\\tau$, $\\lambda$) \\n using {cfg.CUTOFF_COST*100:.0f} percentile historical cost')\n",
    "plt.show()\n",
    "\n",
    "# prob\n",
    "ax_prob = plt.figure().gca()\n",
    "cs_prob = ax_prob.contourf(PROB, extend='both')\n",
    "ax_prob.xaxis.set_major_locator(MaxNLocator(integer=True))\n",
    "_ = plt.colorbar(cs_prob)\n",
    "_ = plt.xlabel('$\\lambda$')\n",
    "_ = plt.ylabel('$\\\\tau$')\n",
    "_ = plt.title('Probability($\\\\tau$, $\\lambda$)')\n",
    "plt.show()"
   ]
  },
  {
   "cell_type": "code",
   "execution_count": 28,
   "metadata": {},
   "outputs": [
    {
     "name": "stdout",
     "output_type": "stream",
     "text": [
      "9 4\n"
     ]
    }
   ],
   "source": [
    "obj = np.zeros((n_tau, n_lambd))\n",
    "for tau in range(n_tau):\n",
    "    for lambd in range(n_lambd):\n",
    "        obj[tau, lambd] = PROB[tau, lambd] * PROFIT[0, lambd] - COST[tau, lambd]\n",
    "tau_star, lambd_star = obj.argmax()//n_lambd, obj.argmax() % n_lambd\n",
    "print(tau_star, lambd_star)"
   ]
  },
  {
   "cell_type": "code",
   "execution_count": 29,
   "metadata": {},
   "outputs": [
    {
     "data": {
      "image/png": "[encoded data removed]",
      "text/plain": [
       "<Figure size 432x288 with 2 Axes>"
      ]
     },
     "metadata": {
      "needs_background": "light"
     },
     "output_type": "display_data"
    }
   ],
   "source": [
    "ax_obj = plt.figure().gca()\n",
    "cs_obj = ax_obj.contourf(obj, levels=np.arange(obj.min()//10*10, (obj.max()//10+1)*10,10), extend='both')\n",
    "ax_obj.xaxis.set_major_locator(MaxNLocator(integer=True))\n",
    "_ = plt.colorbar(cs_obj)\n",
    "_ = plt.xlabel('$\\lambda$')\n",
    "_ = plt.ylabel('$\\\\tau$')\n",
    "_ = plt.title('Objective($\\\\tau$, $\\lambda$)')\n",
    "plt.show()"
   ]
  },
  {
   "cell_type": "code",
   "execution_count": 30,
   "metadata": {},
   "outputs": [],
   "source": [
    "df_obj = pd.DataFrame(obj).sort_index(ascending=False)\n",
    "df_policy = pd.DataFrame({\n",
    "    \"tau\": df_obj.index.astype(int),\n",
    "    \"lambd\": df_obj.idxmax(axis=1).astype(int),\n",
    "    \"PnL\": df_obj.max(axis=1)\n",
    "})"
   ]
  },
  {
   "cell_type": "code",
   "execution_count": 31,
   "metadata": {},
   "outputs": [
    {
     "data": {
      "image/png": "[encoded data removed]",
      "text/plain": [
       "<Figure size 504x504 with 2 Axes>"
      ]
     },
     "metadata": {
      "needs_background": "light"
     },
     "output_type": "display_data"
    }
   ],
   "source": [
    "# optimal lambda given tau\n",
    "fig, (ax_policy, ax_pnl) = plt.subplots(2,1,figsize=(7,7), sharex=True)\n",
    "_ = ax_policy.plot(df_policy.tau, df_policy.lambd)\n",
    "_ = ax_policy.set_ylim(0, df_policy.lambd.max()+1)\n",
    "_ = ax_policy.set_xlabel('$\\\\tau$')\n",
    "_ = ax_policy.set_ylabel('$\\lambda^*$')\n",
    "_ = ax_policy.set_title('policy function($\\\\tau$)')\n",
    "\n",
    "# pnl given optimal lambda\n",
    "_ = ax_pnl.plot(df_policy.tau, df_policy.PnL)\n",
    "_ = ax_pnl.set_ylim(0, df_policy.PnL.max()+1)\n",
    "_ = ax_pnl.set_xlabel('$\\\\tau$')\n",
    "_ = ax_pnl.set_ylabel('model PnL')\n",
    "_ = ax_pnl.set_title('model PnL ($\\\\tau$| $\\\\lambda^*$)')\n",
    "\n",
    "for ax in [ax_policy, ax_pnl]:\n",
    "    _ = ax.xaxis.set_major_locator(MaxNLocator(integer=True))\n",
    "    _ = ax.yaxis.set_major_locator(MaxNLocator(integer=True))"
   ]
  },
  {
   "cell_type": "markdown",
   "metadata": {},
   "source": [
    "# backtest\n",
    "- ~~buy at ask / sell at bid~~\n",
    "- purchase at bid and sell at ask\n",
    "- payoff($\\tau$) = min(max($p_0$ - $pstrike_{\\tau-1}$, 0), 100) - ($pc(bid)_{\\lambda^*, \\tau-1}$-$pc(ask)_{\\lambda^*+1, \\tau-1}$)\n",
    "    - limitation: 成本用前一天的收盤 option 價格\n",
    "    - if no price at that strike, ignore the rows"
   ]
  },
  {
   "cell_type": "code",
   "execution_count": 32,
   "metadata": {},
   "outputs": [
    {
     "data": {
      "text/plain": [
       "True"
      ]
     },
     "execution_count": 32,
     "metadata": {},
     "output_type": "execute_result"
    }
   ],
   "source": [
    "import dolphindb\n",
    "sess = dolphindb.session()\n",
    "sess.connect(\"localhost\", 8868, \"admin\", \"123456\")\n",
    "sess.run('''\n",
    "dailyOptionsBasic = loadTable(\"dfs://dailyOptions\", `dailyOptionsBasic);\n",
    "txo = select * from dailyOptionsBasic where Contract==`TXO order by Date asc;\n",
    "''')"
   ]
  },
  {
   "cell_type": "code",
   "execution_count": 157,
   "metadata": {},
   "outputs": [],
   "source": [
    "def get_PnL_given_tau_lambda(df, tau, lambd):\n",
    "    df_backtest = df.query(f'(d2m=={tau})').maturity.reset_index()\n",
    "    df_backtest['tau'] = tau\n",
    "    df_backtest['lambd'] = lambd\n",
    "    df_backtest = df_backtest.merge(df.close.reset_index().rename(columns={'date': 'maturity', 'close': 'prc_maturity'}), on='maturity', how='left')\n",
    "    df_backtest = df_backtest.merge(df.prc_qtz.reset_index().rename(columns={'prc_qtz': 'prc_base'}), on='date', how='left')\n",
    "    df_backtest['prc_strike'] = df_backtest.prc_base + df_backtest.lambd * cfg.SIZE_CELL\n",
    "    df_backtest = pd.DataFrame([add_opt_purchase_sell_prc(row) for idx, row in df_backtest.iterrows()])\n",
    "    df_backtest.head()\n",
    "\n",
    "    missing_ratio = 1-df_backtest[['tau', 'lambd','date', 'prc_maturity', 'prc_strike', 'prc_opt_purchase', 'prc_opt_sell']].dropna().shape[0] / df_backtest.shape[0]\n",
    "    print(f'\\n[INFO][(tau, lambda) = ({tau}, {lambd})] there are {missing_ratio*100:.2f}% missing due to no option price at the strikes we want')\n",
    "\n",
    "    df_pnl_real = df_backtest[['tau', 'lambd','date', 'prc_maturity', 'prc_strike', 'prc_opt_purchase', 'prc_opt_sell']].dropna()\n",
    "    df_pnl_real['profit'] = (df_pnl_real.prc_maturity - df_pnl_real.prc_strike).map(lambda x: min(max(x, 0), cfg.SIZE_CELL)) \n",
    "    df_pnl_real['cost'] = df_pnl_real.prc_opt_purchase - df_pnl_real.prc_opt_sell\n",
    "    df_pnl_real['PnL'] = df_pnl_real.profit - df_pnl_real.cost\n",
    "    df_pnl_real[['tau', 'lambd', 'profit', 'cost', 'PnL']]\n",
    "    return df_pnl_real"
   ]
  },
  {
   "cell_type": "code",
   "execution_count": 164,
   "metadata": {},
   "outputs": [
    {
     "name": "stderr",
     "output_type": "stream",
     "text": [
      "<ipython-input-164-05242ab36b4b>:1: FutureWarning: The read_msgpack is deprecated and will be removed in a future version.\n",
      "It is recommended to use pyarrow for on-the-wire transmission of pandas objects.\n",
      "  df = get_df()\n"
     ]
    },
    {
     "name": "stdout",
     "output_type": "stream",
     "text": [
      "\n",
      "[INFO][(tau, lambda) = (0, 0)] there are 26.67% missing due to no option price at the strikes we want\n",
      "\n",
      "[INFO][(tau, lambda) = (0, 1)] there are 26.67% missing due to no option price at the strikes we want\n",
      "\n",
      "[INFO][(tau, lambda) = (0, 2)] there are 26.67% missing due to no option price at the strikes we want\n",
      "\n",
      "[INFO][(tau, lambda) = (0, 3)] there are 38.33% missing due to no option price at the strikes we want\n",
      "\n",
      "[INFO][(tau, lambda) = (0, 4)] there are 40.00% missing due to no option price at the strikes we want\n",
      "\n",
      "[INFO][(tau, lambda) = (0, 5)] there are 53.33% missing due to no option price at the strikes we want\n",
      "\n",
      "[INFO][(tau, lambda) = (0, 6)] there are 56.67% missing due to no option price at the strikes we want\n",
      "\n",
      "[INFO][(tau, lambda) = (0, 7)] there are 61.67% missing due to no option price at the strikes we want\n",
      "\n",
      "[INFO][(tau, lambda) = (0, 8)] there are 68.33% missing due to no option price at the strikes we want\n",
      "\n",
      "[INFO][(tau, lambda) = (0, 9)] there are 75.00% missing due to no option price at the strikes we want\n",
      "\n",
      "[INFO][(tau, lambda) = (1, 0)] there are 15.00% missing due to no option price at the strikes we want\n",
      "\n",
      "[INFO][(tau, lambda) = (1, 1)] there are 16.67% missing due to no option price at the strikes we want\n",
      "\n",
      "[INFO][(tau, lambda) = (1, 2)] there are 15.00% missing due to no option price at the strikes we want\n",
      "\n",
      "[INFO][(tau, lambda) = (1, 3)] there are 16.67% missing due to no option price at the strikes we want\n",
      "\n",
      "[INFO][(tau, lambda) = (1, 4)] there are 28.33% missing due to no option price at the strikes we want\n",
      "\n",
      "[INFO][(tau, lambda) = (1, 5)] there are 33.33% missing due to no option price at the strikes we want\n",
      "\n",
      "[INFO][(tau, lambda) = (1, 6)] there are 36.67% missing due to no option price at the strikes we want\n",
      "\n",
      "[INFO][(tau, lambda) = (1, 7)] there are 45.00% missing due to no option price at the strikes we want\n",
      "\n",
      "[INFO][(tau, lambda) = (1, 8)] there are 53.33% missing due to no option price at the strikes we want\n",
      "\n",
      "[INFO][(tau, lambda) = (1, 9)] there are 66.67% missing due to no option price at the strikes we want\n",
      "\n",
      "[INFO][(tau, lambda) = (2, 0)] there are 20.00% missing due to no option price at the strikes we want\n",
      "\n",
      "[INFO][(tau, lambda) = (2, 1)] there are 20.00% missing due to no option price at the strikes we want\n",
      "\n",
      "[INFO][(tau, lambda) = (2, 2)] there are 20.00% missing due to no option price at the strikes we want\n",
      "\n",
      "[INFO][(tau, lambda) = (2, 3)] there are 20.00% missing due to no option price at the strikes we want\n",
      "\n",
      "[INFO][(tau, lambda) = (2, 4)] there are 26.67% missing due to no option price at the strikes we want\n",
      "\n",
      "[INFO][(tau, lambda) = (2, 5)] there are 38.33% missing due to no option price at the strikes we want\n",
      "\n",
      "[INFO][(tau, lambda) = (2, 6)] there are 45.00% missing due to no option price at the strikes we want\n",
      "\n",
      "[INFO][(tau, lambda) = (2, 7)] there are 55.00% missing due to no option price at the strikes we want\n",
      "\n",
      "[INFO][(tau, lambda) = (2, 8)] there are 58.33% missing due to no option price at the strikes we want\n",
      "\n",
      "[INFO][(tau, lambda) = (2, 9)] there are 63.33% missing due to no option price at the strikes we want\n",
      "\n",
      "[INFO][(tau, lambda) = (3, 0)] there are 28.33% missing due to no option price at the strikes we want\n",
      "\n",
      "[INFO][(tau, lambda) = (3, 1)] there are 28.33% missing due to no option price at the strikes we want\n",
      "\n",
      "[INFO][(tau, lambda) = (3, 2)] there are 30.00% missing due to no option price at the strikes we want\n",
      "\n",
      "[INFO][(tau, lambda) = (3, 3)] there are 30.00% missing due to no option price at the strikes we want\n",
      "\n",
      "[INFO][(tau, lambda) = (3, 4)] there are 35.00% missing due to no option price at the strikes we want\n",
      "\n",
      "[INFO][(tau, lambda) = (3, 5)] there are 43.33% missing due to no option price at the strikes we want\n",
      "\n",
      "[INFO][(tau, lambda) = (3, 6)] there are 50.00% missing due to no option price at the strikes we want\n",
      "\n",
      "[INFO][(tau, lambda) = (3, 7)] there are 55.00% missing due to no option price at the strikes we want\n",
      "\n",
      "[INFO][(tau, lambda) = (3, 8)] there are 58.33% missing due to no option price at the strikes we want\n",
      "\n",
      "[INFO][(tau, lambda) = (3, 9)] there are 70.00% missing due to no option price at the strikes we want\n",
      "\n",
      "[INFO][(tau, lambda) = (4, 0)] there are 40.00% missing due to no option price at the strikes we want\n",
      "\n",
      "[INFO][(tau, lambda) = (4, 1)] there are 40.00% missing due to no option price at the strikes we want\n",
      "\n",
      "[INFO][(tau, lambda) = (4, 2)] there are 40.00% missing due to no option price at the strikes we want\n",
      "\n",
      "[INFO][(tau, lambda) = (4, 3)] there are 45.00% missing due to no option price at the strikes we want\n",
      "\n",
      "[INFO][(tau, lambda) = (4, 4)] there are 46.67% missing due to no option price at the strikes we want\n",
      "\n",
      "[INFO][(tau, lambda) = (4, 5)] there are 51.67% missing due to no option price at the strikes we want\n",
      "\n",
      "[INFO][(tau, lambda) = (4, 6)] there are 55.00% missing due to no option price at the strikes we want\n",
      "\n",
      "[INFO][(tau, lambda) = (4, 7)] there are 61.67% missing due to no option price at the strikes we want\n",
      "\n",
      "[INFO][(tau, lambda) = (4, 8)] there are 71.67% missing due to no option price at the strikes we want\n",
      "\n",
      "[INFO][(tau, lambda) = (4, 9)] there are 75.00% missing due to no option price at the strikes we want\n",
      "\n",
      "[INFO][(tau, lambda) = (5, 0)] there are 40.00% missing due to no option price at the strikes we want\n",
      "\n",
      "[INFO][(tau, lambda) = (5, 1)] there are 41.67% missing due to no option price at the strikes we want\n",
      "\n",
      "[INFO][(tau, lambda) = (5, 2)] there are 43.33% missing due to no option price at the strikes we want\n",
      "\n",
      "[INFO][(tau, lambda) = (5, 3)] there are 46.67% missing due to no option price at the strikes we want\n",
      "\n",
      "[INFO][(tau, lambda) = (5, 4)] there are 50.00% missing due to no option price at the strikes we want\n",
      "\n",
      "[INFO][(tau, lambda) = (5, 5)] there are 56.67% missing due to no option price at the strikes we want\n",
      "\n",
      "[INFO][(tau, lambda) = (5, 6)] there are 63.33% missing due to no option price at the strikes we want\n",
      "\n",
      "[INFO][(tau, lambda) = (5, 7)] there are 65.00% missing due to no option price at the strikes we want\n",
      "\n",
      "[INFO][(tau, lambda) = (5, 8)] there are 71.67% missing due to no option price at the strikes we want\n",
      "\n",
      "[INFO][(tau, lambda) = (5, 9)] there are 76.67% missing due to no option price at the strikes we want\n",
      "\n",
      "[INFO][(tau, lambda) = (6, 0)] there are 40.00% missing due to no option price at the strikes we want\n",
      "\n",
      "[INFO][(tau, lambda) = (6, 1)] there are 41.67% missing due to no option price at the strikes we want\n",
      "\n",
      "[INFO][(tau, lambda) = (6, 2)] there are 43.33% missing due to no option price at the strikes we want\n",
      "\n",
      "[INFO][(tau, lambda) = (6, 3)] there are 43.33% missing due to no option price at the strikes we want\n",
      "\n",
      "[INFO][(tau, lambda) = (6, 4)] there are 50.00% missing due to no option price at the strikes we want\n",
      "\n",
      "[INFO][(tau, lambda) = (6, 5)] there are 55.00% missing due to no option price at the strikes we want\n",
      "\n",
      "[INFO][(tau, lambda) = (6, 6)] there are 55.00% missing due to no option price at the strikes we want\n",
      "\n",
      "[INFO][(tau, lambda) = (6, 7)] there are 63.33% missing due to no option price at the strikes we want\n",
      "\n",
      "[INFO][(tau, lambda) = (6, 8)] there are 66.67% missing due to no option price at the strikes we want\n",
      "\n",
      "[INFO][(tau, lambda) = (6, 9)] there are 73.33% missing due to no option price at the strikes we want\n",
      "\n",
      "[INFO][(tau, lambda) = (7, 0)] there are 41.67% missing due to no option price at the strikes we want\n",
      "\n",
      "[INFO][(tau, lambda) = (7, 1)] there are 41.67% missing due to no option price at the strikes we want\n",
      "\n",
      "[INFO][(tau, lambda) = (7, 2)] there are 45.00% missing due to no option price at the strikes we want\n",
      "\n",
      "[INFO][(tau, lambda) = (7, 3)] there are 45.00% missing due to no option price at the strikes we want\n",
      "\n",
      "[INFO][(tau, lambda) = (7, 4)] there are 50.00% missing due to no option price at the strikes we want\n",
      "\n",
      "[INFO][(tau, lambda) = (7, 5)] there are 53.33% missing due to no option price at the strikes we want\n",
      "\n",
      "[INFO][(tau, lambda) = (7, 6)] there are 60.00% missing due to no option price at the strikes we want\n",
      "\n",
      "[INFO][(tau, lambda) = (7, 7)] there are 68.33% missing due to no option price at the strikes we want\n",
      "\n",
      "[INFO][(tau, lambda) = (7, 8)] there are 73.33% missing due to no option price at the strikes we want\n",
      "\n",
      "[INFO][(tau, lambda) = (7, 9)] there are 73.33% missing due to no option price at the strikes we want\n",
      "\n",
      "[INFO][(tau, lambda) = (8, 0)] there are 41.67% missing due to no option price at the strikes we want\n",
      "\n",
      "[INFO][(tau, lambda) = (8, 1)] there are 43.33% missing due to no option price at the strikes we want\n",
      "\n",
      "[INFO][(tau, lambda) = (8, 2)] there are 45.00% missing due to no option price at the strikes we want\n",
      "\n",
      "[INFO][(tau, lambda) = (8, 3)] there are 46.67% missing due to no option price at the strikes we want\n",
      "\n",
      "[INFO][(tau, lambda) = (8, 4)] there are 48.33% missing due to no option price at the strikes we want\n",
      "\n",
      "[INFO][(tau, lambda) = (8, 5)] there are 53.33% missing due to no option price at the strikes we want\n",
      "\n",
      "[INFO][(tau, lambda) = (8, 6)] there are 56.67% missing due to no option price at the strikes we want\n",
      "\n",
      "[INFO][(tau, lambda) = (8, 7)] there are 66.67% missing due to no option price at the strikes we want\n",
      "\n",
      "[INFO][(tau, lambda) = (8, 8)] there are 75.00% missing due to no option price at the strikes we want\n",
      "\n",
      "[INFO][(tau, lambda) = (8, 9)] there are 75.00% missing due to no option price at the strikes we want\n",
      "\n",
      "[INFO][(tau, lambda) = (9, 0)] there are 41.67% missing due to no option price at the strikes we want\n",
      "\n",
      "[INFO][(tau, lambda) = (9, 1)] there are 45.00% missing due to no option price at the strikes we want\n",
      "\n",
      "[INFO][(tau, lambda) = (9, 2)] there are 46.67% missing due to no option price at the strikes we want\n",
      "\n",
      "[INFO][(tau, lambda) = (9, 3)] there are 46.67% missing due to no option price at the strikes we want\n",
      "\n",
      "[INFO][(tau, lambda) = (9, 4)] there are 51.67% missing due to no option price at the strikes we want\n",
      "\n",
      "[INFO][(tau, lambda) = (9, 5)] there are 53.33% missing due to no option price at the strikes we want\n",
      "\n",
      "[INFO][(tau, lambda) = (9, 6)] there are 61.67% missing due to no option price at the strikes we want\n",
      "\n",
      "[INFO][(tau, lambda) = (9, 7)] there are 65.00% missing due to no option price at the strikes we want\n",
      "\n",
      "[INFO][(tau, lambda) = (9, 8)] there are 70.00% missing due to no option price at the strikes we want\n",
      "\n",
      "[INFO][(tau, lambda) = (9, 9)] there are 75.00% missing due to no option price at the strikes we want\n"
     ]
    }
   ],
   "source": [
    "df = get_df()\n",
    "collector_PnL_real = []\n",
    "for tau in range(10):\n",
    "    for lambd in range(10):\n",
    "        df_PnL_sub = get_PnL_given_tau_lambda(df, tau, lambd)\n",
    "        collector_PnL_real.append(df_PnL_sub)\n",
    "df_PnL_real = pd.concat(collector_PnL_real)"
   ]
  },
  {
   "cell_type": "code",
   "execution_count": 170,
   "metadata": {},
   "outputs": [
    {
     "data": {
      "text/plain": [
       "<matplotlib.axes._subplots.AxesSubplot at 0x7f468423f2e0>"
      ]
     },
     "execution_count": 170,
     "metadata": {},
     "output_type": "execute_result"
    },
    {
     "data": {
      "image/png": "[encoded data removed]",
      "text/plain": [
       "<Figure size 720x720 with 1 Axes>"
      ]
     },
     "metadata": {
      "needs_background": "light"
     },
     "output_type": "display_data"
    }
   ],
   "source": [
    "df_PnL_real.boxplot(column='PnL', by='tau', figsize=(10, 10))"
   ]
  },
  {
   "cell_type": "code",
   "execution_count": null,
   "metadata": {},
   "outputs": [],
   "source": []
  },
  {
   "cell_type": "code",
   "execution_count": null,
   "metadata": {},
   "outputs": [],
   "source": []
  },
  {
   "cell_type": "code",
   "execution_count": null,
   "metadata": {},
   "outputs": [],
   "source": []
  },
  {
   "cell_type": "code",
   "execution_count": null,
   "metadata": {},
   "outputs": [],
   "source": []
  }
 ],
 "metadata": {
  "kernelspec": {
   "display_name": "Python 3",
   "language": "python",
   "name": "python3"
  },
  "language_info": {
   "codemirror_mode": {
    "name": "ipython",
    "version": 3
   },
   "file_extension": ".py",
   "mimetype": "text/x-python",
   "name": "python",
   "nbconvert_exporter": "python",
   "pygments_lexer": "ipython3",
   "version": "3.8.0"
  },
  "toc-autonumbering": true
 },
 "nbformat": 4,
 "nbformat_minor": 4
}
