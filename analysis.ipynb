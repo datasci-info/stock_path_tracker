{
 "cells": [
  {
   "cell_type": "code",
   "execution_count": 1,
   "metadata": {},
   "outputs": [],
   "source": [
    "%reload_ext autoreload"
   ]
  },
  {
   "cell_type": "code",
   "execution_count": 2,
   "metadata": {},
   "outputs": [],
   "source": [
    "%matplotlib inline"
   ]
  },
  {
   "cell_type": "code",
   "execution_count": 3,
   "metadata": {},
   "outputs": [],
   "source": [
    "from IPython.core.interactiveshell import InteractiveShell\n",
    "InteractiveShell.ast_node_interactivity = \"all\""
   ]
  },
  {
   "cell_type": "code",
   "execution_count": 4,
   "metadata": {},
   "outputs": [
    {
     "data": {
      "text/plain": [
       "True"
      ]
     },
     "execution_count": 4,
     "metadata": {},
     "output_type": "execute_result"
    }
   ],
   "source": [
    "import dolphindb\n",
    "sess = dolphindb.session()\n",
    "sess.connect(\"localhost\", 8868, \"admin\", \"123456\")"
   ]
  },
  {
   "cell_type": "code",
   "execution_count": 5,
   "metadata": {},
   "outputs": [
    {
     "name": "stdout",
     "output_type": "stream",
     "text": [
      "DolphinDB available tables:\n"
     ]
    },
    {
     "data": {
      "text/plain": [
       "array(['dfs://dailyETF/dailyETF', 'dfs://dailyOptions/dailyOptionsBasic',\n",
       "       'dfs://dailyStock/dailyStockBasic',\n",
       "       'dfs://dailyStock/dailyStockCapitalReduction',\n",
       "       'dfs://dailyStock/dailyStockCompanies',\n",
       "       'dfs://dailyStock/dailyStockDealers',\n",
       "       'dfs://dailyStock/dailyStockForeign',\n",
       "       'dfs://dailyStock/dailyStockForeignShare',\n",
       "       'dfs://dailyStock/dailyStockMargin',\n",
       "       'dfs://dailyStock/dailyStockRightDividend',\n",
       "       'dfs://dailyStock/dailyStockRightDividendComp',\n",
       "       'dfs://dailyStock/dailyStockShortSale',\n",
       "       'dfs://dailyStock/dailyStockShortSaleBalance',\n",
       "       'dfs://dailyStock/dailyStockShortSaleVolume',\n",
       "       'dfs://dailyStock/dailyStockTradeDay',\n",
       "       'dfs://daily_stock/dailyStock',\n",
       "       'dfs://daily_stock_margin/dailyStockMargin',\n",
       "       'dfs://daily_tfe/tickTFE', 'dfs://feature/indicator',\n",
       "       'dfs://futTaifex/futTaifex',\n",
       "       'dfs://test_indicator_tfe/testIndicator'], dtype='<U44')"
      ]
     },
     "execution_count": 5,
     "metadata": {},
     "output_type": "execute_result"
    }
   ],
   "source": [
    "print('DolphinDB available tables:')\n",
    "sess.run('getClusterDFSTables()')"
   ]
  },
  {
   "cell_type": "code",
   "execution_count": 6,
   "metadata": {},
   "outputs": [],
   "source": [
    "import numpy as np\n",
    "import pandas as pd\n",
    "import matplotlib.pylab as plt"
   ]
  },
  {
   "cell_type": "code",
   "execution_count": 7,
   "metadata": {},
   "outputs": [
    {
     "name": "stderr",
     "output_type": "stream",
     "text": [
      "/home/cyyen/miniconda3/envs/stock_path_tracker/lib/python3.8/site-packages/IPython/core/interactiveshell.py:3343: FutureWarning: The read_msgpack is deprecated and will be removed in a future version.\n",
      "It is recommended to use pyarrow for on-the-wire transmission of pandas objects.\n",
      "  exec(code_obj, self.user_global_ns, self.user_ns)\n"
     ]
    },
    {
     "data": {
      "text/html": [
       "<div>\n",
       "<style scoped>\n",
       "    .dataframe tbody tr th:only-of-type {\n",
       "        vertical-align: middle;\n",
       "    }\n",
       "\n",
       "    .dataframe tbody tr th {\n",
       "        vertical-align: top;\n",
       "    }\n",
       "\n",
       "    .dataframe thead th {\n",
       "        text-align: right;\n",
       "    }\n",
       "</style>\n",
       "<table border=\"1\" class=\"dataframe\">\n",
       "  <thead>\n",
       "    <tr style=\"text-align: right;\">\n",
       "      <th></th>\n",
       "      <th>open</th>\n",
       "      <th>high</th>\n",
       "      <th>low</th>\n",
       "      <th>close</th>\n",
       "      <th>order_buy</th>\n",
       "      <th>order_sell</th>\n",
       "      <th>volume</th>\n",
       "    </tr>\n",
       "    <tr>\n",
       "      <th>date</th>\n",
       "      <th></th>\n",
       "      <th></th>\n",
       "      <th></th>\n",
       "      <th></th>\n",
       "      <th></th>\n",
       "      <th></th>\n",
       "      <th></th>\n",
       "    </tr>\n",
       "  </thead>\n",
       "  <tbody>\n",
       "    <tr>\n",
       "      <th>2005-07-11</th>\n",
       "      <td>6255.40</td>\n",
       "      <td>6305.61</td>\n",
       "      <td>6249.41</td>\n",
       "      <td>6298.86</td>\n",
       "      <td>88271.0</td>\n",
       "      <td>98780.0</td>\n",
       "      <td>93877.0</td>\n",
       "    </tr>\n",
       "    <tr>\n",
       "      <th>2005-07-12</th>\n",
       "      <td>6337.50</td>\n",
       "      <td>6365.76</td>\n",
       "      <td>6337.50</td>\n",
       "      <td>6358.81</td>\n",
       "      <td>86565.0</td>\n",
       "      <td>111912.0</td>\n",
       "      <td>101703.0</td>\n",
       "    </tr>\n",
       "    <tr>\n",
       "      <th>2005-07-13</th>\n",
       "      <td>6360.60</td>\n",
       "      <td>6406.99</td>\n",
       "      <td>6352.21</td>\n",
       "      <td>6377.09</td>\n",
       "      <td>80802.0</td>\n",
       "      <td>120531.0</td>\n",
       "      <td>106134.0</td>\n",
       "    </tr>\n",
       "    <tr>\n",
       "      <th>2005-07-14</th>\n",
       "      <td>6403.08</td>\n",
       "      <td>6427.32</td>\n",
       "      <td>6375.75</td>\n",
       "      <td>6418.35</td>\n",
       "      <td>92496.0</td>\n",
       "      <td>114781.0</td>\n",
       "      <td>106806.0</td>\n",
       "    </tr>\n",
       "    <tr>\n",
       "      <th>2005-07-15</th>\n",
       "      <td>6428.44</td>\n",
       "      <td>6454.33</td>\n",
       "      <td>6410.59</td>\n",
       "      <td>6410.59</td>\n",
       "      <td>88827.0</td>\n",
       "      <td>124306.0</td>\n",
       "      <td>106727.0</td>\n",
       "    </tr>\n",
       "  </tbody>\n",
       "</table>\n",
       "</div>"
      ],
      "text/plain": [
       "               open     high      low    close  order_buy  order_sell  \\\n",
       "date                                                                    \n",
       "2005-07-11  6255.40  6305.61  6249.41  6298.86    88271.0     98780.0   \n",
       "2005-07-12  6337.50  6365.76  6337.50  6358.81    86565.0    111912.0   \n",
       "2005-07-13  6360.60  6406.99  6352.21  6377.09    80802.0    120531.0   \n",
       "2005-07-14  6403.08  6427.32  6375.75  6418.35    92496.0    114781.0   \n",
       "2005-07-15  6428.44  6454.33  6410.59  6410.59    88827.0    124306.0   \n",
       "\n",
       "              volume  \n",
       "date                  \n",
       "2005-07-11   93877.0  \n",
       "2005-07-12  101703.0  \n",
       "2005-07-13  106134.0  \n",
       "2005-07-14  106806.0  \n",
       "2005-07-15  106727.0  "
      ]
     },
     "execution_count": 7,
     "metadata": {},
     "output_type": "execute_result"
    }
   ],
   "source": [
    "twse = pd.read_msgpack('/data/dataset/twse.msgpack')\n",
    "twse.head()"
   ]
  },
  {
   "cell_type": "markdown",
   "metadata": {},
   "source": [
    "## quantization\n",
    "- range: 2012-12-03 to 2020-04-15 (nrow: 1,797)\n",
    "- 50 / cell, floor\n",
    "- day-to-maturity"
   ]
  },
  {
   "cell_type": "code",
   "execution_count": 110,
   "metadata": {},
   "outputs": [],
   "source": [
    "df = twse['2012-12-01':][['close']].copy()"
   ]
  },
  {
   "cell_type": "code",
   "execution_count": 111,
   "metadata": {},
   "outputs": [],
   "source": [
    "df['prc_qtz'] = df.close // 50 * 50\n",
    "df['delta'] = df.prc_qtz.diff().shift(-1)"
   ]
  },
  {
   "cell_type": "code",
   "execution_count": 186,
   "metadata": {},
   "outputs": [],
   "source": [
    "settlements = pd.to_datetime(pd.read_csv('settlement_txf.csv').settlement).dt.date.tolist()\n",
    "df['maturity'] = df.index.where(df.index.isin(settlements)).to_series().fillna(method='bfill').values\n",
    "d2m = df.groupby('maturity').size().sort_index().tolist()\n",
    "df['d2m'] = sum([list(reversed(range(d))) for d in d2m], [])\n",
    "\n",
    "df.dropna(inplace=True)\n",
    "df.sort_index(ascending=True, inplace=True)"
   ]
  },
  {
   "cell_type": "code",
   "execution_count": 190,
   "metadata": {},
   "outputs": [
    {
     "name": "stdout",
     "output_type": "stream",
     "text": [
      "<class 'pandas.core.frame.DataFrame'>\n",
      "DatetimeIndex: 1797 entries, 2012-12-03 to 2020-04-15\n",
      "Data columns (total 4 columns):\n",
      "close      1797 non-null float64\n",
      "prc_qtz    1797 non-null float64\n",
      "delta      1797 non-null float64\n",
      "d2m        1797 non-null int64\n",
      "dtypes: float64(3), int64(1)\n",
      "memory usage: 70.2 KB\n"
     ]
    },
    {
     "data": {
      "text/html": [
       "<div>\n",
       "<style scoped>\n",
       "    .dataframe tbody tr th:only-of-type {\n",
       "        vertical-align: middle;\n",
       "    }\n",
       "\n",
       "    .dataframe tbody tr th {\n",
       "        vertical-align: top;\n",
       "    }\n",
       "\n",
       "    .dataframe thead th {\n",
       "        text-align: right;\n",
       "    }\n",
       "</style>\n",
       "<table border=\"1\" class=\"dataframe\">\n",
       "  <thead>\n",
       "    <tr style=\"text-align: right;\">\n",
       "      <th></th>\n",
       "      <th>close</th>\n",
       "      <th>prc_qtz</th>\n",
       "      <th>delta</th>\n",
       "      <th>d2m</th>\n",
       "    </tr>\n",
       "    <tr>\n",
       "      <th>date</th>\n",
       "      <th></th>\n",
       "      <th></th>\n",
       "      <th></th>\n",
       "      <th></th>\n",
       "    </tr>\n",
       "  </thead>\n",
       "  <tbody>\n",
       "    <tr>\n",
       "      <th>2012-12-03</th>\n",
       "      <td>7599.91</td>\n",
       "      <td>7550.0</td>\n",
       "      <td>50.0</td>\n",
       "      <td>12</td>\n",
       "    </tr>\n",
       "    <tr>\n",
       "      <th>2012-12-04</th>\n",
       "      <td>7600.98</td>\n",
       "      <td>7600.0</td>\n",
       "      <td>0.0</td>\n",
       "      <td>11</td>\n",
       "    </tr>\n",
       "    <tr>\n",
       "      <th>2012-12-05</th>\n",
       "      <td>7649.05</td>\n",
       "      <td>7600.0</td>\n",
       "      <td>0.0</td>\n",
       "      <td>10</td>\n",
       "    </tr>\n",
       "    <tr>\n",
       "      <th>2012-12-06</th>\n",
       "      <td>7623.26</td>\n",
       "      <td>7600.0</td>\n",
       "      <td>0.0</td>\n",
       "      <td>9</td>\n",
       "    </tr>\n",
       "    <tr>\n",
       "      <th>2012-12-07</th>\n",
       "      <td>7642.26</td>\n",
       "      <td>7600.0</td>\n",
       "      <td>0.0</td>\n",
       "      <td>8</td>\n",
       "    </tr>\n",
       "    <tr>\n",
       "      <th>2012-12-10</th>\n",
       "      <td>7609.50</td>\n",
       "      <td>7600.0</td>\n",
       "      <td>0.0</td>\n",
       "      <td>7</td>\n",
       "    </tr>\n",
       "    <tr>\n",
       "      <th>2012-12-11</th>\n",
       "      <td>7613.69</td>\n",
       "      <td>7600.0</td>\n",
       "      <td>50.0</td>\n",
       "      <td>6</td>\n",
       "    </tr>\n",
       "    <tr>\n",
       "      <th>2012-12-12</th>\n",
       "      <td>7690.19</td>\n",
       "      <td>7650.0</td>\n",
       "      <td>100.0</td>\n",
       "      <td>5</td>\n",
       "    </tr>\n",
       "    <tr>\n",
       "      <th>2012-12-13</th>\n",
       "      <td>7757.09</td>\n",
       "      <td>7750.0</td>\n",
       "      <td>-100.0</td>\n",
       "      <td>4</td>\n",
       "    </tr>\n",
       "    <tr>\n",
       "      <th>2012-12-14</th>\n",
       "      <td>7698.77</td>\n",
       "      <td>7650.0</td>\n",
       "      <td>-50.0</td>\n",
       "      <td>3</td>\n",
       "    </tr>\n",
       "  </tbody>\n",
       "</table>\n",
       "</div>"
      ],
      "text/plain": [
       "              close  prc_qtz  delta  d2m\n",
       "date                                    \n",
       "2012-12-03  7599.91   7550.0   50.0   12\n",
       "2012-12-04  7600.98   7600.0    0.0   11\n",
       "2012-12-05  7649.05   7600.0    0.0   10\n",
       "2012-12-06  7623.26   7600.0    0.0    9\n",
       "2012-12-07  7642.26   7600.0    0.0    8\n",
       "2012-12-10  7609.50   7600.0    0.0    7\n",
       "2012-12-11  7613.69   7600.0   50.0    6\n",
       "2012-12-12  7690.19   7650.0  100.0    5\n",
       "2012-12-13  7757.09   7750.0 -100.0    4\n",
       "2012-12-14  7698.77   7650.0  -50.0    3"
      ]
     },
     "execution_count": 190,
     "metadata": {},
     "output_type": "execute_result"
    }
   ],
   "source": [
    "# vis\n",
    "df[['close', 'prc_qtz', 'delta', 'd2m']].info()\n",
    "df[['close', 'prc_qtz', 'delta', 'd2m']].head(10)"
   ]
  },
  {
   "cell_type": "code",
   "execution_count": 191,
   "metadata": {},
   "outputs": [
    {
     "data": {
      "text/plain": [
       "<matplotlib.axes._subplots.AxesSubplot at 0x7f899b77fa90>"
      ]
     },
     "execution_count": 191,
     "metadata": {},
     "output_type": "execute_result"
    },
    {
     "data": {
      "image/png": "[encoded data removed]",
      "text/plain": [
       "<Figure size 432x288 with 1 Axes>"
      ]
     },
     "metadata": {
      "needs_background": "light"
     },
     "output_type": "display_data"
    }
   ],
   "source": [
    "# vis\n",
    "d_start, d_end = '2015-07-01', '2015-07-14' \n",
    "df_plot = df[d_start: d_end]\n",
    "ax = df_plot[['close']].plot(title=f'TWSE Index: {d_start} ~ {d_end}')\n",
    "df_plot[['prc_qtz']].plot(drawstyle='steps', ax=ax)"
   ]
  },
  {
   "cell_type": "code",
   "execution_count": 193,
   "metadata": {},
   "outputs": [
    {
     "data": {
      "text/html": [
       "<div>\n",
       "<style scoped>\n",
       "    .dataframe tbody tr th:only-of-type {\n",
       "        vertical-align: middle;\n",
       "    }\n",
       "\n",
       "    .dataframe tbody tr th {\n",
       "        vertical-align: top;\n",
       "    }\n",
       "\n",
       "    .dataframe thead th {\n",
       "        text-align: right;\n",
       "    }\n",
       "</style>\n",
       "<table border=\"1\" class=\"dataframe\">\n",
       "  <thead>\n",
       "    <tr style=\"text-align: right;\">\n",
       "      <th></th>\n",
       "      <th>exists</th>\n",
       "    </tr>\n",
       "    <tr>\n",
       "      <th>d2m</th>\n",
       "      <th></th>\n",
       "    </tr>\n",
       "  </thead>\n",
       "  <tbody>\n",
       "    <tr>\n",
       "      <th>0</th>\n",
       "      <td>89</td>\n",
       "    </tr>\n",
       "    <tr>\n",
       "      <th>1</th>\n",
       "      <td>89</td>\n",
       "    </tr>\n",
       "    <tr>\n",
       "      <th>2</th>\n",
       "      <td>89</td>\n",
       "    </tr>\n",
       "    <tr>\n",
       "      <th>3</th>\n",
       "      <td>89</td>\n",
       "    </tr>\n",
       "    <tr>\n",
       "      <th>4</th>\n",
       "      <td>89</td>\n",
       "    </tr>\n",
       "    <tr>\n",
       "      <th>5</th>\n",
       "      <td>89</td>\n",
       "    </tr>\n",
       "    <tr>\n",
       "      <th>6</th>\n",
       "      <td>89</td>\n",
       "    </tr>\n",
       "    <tr>\n",
       "      <th>7</th>\n",
       "      <td>89</td>\n",
       "    </tr>\n",
       "    <tr>\n",
       "      <th>8</th>\n",
       "      <td>89</td>\n",
       "    </tr>\n",
       "    <tr>\n",
       "      <th>9</th>\n",
       "      <td>89</td>\n",
       "    </tr>\n",
       "    <tr>\n",
       "      <th>10</th>\n",
       "      <td>89</td>\n",
       "    </tr>\n",
       "    <tr>\n",
       "      <th>11</th>\n",
       "      <td>89</td>\n",
       "    </tr>\n",
       "    <tr>\n",
       "      <th>12</th>\n",
       "      <td>89</td>\n",
       "    </tr>\n",
       "    <tr>\n",
       "      <th>13</th>\n",
       "      <td>88</td>\n",
       "    </tr>\n",
       "    <tr>\n",
       "      <th>14</th>\n",
       "      <td>86</td>\n",
       "    </tr>\n",
       "    <tr>\n",
       "      <th>15</th>\n",
       "      <td>85</td>\n",
       "    </tr>\n",
       "    <tr>\n",
       "      <th>16</th>\n",
       "      <td>85</td>\n",
       "    </tr>\n",
       "    <tr>\n",
       "      <th>17</th>\n",
       "      <td>82</td>\n",
       "    </tr>\n",
       "    <tr>\n",
       "      <th>18</th>\n",
       "      <td>69</td>\n",
       "    </tr>\n",
       "    <tr>\n",
       "      <th>19</th>\n",
       "      <td>44</td>\n",
       "    </tr>\n",
       "    <tr>\n",
       "      <th>20</th>\n",
       "      <td>24</td>\n",
       "    </tr>\n",
       "    <tr>\n",
       "      <th>21</th>\n",
       "      <td>24</td>\n",
       "    </tr>\n",
       "    <tr>\n",
       "      <th>22</th>\n",
       "      <td>23</td>\n",
       "    </tr>\n",
       "    <tr>\n",
       "      <th>23</th>\n",
       "      <td>21</td>\n",
       "    </tr>\n",
       "    <tr>\n",
       "      <th>24</th>\n",
       "      <td>9</td>\n",
       "    </tr>\n",
       "  </tbody>\n",
       "</table>\n",
       "</div>"
      ],
      "text/plain": [
       "     exists\n",
       "d2m        \n",
       "0        89\n",
       "1        89\n",
       "2        89\n",
       "3        89\n",
       "4        89\n",
       "5        89\n",
       "6        89\n",
       "7        89\n",
       "8        89\n",
       "9        89\n",
       "10       89\n",
       "11       89\n",
       "12       89\n",
       "13       88\n",
       "14       86\n",
       "15       85\n",
       "16       85\n",
       "17       82\n",
       "18       69\n",
       "19       44\n",
       "20       24\n",
       "21       24\n",
       "22       23\n",
       "23       21\n",
       "24        9"
      ]
     },
     "execution_count": 193,
     "metadata": {},
     "output_type": "execute_result"
    }
   ],
   "source": [
    "df.groupby('d2m').size().to_frame('exists')"
   ]
  },
  {
   "cell_type": "markdown",
   "metadata": {},
   "source": [
    "## check feasible shape of transition matrix"
   ]
  },
  {
   "cell_type": "code",
   "execution_count": 20,
   "metadata": {},
   "outputs": [
    {
     "data": {
      "text/plain": [
       "Text(0.5, 1.0, '#(cells)')"
      ]
     },
     "execution_count": 20,
     "metadata": {},
     "output_type": "execute_result"
    },
    {
     "data": {
      "image/png": "[encoded data removed]",
      "text/plain": [
       "<Figure size 432x288 with 1 Axes>"
      ]
     },
     "metadata": {
      "needs_background": "light"
     },
     "output_type": "display_data"
    }
   ],
   "source": [
    "ax = df.delta.div(50).hist(bins=25)\n",
    "ax.set_title('#(cells)')"
   ]
  },
  {
   "cell_type": "code",
   "execution_count": 21,
   "metadata": {},
   "outputs": [
    {
     "data": {
      "text/html": [
       "<div>\n",
       "<style scoped>\n",
       "    .dataframe tbody tr th:only-of-type {\n",
       "        vertical-align: middle;\n",
       "    }\n",
       "\n",
       "    .dataframe tbody tr th {\n",
       "        vertical-align: top;\n",
       "    }\n",
       "\n",
       "    .dataframe thead th {\n",
       "        text-align: right;\n",
       "    }\n",
       "</style>\n",
       "<table border=\"1\" class=\"dataframe\">\n",
       "  <thead>\n",
       "    <tr style=\"text-align: right;\">\n",
       "      <th></th>\n",
       "      <th>0.00</th>\n",
       "      <th>0.10</th>\n",
       "      <th>0.25</th>\n",
       "      <th>0.50</th>\n",
       "      <th>0.75</th>\n",
       "      <th>0.90</th>\n",
       "      <th>1.00</th>\n",
       "    </tr>\n",
       "  </thead>\n",
       "  <tbody>\n",
       "    <tr>\n",
       "      <th>delta</th>\n",
       "      <td>-14.0</td>\n",
       "      <td>-2.0</td>\n",
       "      <td>-1.0</td>\n",
       "      <td>0.0</td>\n",
       "      <td>1.0</td>\n",
       "      <td>2.0</td>\n",
       "      <td>11.0</td>\n",
       "    </tr>\n",
       "  </tbody>\n",
       "</table>\n",
       "</div>"
      ],
      "text/plain": [
       "       0.00  0.10  0.25  0.50  0.75  0.90  1.00\n",
       "delta -14.0  -2.0  -1.0   0.0   1.0   2.0  11.0"
      ]
     },
     "execution_count": 21,
     "metadata": {},
     "output_type": "execute_result"
    }
   ],
   "source": [
    "df.delta.div(50).quantile([0, 0.1, 0.25, 0.5, 0.75, 0.9, 1]).to_frame('delta').T"
   ]
  },
  {
   "cell_type": "markdown",
   "metadata": {},
   "source": [
    "# compute probabilty, conditional on day-to-maturity"
   ]
  },
  {
   "cell_type": "code",
   "execution_count": null,
   "metadata": {},
   "outputs": [],
   "source": []
  }
 ],
 "metadata": {
  "kernelspec": {
   "display_name": "Python 3",
   "language": "python",
   "name": "python3"
  },
  "language_info": {
   "codemirror_mode": {
    "name": "ipython",
    "version": 3
   },
   "file_extension": ".py",
   "mimetype": "text/x-python",
   "name": "python",
   "nbconvert_exporter": "python",
   "pygments_lexer": "ipython3",
   "version": "3.8.0"
  }
 },
 "nbformat": 4,
 "nbformat_minor": 4
}
