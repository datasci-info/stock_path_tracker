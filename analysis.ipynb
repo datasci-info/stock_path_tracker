{
 "cells": [
  {
   "cell_type": "code",
   "execution_count": null,
   "metadata": {},
   "outputs": [],
   "source": [
    "%reload_ext autoreload\n",
    "%autoreload 2\n",
    "%matplotlib inline"
   ]
  },
  {
   "cell_type": "code",
   "execution_count": null,
   "metadata": {},
   "outputs": [],
   "source": [
    "from IPython.core.interactiveshell import InteractiveShell\n",
    "InteractiveShell.ast_node_interactivity = \"all\""
   ]
  },
  {
   "cell_type": "code",
   "execution_count": 4,
   "metadata": {},
   "outputs": [],
   "source": [
    "import itertools "
   ]
  },
  {
   "cell_type": "code",
   "execution_count": 5,
   "metadata": {},
   "outputs": [
    {
     "data": {
      "text/plain": [
       "True"
      ]
     },
     "execution_count": 5,
     "metadata": {},
     "output_type": "execute_result"
    },
    {
     "name": "stdout",
     "output_type": "stream",
     "text": [
      "DolphinDB available tables:\n"
     ]
    },
    {
     "data": {
      "text/plain": [
       "array(['dfs://dailyETF/dailyETF', 'dfs://dailyOptions/dailyOptionsBasic',\n",
       "       'dfs://dailyStock/dailyStockBasic',\n",
       "       'dfs://dailyStock/dailyStockCapitalReduction',\n",
       "       'dfs://dailyStock/dailyStockCompanies',\n",
       "       'dfs://dailyStock/dailyStockDealers',\n",
       "       'dfs://dailyStock/dailyStockForeign',\n",
       "       'dfs://dailyStock/dailyStockForeignShare',\n",
       "       'dfs://dailyStock/dailyStockMargin',\n",
       "       'dfs://dailyStock/dailyStockRightDividend',\n",
       "       'dfs://dailyStock/dailyStockRightDividendComp',\n",
       "       'dfs://dailyStock/dailyStockShortSale',\n",
       "       'dfs://dailyStock/dailyStockShortSaleBalance',\n",
       "       'dfs://dailyStock/dailyStockShortSaleVolume',\n",
       "       'dfs://dailyStock/dailyStockTradeDay',\n",
       "       'dfs://daily_stock/dailyStock',\n",
       "       'dfs://daily_stock_margin/dailyStockMargin',\n",
       "       'dfs://daily_tfe/tickTFE', 'dfs://feature/indicator',\n",
       "       'dfs://futTaifex/futTaifex',\n",
       "       'dfs://test_indicator_tfe/testIndicator'], dtype='<U44')"
      ]
     },
     "execution_count": 5,
     "metadata": {},
     "output_type": "execute_result"
    }
   ],
   "source": [
    "import dolphindb\n",
    "sess = dolphindb.session()\n",
    "sess.connect(\"localhost\", 8868, \"admin\", \"123456\")\n",
    "print('DolphinDB available tables:')\n",
    "sess.run('getClusterDFSTables()')"
   ]
  },
  {
   "cell_type": "code",
   "execution_count": 6,
   "metadata": {},
   "outputs": [],
   "source": [
    "import sys\n",
    "import numpy as np\n",
    "import pandas as pd\n",
    "import matplotlib.pylab as plt"
   ]
  },
  {
   "cell_type": "code",
   "execution_count": 7,
   "metadata": {},
   "outputs": [],
   "source": [
    "import config as cfg"
   ]
  },
  {
   "cell_type": "code",
   "execution_count": 20,
   "metadata": {},
   "outputs": [
    {
     "name": "stderr",
     "output_type": "stream",
     "text": [
      "/home/cyyen/miniconda3/envs/stock_path_tracker/lib/python3.8/site-packages/IPython/core/interactiveshell.py:3343: FutureWarning: The read_msgpack is deprecated and will be removed in a future version.\n",
      "It is recommended to use pyarrow for on-the-wire transmission of pandas objects.\n",
      "  exec(code_obj, self.user_global_ns, self.user_ns)\n"
     ]
    },
    {
     "data": {
      "text/html": [
       "<div>\n",
       "<style scoped>\n",
       "    .dataframe tbody tr th:only-of-type {\n",
       "        vertical-align: middle;\n",
       "    }\n",
       "\n",
       "    .dataframe tbody tr th {\n",
       "        vertical-align: top;\n",
       "    }\n",
       "\n",
       "    .dataframe thead th {\n",
       "        text-align: right;\n",
       "    }\n",
       "</style>\n",
       "<table border=\"1\" class=\"dataframe\">\n",
       "  <thead>\n",
       "    <tr style=\"text-align: right;\">\n",
       "      <th></th>\n",
       "      <th>open</th>\n",
       "      <th>high</th>\n",
       "      <th>low</th>\n",
       "      <th>close</th>\n",
       "      <th>order_buy</th>\n",
       "      <th>order_sell</th>\n",
       "      <th>volume</th>\n",
       "    </tr>\n",
       "    <tr>\n",
       "      <th>date</th>\n",
       "      <th></th>\n",
       "      <th></th>\n",
       "      <th></th>\n",
       "      <th></th>\n",
       "      <th></th>\n",
       "      <th></th>\n",
       "      <th></th>\n",
       "    </tr>\n",
       "  </thead>\n",
       "  <tbody>\n",
       "    <tr>\n",
       "      <th>2005-07-11</th>\n",
       "      <td>6255.40</td>\n",
       "      <td>6305.61</td>\n",
       "      <td>6249.41</td>\n",
       "      <td>6298.86</td>\n",
       "      <td>88271.0</td>\n",
       "      <td>98780.0</td>\n",
       "      <td>93877.0</td>\n",
       "    </tr>\n",
       "    <tr>\n",
       "      <th>2005-07-12</th>\n",
       "      <td>6337.50</td>\n",
       "      <td>6365.76</td>\n",
       "      <td>6337.50</td>\n",
       "      <td>6358.81</td>\n",
       "      <td>86565.0</td>\n",
       "      <td>111912.0</td>\n",
       "      <td>101703.0</td>\n",
       "    </tr>\n",
       "    <tr>\n",
       "      <th>2005-07-13</th>\n",
       "      <td>6360.60</td>\n",
       "      <td>6406.99</td>\n",
       "      <td>6352.21</td>\n",
       "      <td>6377.09</td>\n",
       "      <td>80802.0</td>\n",
       "      <td>120531.0</td>\n",
       "      <td>106134.0</td>\n",
       "    </tr>\n",
       "    <tr>\n",
       "      <th>2005-07-14</th>\n",
       "      <td>6403.08</td>\n",
       "      <td>6427.32</td>\n",
       "      <td>6375.75</td>\n",
       "      <td>6418.35</td>\n",
       "      <td>92496.0</td>\n",
       "      <td>114781.0</td>\n",
       "      <td>106806.0</td>\n",
       "    </tr>\n",
       "    <tr>\n",
       "      <th>2005-07-15</th>\n",
       "      <td>6428.44</td>\n",
       "      <td>6454.33</td>\n",
       "      <td>6410.59</td>\n",
       "      <td>6410.59</td>\n",
       "      <td>88827.0</td>\n",
       "      <td>124306.0</td>\n",
       "      <td>106727.0</td>\n",
       "    </tr>\n",
       "  </tbody>\n",
       "</table>\n",
       "</div>"
      ],
      "text/plain": [
       "               open     high      low    close  order_buy  order_sell  \\\n",
       "date                                                                    \n",
       "2005-07-11  6255.40  6305.61  6249.41  6298.86    88271.0     98780.0   \n",
       "2005-07-12  6337.50  6365.76  6337.50  6358.81    86565.0    111912.0   \n",
       "2005-07-13  6360.60  6406.99  6352.21  6377.09    80802.0    120531.0   \n",
       "2005-07-14  6403.08  6427.32  6375.75  6418.35    92496.0    114781.0   \n",
       "2005-07-15  6428.44  6454.33  6410.59  6410.59    88827.0    124306.0   \n",
       "\n",
       "              volume  \n",
       "date                  \n",
       "2005-07-11   93877.0  \n",
       "2005-07-12  101703.0  \n",
       "2005-07-13  106134.0  \n",
       "2005-07-14  106806.0  \n",
       "2005-07-15  106727.0  "
      ]
     },
     "execution_count": 20,
     "metadata": {},
     "output_type": "execute_result"
    }
   ],
   "source": [
    "#TODO: switch to ddb twse index \n",
    "twse = pd.read_msgpack('/data/dataset/twse.msgpack')\n",
    "twse.head()"
   ]
  },
  {
   "cell_type": "markdown",
   "metadata": {},
   "source": [
    "# quantization: 2012-11-22 ~ 2020-04-15\n",
    "- TODO: add maturity dates before December 2012\n",
    "- size of cell: 100 \n",
    "- rounding: take floor"
   ]
  },
  {
   "cell_type": "code",
   "execution_count": 21,
   "metadata": {},
   "outputs": [],
   "source": [
    "df = twse[cfg.D_START:][['close']].copy()"
   ]
  },
  {
   "cell_type": "code",
   "execution_count": 22,
   "metadata": {},
   "outputs": [],
   "source": [
    "df['prc_qtz'] = df.close // cfg.SIZE_CELL * cfg.SIZE_CELL\n",
    "df['delta'] = df.prc_qtz.diff()"
   ]
  },
  {
   "cell_type": "code",
   "execution_count": 23,
   "metadata": {},
   "outputs": [],
   "source": [
    "settlements = pd.to_datetime(pd.read_csv('settlement_txf.csv').settlement).dt.date.tolist()\n",
    "df['maturity'] = df.index.where(df.index.isin(settlements)).to_series().fillna(method='bfill').values\n",
    "d2m = df.groupby('maturity').size().sort_index().tolist()\n",
    "df['d2m'] = sum([list(reversed(range(d))) for d in d2m], []) + [np.nan] * (df.shape[0] - sum(d2m))\n",
    "df = df[cfg.D_START: cfg.D_END]\n",
    "\n",
    "df.dropna(inplace=True)\n",
    "df.sort_index(ascending=True, inplace=True)"
   ]
  },
  {
   "cell_type": "markdown",
   "metadata": {},
   "source": [
    "## example: 2015-07-01 ~ 2015-07-14"
   ]
  },
  {
   "cell_type": "code",
   "execution_count": 25,
   "metadata": {},
   "outputs": [
    {
     "data": {
      "text/plain": [
       "<matplotlib.axes._subplots.AxesSubplot at 0x7f3af3ddde50>"
      ]
     },
     "execution_count": 25,
     "metadata": {},
     "output_type": "execute_result"
    },
    {
     "data": {
      "image/png": "[encoded data removed]",
      "text/plain": [
       "<Figure size 432x288 with 1 Axes>"
      ]
     },
     "metadata": {
      "needs_background": "light"
     },
     "output_type": "display_data"
    }
   ],
   "source": [
    "# vis\n",
    "df_plot = df['2015-07-01': '2015-07-14' ]\n",
    "ax = df_plot[['close']].plot(title=f'TWSE Index: {cfg.D_START} ~ {cfg.D_END}')\n",
    "df_plot[['prc_qtz']].plot(drawstyle='steps', ax=ax)"
   ]
  },
  {
   "cell_type": "markdown",
   "metadata": {},
   "source": [
    "# Distribution of changes in cell"
   ]
  },
  {
   "cell_type": "markdown",
   "metadata": {},
   "source": [
    "## histogram "
   ]
  },
  {
   "cell_type": "code",
   "execution_count": 26,
   "metadata": {},
   "outputs": [
    {
     "data": {
      "text/plain": [
       "Text(0.5, 1.0, '#(cells)')"
      ]
     },
     "execution_count": 26,
     "metadata": {},
     "output_type": "execute_result"
    },
    {
     "data": {
      "image/png": "[encoded data removed]",
      "text/plain": [
       "<Figure size 432x288 with 1 Axes>"
      ]
     },
     "metadata": {
      "needs_background": "light"
     },
     "output_type": "display_data"
    }
   ],
   "source": [
    "ax = df.delta.div(cfg.SIZE_CELL).hist()\n",
    "ax.set_title('#(cells)')"
   ]
  },
  {
   "cell_type": "markdown",
   "metadata": {},
   "source": [
    "## quantile"
   ]
  },
  {
   "cell_type": "code",
   "execution_count": 27,
   "metadata": {},
   "outputs": [
    {
     "data": {
      "text/html": [
       "<div>\n",
       "<style scoped>\n",
       "    .dataframe tbody tr th:only-of-type {\n",
       "        vertical-align: middle;\n",
       "    }\n",
       "\n",
       "    .dataframe tbody tr th {\n",
       "        vertical-align: top;\n",
       "    }\n",
       "\n",
       "    .dataframe thead th {\n",
       "        text-align: right;\n",
       "    }\n",
       "</style>\n",
       "<table border=\"1\" class=\"dataframe\">\n",
       "  <thead>\n",
       "    <tr style=\"text-align: right;\">\n",
       "      <th></th>\n",
       "      <th>min</th>\n",
       "      <th>2.5%</th>\n",
       "      <th>25%</th>\n",
       "      <th>median</th>\n",
       "      <th>75%</th>\n",
       "      <th>97.5%</th>\n",
       "      <th>max</th>\n",
       "    </tr>\n",
       "  </thead>\n",
       "  <tbody>\n",
       "    <tr>\n",
       "      <th>delta</th>\n",
       "      <td>-7.0</td>\n",
       "      <td>-2.0</td>\n",
       "      <td>0.0</td>\n",
       "      <td>0.0</td>\n",
       "      <td>1.0</td>\n",
       "      <td>1.0</td>\n",
       "      <td>6.0</td>\n",
       "    </tr>\n",
       "  </tbody>\n",
       "</table>\n",
       "</div>"
      ],
      "text/plain": [
       "       min  2.5%  25%  median  75%  97.5%  max\n",
       "delta -7.0  -2.0  0.0     0.0  1.0    1.0  6.0"
      ]
     },
     "execution_count": 27,
     "metadata": {},
     "output_type": "execute_result"
    }
   ],
   "source": [
    "df_quantile = df.delta.div(cfg.SIZE_CELL).quantile([0, 0.025, 0.25, 0.5, 0.75, 0.975, 1]).to_frame('delta').T\n",
    "df_quantile.columns = ['min', \"2.5%\", '25%', 'median', '75%', '97.5%', 'max']\n",
    "df_quantile"
   ]
  },
  {
   "cell_type": "markdown",
   "metadata": {},
   "source": [
    "## extreme cases"
   ]
  },
  {
   "cell_type": "code",
   "execution_count": 28,
   "metadata": {},
   "outputs": [
    {
     "data": {
      "text/html": [
       "<div>\n",
       "<style scoped>\n",
       "    .dataframe tbody tr th:only-of-type {\n",
       "        vertical-align: middle;\n",
       "    }\n",
       "\n",
       "    .dataframe tbody tr th {\n",
       "        vertical-align: top;\n",
       "    }\n",
       "\n",
       "    .dataframe thead th {\n",
       "        text-align: right;\n",
       "    }\n",
       "</style>\n",
       "<table border=\"1\" class=\"dataframe\">\n",
       "  <thead>\n",
       "    <tr style=\"text-align: right;\">\n",
       "      <th></th>\n",
       "      <th>close</th>\n",
       "      <th>prc_qtz</th>\n",
       "      <th>delta</th>\n",
       "      <th>maturity</th>\n",
       "      <th>d2m</th>\n",
       "    </tr>\n",
       "    <tr>\n",
       "      <th>date</th>\n",
       "      <th></th>\n",
       "      <th></th>\n",
       "      <th></th>\n",
       "      <th></th>\n",
       "      <th></th>\n",
       "    </tr>\n",
       "  </thead>\n",
       "  <tbody>\n",
       "    <tr>\n",
       "      <th>2018-02-21</th>\n",
       "      <td>10714.44</td>\n",
       "      <td>10700.0</td>\n",
       "      <td>300.0</td>\n",
       "      <td>2018-02-21</td>\n",
       "      <td>0.0</td>\n",
       "    </tr>\n",
       "    <tr>\n",
       "      <th>2018-10-31</th>\n",
       "      <td>9802.13</td>\n",
       "      <td>9800.0</td>\n",
       "      <td>300.0</td>\n",
       "      <td>2018-11-21</td>\n",
       "      <td>15.0</td>\n",
       "    </tr>\n",
       "    <tr>\n",
       "      <th>2018-12-03</th>\n",
       "      <td>10137.87</td>\n",
       "      <td>10100.0</td>\n",
       "      <td>300.0</td>\n",
       "      <td>2018-12-19</td>\n",
       "      <td>12.0</td>\n",
       "    </tr>\n",
       "    <tr>\n",
       "      <th>2020-03-20</th>\n",
       "      <td>9234.09</td>\n",
       "      <td>9200.0</td>\n",
       "      <td>600.0</td>\n",
       "      <td>2020-04-15</td>\n",
       "      <td>16.0</td>\n",
       "    </tr>\n",
       "    <tr>\n",
       "      <th>2020-03-24</th>\n",
       "      <td>9285.62</td>\n",
       "      <td>9200.0</td>\n",
       "      <td>400.0</td>\n",
       "      <td>2020-04-15</td>\n",
       "      <td>14.0</td>\n",
       "    </tr>\n",
       "    <tr>\n",
       "      <th>2020-03-25</th>\n",
       "      <td>9644.75</td>\n",
       "      <td>9600.0</td>\n",
       "      <td>400.0</td>\n",
       "      <td>2020-04-15</td>\n",
       "      <td>13.0</td>\n",
       "    </tr>\n",
       "    <tr>\n",
       "      <th>2020-04-14</th>\n",
       "      <td>10332.94</td>\n",
       "      <td>10300.0</td>\n",
       "      <td>300.0</td>\n",
       "      <td>2020-04-15</td>\n",
       "      <td>1.0</td>\n",
       "    </tr>\n",
       "  </tbody>\n",
       "</table>\n",
       "</div>"
      ],
      "text/plain": [
       "               close  prc_qtz  delta   maturity   d2m\n",
       "date                                                 \n",
       "2018-02-21  10714.44  10700.0  300.0 2018-02-21   0.0\n",
       "2018-10-31   9802.13   9800.0  300.0 2018-11-21  15.0\n",
       "2018-12-03  10137.87  10100.0  300.0 2018-12-19  12.0\n",
       "2020-03-20   9234.09   9200.0  600.0 2020-04-15  16.0\n",
       "2020-03-24   9285.62   9200.0  400.0 2020-04-15  14.0\n",
       "2020-03-25   9644.75   9600.0  400.0 2020-04-15  13.0\n",
       "2020-04-14  10332.94  10300.0  300.0 2020-04-15   1.0"
      ]
     },
     "execution_count": 28,
     "metadata": {},
     "output_type": "execute_result"
    }
   ],
   "source": [
    "df_extreme_pos = df.query(f'(delta > 2*{cfg.SIZE_CELL})')\n",
    "df_extreme_pos.sort_index()"
   ]
  },
  {
   "cell_type": "code",
   "execution_count": 29,
   "metadata": {},
   "outputs": [
    {
     "data": {
      "text/html": [
       "<div>\n",
       "<style scoped>\n",
       "    .dataframe tbody tr th:only-of-type {\n",
       "        vertical-align: middle;\n",
       "    }\n",
       "\n",
       "    .dataframe tbody tr th {\n",
       "        vertical-align: top;\n",
       "    }\n",
       "\n",
       "    .dataframe thead th {\n",
       "        text-align: right;\n",
       "    }\n",
       "</style>\n",
       "<table border=\"1\" class=\"dataframe\">\n",
       "  <thead>\n",
       "    <tr style=\"text-align: right;\">\n",
       "      <th></th>\n",
       "      <th>close</th>\n",
       "      <th>prc_qtz</th>\n",
       "      <th>delta</th>\n",
       "      <th>maturity</th>\n",
       "      <th>d2m</th>\n",
       "    </tr>\n",
       "    <tr>\n",
       "      <th>date</th>\n",
       "      <th></th>\n",
       "      <th></th>\n",
       "      <th></th>\n",
       "      <th></th>\n",
       "      <th></th>\n",
       "    </tr>\n",
       "  </thead>\n",
       "  <tbody>\n",
       "    <tr>\n",
       "      <th>2015-07-08</th>\n",
       "      <td>8976.11</td>\n",
       "      <td>8900.0</td>\n",
       "      <td>-300.0</td>\n",
       "      <td>2015-07-15</td>\n",
       "      <td>4.0</td>\n",
       "    </tr>\n",
       "    <tr>\n",
       "      <th>2015-08-21</th>\n",
       "      <td>7786.92</td>\n",
       "      <td>7700.0</td>\n",
       "      <td>-300.0</td>\n",
       "      <td>2015-09-16</td>\n",
       "      <td>18.0</td>\n",
       "    </tr>\n",
       "    <tr>\n",
       "      <th>2015-08-24</th>\n",
       "      <td>7410.34</td>\n",
       "      <td>7400.0</td>\n",
       "      <td>-300.0</td>\n",
       "      <td>2015-09-16</td>\n",
       "      <td>17.0</td>\n",
       "    </tr>\n",
       "    <tr>\n",
       "      <th>2016-11-09</th>\n",
       "      <td>8943.20</td>\n",
       "      <td>8900.0</td>\n",
       "      <td>-300.0</td>\n",
       "      <td>2016-11-16</td>\n",
       "      <td>5.0</td>\n",
       "    </tr>\n",
       "    <tr>\n",
       "      <th>2018-02-06</th>\n",
       "      <td>10404.00</td>\n",
       "      <td>10400.0</td>\n",
       "      <td>-500.0</td>\n",
       "      <td>2018-02-21</td>\n",
       "      <td>5.0</td>\n",
       "    </tr>\n",
       "    <tr>\n",
       "      <th>2018-10-11</th>\n",
       "      <td>9806.11</td>\n",
       "      <td>9800.0</td>\n",
       "      <td>-600.0</td>\n",
       "      <td>2018-10-17</td>\n",
       "      <td>4.0</td>\n",
       "    </tr>\n",
       "    <tr>\n",
       "      <th>2018-12-06</th>\n",
       "      <td>9684.72</td>\n",
       "      <td>9600.0</td>\n",
       "      <td>-300.0</td>\n",
       "      <td>2018-12-19</td>\n",
       "      <td>9.0</td>\n",
       "    </tr>\n",
       "    <tr>\n",
       "      <th>2020-01-30</th>\n",
       "      <td>11421.74</td>\n",
       "      <td>11400.0</td>\n",
       "      <td>-700.0</td>\n",
       "      <td>2020-02-19</td>\n",
       "      <td>14.0</td>\n",
       "    </tr>\n",
       "    <tr>\n",
       "      <th>2020-03-09</th>\n",
       "      <td>10977.64</td>\n",
       "      <td>10900.0</td>\n",
       "      <td>-400.0</td>\n",
       "      <td>2020-03-18</td>\n",
       "      <td>7.0</td>\n",
       "    </tr>\n",
       "    <tr>\n",
       "      <th>2020-03-12</th>\n",
       "      <td>10422.32</td>\n",
       "      <td>10400.0</td>\n",
       "      <td>-400.0</td>\n",
       "      <td>2020-03-18</td>\n",
       "      <td>4.0</td>\n",
       "    </tr>\n",
       "    <tr>\n",
       "      <th>2020-03-13</th>\n",
       "      <td>10128.87</td>\n",
       "      <td>10100.0</td>\n",
       "      <td>-300.0</td>\n",
       "      <td>2020-03-18</td>\n",
       "      <td>3.0</td>\n",
       "    </tr>\n",
       "    <tr>\n",
       "      <th>2020-03-16</th>\n",
       "      <td>9717.77</td>\n",
       "      <td>9700.0</td>\n",
       "      <td>-400.0</td>\n",
       "      <td>2020-03-18</td>\n",
       "      <td>2.0</td>\n",
       "    </tr>\n",
       "    <tr>\n",
       "      <th>2020-03-17</th>\n",
       "      <td>9439.63</td>\n",
       "      <td>9400.0</td>\n",
       "      <td>-300.0</td>\n",
       "      <td>2020-03-18</td>\n",
       "      <td>1.0</td>\n",
       "    </tr>\n",
       "    <tr>\n",
       "      <th>2020-03-19</th>\n",
       "      <td>8681.34</td>\n",
       "      <td>8600.0</td>\n",
       "      <td>-600.0</td>\n",
       "      <td>2020-04-15</td>\n",
       "      <td>17.0</td>\n",
       "    </tr>\n",
       "    <tr>\n",
       "      <th>2020-03-23</th>\n",
       "      <td>8890.03</td>\n",
       "      <td>8800.0</td>\n",
       "      <td>-400.0</td>\n",
       "      <td>2020-04-15</td>\n",
       "      <td>15.0</td>\n",
       "    </tr>\n",
       "  </tbody>\n",
       "</table>\n",
       "</div>"
      ],
      "text/plain": [
       "               close  prc_qtz  delta   maturity   d2m\n",
       "date                                                 \n",
       "2015-07-08   8976.11   8900.0 -300.0 2015-07-15   4.0\n",
       "2015-08-21   7786.92   7700.0 -300.0 2015-09-16  18.0\n",
       "2015-08-24   7410.34   7400.0 -300.0 2015-09-16  17.0\n",
       "2016-11-09   8943.20   8900.0 -300.0 2016-11-16   5.0\n",
       "2018-02-06  10404.00  10400.0 -500.0 2018-02-21   5.0\n",
       "2018-10-11   9806.11   9800.0 -600.0 2018-10-17   4.0\n",
       "2018-12-06   9684.72   9600.0 -300.0 2018-12-19   9.0\n",
       "2020-01-30  11421.74  11400.0 -700.0 2020-02-19  14.0\n",
       "2020-03-09  10977.64  10900.0 -400.0 2020-03-18   7.0\n",
       "2020-03-12  10422.32  10400.0 -400.0 2020-03-18   4.0\n",
       "2020-03-13  10128.87  10100.0 -300.0 2020-03-18   3.0\n",
       "2020-03-16   9717.77   9700.0 -400.0 2020-03-18   2.0\n",
       "2020-03-17   9439.63   9400.0 -300.0 2020-03-18   1.0\n",
       "2020-03-19   8681.34   8600.0 -600.0 2020-04-15  17.0\n",
       "2020-03-23   8890.03   8800.0 -400.0 2020-04-15  15.0"
      ]
     },
     "execution_count": 29,
     "metadata": {},
     "output_type": "execute_result"
    }
   ],
   "source": [
    "df_extreme_neg = df.query(f'(delta < -2*{cfg.SIZE_CELL})')\n",
    "df_extreme_neg.sort_index()"
   ]
  },
  {
   "cell_type": "markdown",
   "metadata": {},
   "source": [
    "# compute joint probabilty"
   ]
  },
  {
   "cell_type": "markdown",
   "metadata": {},
   "source": [
    "- currently only calcualte for $\\tau \\leq 9$, because of huge computing demand and memory"
   ]
  },
  {
   "cell_type": "markdown",
   "metadata": {},
   "source": [
    "# Cost distribution\n",
    "- $OptPrc_t$: the settlePrice of t-1"
   ]
  },
  {
   "cell_type": "markdown",
   "metadata": {},
   "source": [
    "# Profit"
   ]
  },
  {
   "cell_type": "markdown",
   "metadata": {},
   "source": [
    "# Optimization"
   ]
  },
  {
   "cell_type": "code",
   "execution_count": 9,
   "metadata": {},
   "outputs": [],
   "source": [
    "from optimize import *"
   ]
  },
  {
   "cell_type": "code",
   "execution_count": 7,
   "metadata": {},
   "outputs": [
    {
     "name": "stderr",
     "output_type": "stream",
     "text": [
      "<ipython-input-7-f52f42a393ce>:1: FutureWarning: The read_msgpack is deprecated and will be removed in a future version.\n",
      "It is recommended to use pyarrow for on-the-wire transmission of pandas objects.\n",
      "  df = get_df()\n"
     ]
    }
   ],
   "source": [
    "df = get_df()\n",
    "prob_delta_cell = get_prob_single_day(df)\n",
    "df_cost = get_cost(df, cfg.CUTOFF_COST)"
   ]
  },
  {
   "cell_type": "code",
   "execution_count": 10,
   "metadata": {},
   "outputs": [
    {
     "name": "stdout",
     "output_type": "stream",
     "text": [
      "62.5 28.0\n"
     ]
    },
    {
     "data": {
      "text/plain": [
       "-21.55715387930067"
      ]
     },
     "execution_count": 10,
     "metadata": {},
     "output_type": "execute_result"
    }
   ],
   "source": [
    "var_lambda, var_tau = 2, 8\n",
    "optimize(var_lambda, var_tau, df_cost, prob_delta_cell)"
   ]
  },
  {
   "cell_type": "markdown",
   "metadata": {},
   "source": [
    "# try brute force"
   ]
  },
  {
   "cell_type": "code",
   "execution_count": 1,
   "metadata": {},
   "outputs": [],
   "source": [
    "%reload_ext autoreload\n",
    "%autoreload 2\n",
    "%matplotlib inline"
   ]
  },
  {
   "cell_type": "code",
   "execution_count": 2,
   "metadata": {},
   "outputs": [],
   "source": [
    "import matplotlib.pylab as plt\n",
    "from matplotlib.ticker import MaxNLocator"
   ]
  },
  {
   "cell_type": "code",
   "execution_count": 3,
   "metadata": {},
   "outputs": [],
   "source": [
    "from optimize import *\n",
    "import config as cfg"
   ]
  },
  {
   "cell_type": "code",
   "execution_count": 24,
   "metadata": {},
   "outputs": [],
   "source": [
    "n_tau = 10\n",
    "n_lambd = 10\n",
    "cutoff_cost = cfg.CUTOFF_COST"
   ]
  },
  {
   "cell_type": "code",
   "execution_count": 5,
   "metadata": {},
   "outputs": [
    {
     "name": "stderr",
     "output_type": "stream",
     "text": [
      "<ipython-input-5-5b195cbacb59>:1: FutureWarning: The read_msgpack is deprecated and will be removed in a future version.\n",
      "It is recommended to use pyarrow for on-the-wire transmission of pandas objects.\n",
      "  df = get_df()\n"
     ]
    }
   ],
   "source": [
    "df = get_df()"
   ]
  },
  {
   "cell_type": "code",
   "execution_count": 29,
   "metadata": {},
   "outputs": [],
   "source": [
    "PROB = np.zeros((n_tau, n_lambd))\n",
    "prob_delta_cell = get_prob_single_day(df)\n",
    "for var_tau in range(n_tau):\n",
    "    for var_lambda in range(n_lambd):\n",
    "        PROB[var_tau, var_lambda] = get_realizations(var_lambda, var_tau).pipe(get_prob, prob_delta_cell)"
   ]
  },
  {
   "cell_type": "code",
   "execution_count": 25,
   "metadata": {},
   "outputs": [],
   "source": [
    "PROFIT = np.array([cal_profit(var_lambda) for var_lambda in range(n_lambd)]).reshape(1, n_lambd)"
   ]
  },
  {
   "cell_type": "code",
   "execution_count": 26,
   "metadata": {},
   "outputs": [],
   "source": [
    "df_cost = get_cost(df, cutoff_cost)\n",
    "df_cost = df_cost[df_cost.lambd.map(lambda x: x.is_integer())]\n",
    "COST = df_cost.query(f'(d2m<{n_tau}) and (0 <= lambd < {n_lambd})').pivot(index='d2m', columns='lambd', values='opt_price').to_numpy()"
   ]
  },
  {
   "cell_type": "code",
   "execution_count": 58,
   "metadata": {},
   "outputs": [
    {
     "data": {
      "image/png": "[encoded data removed]",
      "text/plain": [
       "<Figure size 432x288 with 2 Axes>"
      ]
     },
     "metadata": {
      "needs_background": "light"
     },
     "output_type": "display_data"
    },
    {
     "data": {
      "image/png": "[encoded data removed]",
      "text/plain": [
       "<Figure size 432x288 with 2 Axes>"
      ]
     },
     "metadata": {
      "needs_background": "light"
     },
     "output_type": "display_data"
    }
   ],
   "source": [
    "ax_cost = plt.figure().gca()\n",
    "cs_cost = ax_cost.contourf(COST, extend='both')\n",
    "ax_cost.xaxis.set_major_locator(MaxNLocator(integer=True))\n",
    "plt.colorbar(cs_cost)\n",
    "# plt.xticks()\n",
    "plt.xlabel('$\\lambda$')\n",
    "plt.ylabel('$\\\\tau$')\n",
    "plt.title('Cost($\\\\tau$, $\\lambda$) \\n using 75 percentile historical cost')\n",
    "plt.show()\n",
    "\n",
    "# prob\n",
    "ax_prob = plt.figure().gca()\n",
    "cs_prob = ax_prob.contourf(PROB, extend='both')\n",
    "ax_prob.xaxis.set_major_locator(MaxNLocator(integer=True))\n",
    "plt.colorbar(cs_prob)\n",
    "plt.xlabel('$\\lambda$')\n",
    "plt.ylabel('$\\\\tau$')\n",
    "plt.title('Probability($\\\\tau$, $\\lambda$)')\n",
    "plt.show()"
   ]
  },
  {
   "cell_type": "code",
   "execution_count": 31,
   "metadata": {},
   "outputs": [
    {
     "name": "stdout",
     "output_type": "stream",
     "text": [
      "7 4\n"
     ]
    }
   ],
   "source": [
    "obj = np.zeros((n_tau, n_lambd))\n",
    "for tau in range(n_tau):\n",
    "    for lambd in range(n_lambd):\n",
    "        obj[tau, lambd] = PROB[tau, lambd] * PROFIT[0, lambd] - COST[tau, lambd]\n",
    "tau_star, lambd_star = obj.argmax()//n_lambd, obj.argmax() % n_lambd\n",
    "print(tau_star, lambd_star)"
   ]
  },
  {
   "cell_type": "code",
   "execution_count": 52,
   "metadata": {},
   "outputs": [
    {
     "data": {
      "image/png": "[encoded data removed]",
      "text/plain": [
       "<Figure size 432x288 with 2 Axes>"
      ]
     },
     "metadata": {
      "needs_background": "light"
     },
     "output_type": "display_data"
    }
   ],
   "source": [
    "ax_obj = plt.figure().gca()\n",
    "cs_obj = ax_obj.contourf(obj, levels=np.arange(obj.min()//10*10, (obj.max()//10+1)*10,10), extend='both')\n",
    "ax_obj.xaxis.set_major_locator(MaxNLocator(integer=True))\n",
    "plt.colorbar(cs_obj)\n",
    "plt.xlabel('$\\lambda$')\n",
    "plt.ylabel('$\\\\tau$')\n",
    "plt.title('Objective($\\\\tau$, $\\lambda$)')\n",
    "plt.show()"
   ]
  },
  {
   "cell_type": "code",
   "execution_count": 55,
   "metadata": {},
   "outputs": [
    {
     "data": {
      "text/html": [
       "<div>\n",
       "<style scoped>\n",
       "    .dataframe tbody tr th:only-of-type {\n",
       "        vertical-align: middle;\n",
       "    }\n",
       "\n",
       "    .dataframe tbody tr th {\n",
       "        vertical-align: top;\n",
       "    }\n",
       "\n",
       "    .dataframe thead th {\n",
       "        text-align: right;\n",
       "    }\n",
       "</style>\n",
       "<table border=\"1\" class=\"dataframe\">\n",
       "  <thead>\n",
       "    <tr style=\"text-align: right;\">\n",
       "      <th></th>\n",
       "      <th>0</th>\n",
       "      <th>1</th>\n",
       "      <th>2</th>\n",
       "      <th>3</th>\n",
       "      <th>4</th>\n",
       "      <th>5</th>\n",
       "      <th>6</th>\n",
       "      <th>7</th>\n",
       "      <th>8</th>\n",
       "      <th>9</th>\n",
       "    </tr>\n",
       "  </thead>\n",
       "  <tbody>\n",
       "    <tr>\n",
       "      <th>9</th>\n",
       "      <td>-169.296454</td>\n",
       "      <td>-98.500</td>\n",
       "      <td>-42.337751</td>\n",
       "      <td>-9.260235</td>\n",
       "      <td>4.280778</td>\n",
       "      <td>5.147905</td>\n",
       "      <td>3.313526</td>\n",
       "      <td>0.859555</td>\n",
       "      <td>-0.182966</td>\n",
       "      <td>-0.513504</td>\n",
       "    </tr>\n",
       "    <tr>\n",
       "      <th>8</th>\n",
       "      <td>-152.135878</td>\n",
       "      <td>-76.750</td>\n",
       "      <td>-25.557154</td>\n",
       "      <td>1.982146</td>\n",
       "      <td>8.535799</td>\n",
       "      <td>6.769156</td>\n",
       "      <td>2.904132</td>\n",
       "      <td>0.806824</td>\n",
       "      <td>-0.191803</td>\n",
       "      <td>-0.396639</td>\n",
       "    </tr>\n",
       "    <tr>\n",
       "      <th>7</th>\n",
       "      <td>-144.128143</td>\n",
       "      <td>-67.250</td>\n",
       "      <td>-19.295073</td>\n",
       "      <td>6.003970</td>\n",
       "      <td>9.535349</td>\n",
       "      <td>5.919771</td>\n",
       "      <td>2.167108</td>\n",
       "      <td>0.442034</td>\n",
       "      <td>-0.195130</td>\n",
       "      <td>-0.438242</td>\n",
       "    </tr>\n",
       "    <tr>\n",
       "      <th>6</th>\n",
       "      <td>-148.326510</td>\n",
       "      <td>-70.750</td>\n",
       "      <td>-23.078965</td>\n",
       "      <td>1.338402</td>\n",
       "      <td>6.883354</td>\n",
       "      <td>4.032434</td>\n",
       "      <td>0.935138</td>\n",
       "      <td>-0.126724</td>\n",
       "      <td>-0.477976</td>\n",
       "      <td>-0.381593</td>\n",
       "    </tr>\n",
       "    <tr>\n",
       "      <th>5</th>\n",
       "      <td>-146.314778</td>\n",
       "      <td>-65.500</td>\n",
       "      <td>-12.211436</td>\n",
       "      <td>5.528271</td>\n",
       "      <td>5.906738</td>\n",
       "      <td>2.393842</td>\n",
       "      <td>0.002972</td>\n",
       "      <td>-0.512543</td>\n",
       "      <td>-0.515800</td>\n",
       "      <td>-0.496638</td>\n",
       "    </tr>\n",
       "    <tr>\n",
       "      <th>4</th>\n",
       "      <td>-136.984863</td>\n",
       "      <td>-56.500</td>\n",
       "      <td>-11.047244</td>\n",
       "      <td>4.691065</td>\n",
       "      <td>3.676965</td>\n",
       "      <td>0.812476</td>\n",
       "      <td>-0.547944</td>\n",
       "      <td>-0.589077</td>\n",
       "      <td>-0.494906</td>\n",
       "      <td>-0.399760</td>\n",
       "    </tr>\n",
       "    <tr>\n",
       "      <th>3</th>\n",
       "      <td>-148.353901</td>\n",
       "      <td>-58.500</td>\n",
       "      <td>-7.054413</td>\n",
       "      <td>4.910896</td>\n",
       "      <td>2.178315</td>\n",
       "      <td>-0.168387</td>\n",
       "      <td>-0.448921</td>\n",
       "      <td>-0.393518</td>\n",
       "      <td>-0.324830</td>\n",
       "      <td>-0.300000</td>\n",
       "    </tr>\n",
       "    <tr>\n",
       "      <th>2</th>\n",
       "      <td>-145.260061</td>\n",
       "      <td>-55.250</td>\n",
       "      <td>-6.074353</td>\n",
       "      <td>2.603902</td>\n",
       "      <td>0.340367</td>\n",
       "      <td>-0.704042</td>\n",
       "      <td>-0.494527</td>\n",
       "      <td>-0.400000</td>\n",
       "      <td>-0.300000</td>\n",
       "      <td>-0.300000</td>\n",
       "    </tr>\n",
       "    <tr>\n",
       "      <th>1</th>\n",
       "      <td>-129.066844</td>\n",
       "      <td>-32.500</td>\n",
       "      <td>0.428915</td>\n",
       "      <td>0.541179</td>\n",
       "      <td>-0.377095</td>\n",
       "      <td>-0.300000</td>\n",
       "      <td>-0.300000</td>\n",
       "      <td>-0.200000</td>\n",
       "      <td>-0.200000</td>\n",
       "      <td>-0.200000</td>\n",
       "    </tr>\n",
       "    <tr>\n",
       "      <th>0</th>\n",
       "      <td>-141.993421</td>\n",
       "      <td>-26.125</td>\n",
       "      <td>-1.079605</td>\n",
       "      <td>-0.525000</td>\n",
       "      <td>-0.300000</td>\n",
       "      <td>-0.200000</td>\n",
       "      <td>-0.200000</td>\n",
       "      <td>-0.200000</td>\n",
       "      <td>-0.175000</td>\n",
       "      <td>-0.100000</td>\n",
       "    </tr>\n",
       "  </tbody>\n",
       "</table>\n",
       "</div>"
      ],
      "text/plain": [
       "            0       1          2         3         4         5         6  \\\n",
       "9 -169.296454 -98.500 -42.337751 -9.260235  4.280778  5.147905  3.313526   \n",
       "8 -152.135878 -76.750 -25.557154  1.982146  8.535799  6.769156  2.904132   \n",
       "7 -144.128143 -67.250 -19.295073  6.003970  9.535349  5.919771  2.167108   \n",
       "6 -148.326510 -70.750 -23.078965  1.338402  6.883354  4.032434  0.935138   \n",
       "5 -146.314778 -65.500 -12.211436  5.528271  5.906738  2.393842  0.002972   \n",
       "4 -136.984863 -56.500 -11.047244  4.691065  3.676965  0.812476 -0.547944   \n",
       "3 -148.353901 -58.500  -7.054413  4.910896  2.178315 -0.168387 -0.448921   \n",
       "2 -145.260061 -55.250  -6.074353  2.603902  0.340367 -0.704042 -0.494527   \n",
       "1 -129.066844 -32.500   0.428915  0.541179 -0.377095 -0.300000 -0.300000   \n",
       "0 -141.993421 -26.125  -1.079605 -0.525000 -0.300000 -0.200000 -0.200000   \n",
       "\n",
       "          7         8         9  \n",
       "9  0.859555 -0.182966 -0.513504  \n",
       "8  0.806824 -0.191803 -0.396639  \n",
       "7  0.442034 -0.195130 -0.438242  \n",
       "6 -0.126724 -0.477976 -0.381593  \n",
       "5 -0.512543 -0.515800 -0.496638  \n",
       "4 -0.589077 -0.494906 -0.399760  \n",
       "3 -0.393518 -0.324830 -0.300000  \n",
       "2 -0.400000 -0.300000 -0.300000  \n",
       "1 -0.200000 -0.200000 -0.200000  \n",
       "0 -0.200000 -0.175000 -0.100000  "
      ]
     },
     "execution_count": 55,
     "metadata": {},
     "output_type": "execute_result"
    }
   ],
   "source": [
    "pd.DataFrame(obj).sort_index(ascending=False)"
   ]
  },
  {
   "cell_type": "code",
   "execution_count": 59,
   "metadata": {},
   "outputs": [
    {
     "data": {
      "text/html": [
       "<div>\n",
       "<style scoped>\n",
       "    .dataframe tbody tr th:only-of-type {\n",
       "        vertical-align: middle;\n",
       "    }\n",
       "\n",
       "    .dataframe tbody tr th {\n",
       "        vertical-align: top;\n",
       "    }\n",
       "\n",
       "    .dataframe thead th {\n",
       "        text-align: right;\n",
       "    }\n",
       "</style>\n",
       "<table border=\"1\" class=\"dataframe\">\n",
       "  <thead>\n",
       "    <tr style=\"text-align: right;\">\n",
       "      <th></th>\n",
       "      <th>0</th>\n",
       "      <th>1</th>\n",
       "      <th>2</th>\n",
       "      <th>3</th>\n",
       "      <th>4</th>\n",
       "      <th>5</th>\n",
       "      <th>6</th>\n",
       "      <th>7</th>\n",
       "      <th>8</th>\n",
       "      <th>9</th>\n",
       "    </tr>\n",
       "  </thead>\n",
       "  <tbody>\n",
       "    <tr>\n",
       "      <th>9</th>\n",
       "      <td>154.00</td>\n",
       "      <td>98.500</td>\n",
       "      <td>55.000</td>\n",
       "      <td>27.500</td>\n",
       "      <td>12.500</td>\n",
       "      <td>6.500</td>\n",
       "      <td>3.10</td>\n",
       "      <td>2.000</td>\n",
       "      <td>1.225</td>\n",
       "      <td>0.825</td>\n",
       "    </tr>\n",
       "    <tr>\n",
       "      <th>8</th>\n",
       "      <td>136.00</td>\n",
       "      <td>76.750</td>\n",
       "      <td>38.500</td>\n",
       "      <td>15.875</td>\n",
       "      <td>6.900</td>\n",
       "      <td>3.100</td>\n",
       "      <td>2.00</td>\n",
       "      <td>1.125</td>\n",
       "      <td>0.800</td>\n",
       "      <td>0.550</td>\n",
       "    </tr>\n",
       "    <tr>\n",
       "      <th>7</th>\n",
       "      <td>127.00</td>\n",
       "      <td>67.250</td>\n",
       "      <td>32.500</td>\n",
       "      <td>11.250</td>\n",
       "      <td>4.250</td>\n",
       "      <td>2.025</td>\n",
       "      <td>1.30</td>\n",
       "      <td>0.725</td>\n",
       "      <td>0.500</td>\n",
       "      <td>0.500</td>\n",
       "    </tr>\n",
       "    <tr>\n",
       "      <th>6</th>\n",
       "      <td>130.00</td>\n",
       "      <td>70.750</td>\n",
       "      <td>36.500</td>\n",
       "      <td>15.000</td>\n",
       "      <td>4.900</td>\n",
       "      <td>1.900</td>\n",
       "      <td>1.25</td>\n",
       "      <td>0.725</td>\n",
       "      <td>0.600</td>\n",
       "      <td>0.400</td>\n",
       "    </tr>\n",
       "    <tr>\n",
       "      <th>5</th>\n",
       "      <td>126.50</td>\n",
       "      <td>65.500</td>\n",
       "      <td>25.750</td>\n",
       "      <td>9.450</td>\n",
       "      <td>3.500</td>\n",
       "      <td>1.550</td>\n",
       "      <td>1.15</td>\n",
       "      <td>0.750</td>\n",
       "      <td>0.550</td>\n",
       "      <td>0.500</td>\n",
       "    </tr>\n",
       "    <tr>\n",
       "      <th>4</th>\n",
       "      <td>115.25</td>\n",
       "      <td>56.500</td>\n",
       "      <td>24.500</td>\n",
       "      <td>8.300</td>\n",
       "      <td>3.025</td>\n",
       "      <td>1.350</td>\n",
       "      <td>1.00</td>\n",
       "      <td>0.650</td>\n",
       "      <td>0.500</td>\n",
       "      <td>0.400</td>\n",
       "    </tr>\n",
       "    <tr>\n",
       "      <th>3</th>\n",
       "      <td>124.00</td>\n",
       "      <td>58.500</td>\n",
       "      <td>20.000</td>\n",
       "      <td>5.250</td>\n",
       "      <td>1.700</td>\n",
       "      <td>1.000</td>\n",
       "      <td>0.55</td>\n",
       "      <td>0.400</td>\n",
       "      <td>0.325</td>\n",
       "      <td>0.300</td>\n",
       "    </tr>\n",
       "    <tr>\n",
       "      <th>2</th>\n",
       "      <td>117.00</td>\n",
       "      <td>55.250</td>\n",
       "      <td>17.625</td>\n",
       "      <td>3.775</td>\n",
       "      <td>1.100</td>\n",
       "      <td>0.850</td>\n",
       "      <td>0.50</td>\n",
       "      <td>0.400</td>\n",
       "      <td>0.300</td>\n",
       "      <td>0.300</td>\n",
       "    </tr>\n",
       "    <tr>\n",
       "      <th>1</th>\n",
       "      <td>94.00</td>\n",
       "      <td>32.500</td>\n",
       "      <td>7.900</td>\n",
       "      <td>1.650</td>\n",
       "      <td>0.525</td>\n",
       "      <td>0.300</td>\n",
       "      <td>0.30</td>\n",
       "      <td>0.200</td>\n",
       "      <td>0.200</td>\n",
       "      <td>0.200</td>\n",
       "    </tr>\n",
       "    <tr>\n",
       "      <th>0</th>\n",
       "      <td>91.50</td>\n",
       "      <td>26.125</td>\n",
       "      <td>3.300</td>\n",
       "      <td>0.525</td>\n",
       "      <td>0.300</td>\n",
       "      <td>0.200</td>\n",
       "      <td>0.20</td>\n",
       "      <td>0.200</td>\n",
       "      <td>0.175</td>\n",
       "      <td>0.100</td>\n",
       "    </tr>\n",
       "  </tbody>\n",
       "</table>\n",
       "</div>"
      ],
      "text/plain": [
       "        0       1       2       3       4      5     6      7      8      9\n",
       "9  154.00  98.500  55.000  27.500  12.500  6.500  3.10  2.000  1.225  0.825\n",
       "8  136.00  76.750  38.500  15.875   6.900  3.100  2.00  1.125  0.800  0.550\n",
       "7  127.00  67.250  32.500  11.250   4.250  2.025  1.30  0.725  0.500  0.500\n",
       "6  130.00  70.750  36.500  15.000   4.900  1.900  1.25  0.725  0.600  0.400\n",
       "5  126.50  65.500  25.750   9.450   3.500  1.550  1.15  0.750  0.550  0.500\n",
       "4  115.25  56.500  24.500   8.300   3.025  1.350  1.00  0.650  0.500  0.400\n",
       "3  124.00  58.500  20.000   5.250   1.700  1.000  0.55  0.400  0.325  0.300\n",
       "2  117.00  55.250  17.625   3.775   1.100  0.850  0.50  0.400  0.300  0.300\n",
       "1   94.00  32.500   7.900   1.650   0.525  0.300  0.30  0.200  0.200  0.200\n",
       "0   91.50  26.125   3.300   0.525   0.300  0.200  0.20  0.200  0.175  0.100"
      ]
     },
     "execution_count": 59,
     "metadata": {},
     "output_type": "execute_result"
    }
   ],
   "source": [
    "pd.DataFrame(COST).sort_index(ascending=False)"
   ]
  },
  {
   "cell_type": "markdown",
   "metadata": {},
   "source": [
    "# backtest\n",
    "- buy at ask / sell at bid\n",
    "- payoff = ($p_0$ - $p_{\\tau}$) - ($pc_{\\lambda}$-$pc_{\\lambda+1}$)"
   ]
  },
  {
   "cell_type": "code",
   "execution_count": 67,
   "metadata": {},
   "outputs": [
    {
     "data": {
      "text/html": [
       "<div>\n",
       "<style scoped>\n",
       "    .dataframe tbody tr th:only-of-type {\n",
       "        vertical-align: middle;\n",
       "    }\n",
       "\n",
       "    .dataframe tbody tr th {\n",
       "        vertical-align: top;\n",
       "    }\n",
       "\n",
       "    .dataframe thead th {\n",
       "        text-align: right;\n",
       "    }\n",
       "</style>\n",
       "<table border=\"1\" class=\"dataframe\">\n",
       "  <thead>\n",
       "    <tr style=\"text-align: right;\">\n",
       "      <th></th>\n",
       "      <th>close</th>\n",
       "      <th>prc_qtz</th>\n",
       "      <th>delta</th>\n",
       "      <th>maturity</th>\n",
       "      <th>d2m</th>\n",
       "      <th>delta_cell</th>\n",
       "    </tr>\n",
       "    <tr>\n",
       "      <th>date</th>\n",
       "      <th></th>\n",
       "      <th></th>\n",
       "      <th></th>\n",
       "      <th></th>\n",
       "      <th></th>\n",
       "      <th></th>\n",
       "    </tr>\n",
       "  </thead>\n",
       "  <tbody>\n",
       "    <tr>\n",
       "      <th>2015-01-21</th>\n",
       "      <td>9319.71</td>\n",
       "      <td>9300.0</td>\n",
       "      <td>100.0</td>\n",
       "      <td>2015-01-21</td>\n",
       "      <td>0.0</td>\n",
       "      <td>1.0</td>\n",
       "    </tr>\n",
       "  </tbody>\n",
       "</table>\n",
       "</div>"
      ],
      "text/plain": [
       "              close  prc_qtz  delta   maturity  d2m  delta_cell\n",
       "date                                                           \n",
       "2015-01-21  9319.71   9300.0  100.0 2015-01-21  0.0         1.0"
      ]
     },
     "execution_count": 67,
     "metadata": {},
     "output_type": "execute_result"
    }
   ],
   "source": [
    "df['2015-01-21':'2015-01-21']"
   ]
  },
  {
   "cell_type": "code",
   "execution_count": 65,
   "metadata": {},
   "outputs": [
    {
     "data": {
      "text/html": [
       "<div>\n",
       "<style scoped>\n",
       "    .dataframe tbody tr th:only-of-type {\n",
       "        vertical-align: middle;\n",
       "    }\n",
       "\n",
       "    .dataframe tbody tr th {\n",
       "        vertical-align: top;\n",
       "    }\n",
       "\n",
       "    .dataframe thead th {\n",
       "        text-align: right;\n",
       "    }\n",
       "</style>\n",
       "<table border=\"1\" class=\"dataframe\">\n",
       "  <thead>\n",
       "    <tr style=\"text-align: right;\">\n",
       "      <th></th>\n",
       "      <th>close</th>\n",
       "      <th>prc_qtz</th>\n",
       "      <th>delta</th>\n",
       "      <th>maturity</th>\n",
       "      <th>d2m</th>\n",
       "      <th>delta_cell</th>\n",
       "    </tr>\n",
       "    <tr>\n",
       "      <th>date</th>\n",
       "      <th></th>\n",
       "      <th></th>\n",
       "      <th></th>\n",
       "      <th></th>\n",
       "      <th></th>\n",
       "      <th></th>\n",
       "    </tr>\n",
       "  </thead>\n",
       "  <tbody>\n",
       "    <tr>\n",
       "      <th>2015-01-12</th>\n",
       "      <td>9178.30</td>\n",
       "      <td>9100.0</td>\n",
       "      <td>-100.0</td>\n",
       "      <td>2015-01-21</td>\n",
       "      <td>7.0</td>\n",
       "      <td>-1.0</td>\n",
       "    </tr>\n",
       "    <tr>\n",
       "      <th>2015-02-05</th>\n",
       "      <td>9512.05</td>\n",
       "      <td>9500.0</td>\n",
       "      <td>0.0</td>\n",
       "      <td>2015-02-24</td>\n",
       "      <td>7.0</td>\n",
       "      <td>0.0</td>\n",
       "    </tr>\n",
       "    <tr>\n",
       "      <th>2015-03-09</th>\n",
       "      <td>9562.98</td>\n",
       "      <td>9500.0</td>\n",
       "      <td>-100.0</td>\n",
       "      <td>2015-03-18</td>\n",
       "      <td>7.0</td>\n",
       "      <td>-1.0</td>\n",
       "    </tr>\n",
       "    <tr>\n",
       "      <th>2015-04-02</th>\n",
       "      <td>9600.32</td>\n",
       "      <td>9600.0</td>\n",
       "      <td>100.0</td>\n",
       "      <td>2015-04-15</td>\n",
       "      <td>7.0</td>\n",
       "      <td>1.0</td>\n",
       "    </tr>\n",
       "    <tr>\n",
       "      <th>2015-05-11</th>\n",
       "      <td>9663.72</td>\n",
       "      <td>9600.0</td>\n",
       "      <td>0.0</td>\n",
       "      <td>2015-05-20</td>\n",
       "      <td>7.0</td>\n",
       "      <td>0.0</td>\n",
       "    </tr>\n",
       "  </tbody>\n",
       "</table>\n",
       "</div>"
      ],
      "text/plain": [
       "              close  prc_qtz  delta   maturity  d2m  delta_cell\n",
       "date                                                           \n",
       "2015-01-12  9178.30   9100.0 -100.0 2015-01-21  7.0        -1.0\n",
       "2015-02-05  9512.05   9500.0    0.0 2015-02-24  7.0         0.0\n",
       "2015-03-09  9562.98   9500.0 -100.0 2015-03-18  7.0        -1.0\n",
       "2015-04-02  9600.32   9600.0  100.0 2015-04-15  7.0         1.0\n",
       "2015-05-11  9663.72   9600.0    0.0 2015-05-20  7.0         0.0"
      ]
     },
     "execution_count": 65,
     "metadata": {},
     "output_type": "execute_result"
    }
   ],
   "source": [
    "df_tau = df.query(f'd2m=={tau_star}')"
   ]
  },
  {
   "cell_type": "code",
   "execution_count": 76,
   "metadata": {},
   "outputs": [],
   "source": [
    "df_call = pd.concat([\n",
    "    get_all_txo_opt_price(\n",
    "        date=row.Index.strftime('%Y.%m.%d'), \n",
    "        maturity=row.maturity.strftime('%Y%m'),\n",
    "        right=cfg.RIGHT\n",
    "    ) for row in df_tau.itertuples()])"
   ]
  },
  {
   "cell_type": "code",
   "execution_count": 77,
   "metadata": {},
   "outputs": [
    {
     "data": {
      "text/html": [
       "<div>\n",
       "<style scoped>\n",
       "    .dataframe tbody tr th:only-of-type {\n",
       "        vertical-align: middle;\n",
       "    }\n",
       "\n",
       "    .dataframe tbody tr th {\n",
       "        vertical-align: top;\n",
       "    }\n",
       "\n",
       "    .dataframe thead th {\n",
       "        text-align: right;\n",
       "    }\n",
       "</style>\n",
       "<table border=\"1\" class=\"dataframe\">\n",
       "  <thead>\n",
       "    <tr style=\"text-align: right;\">\n",
       "      <th></th>\n",
       "      <th>date</th>\n",
       "      <th>maturity</th>\n",
       "      <th>strike</th>\n",
       "      <th>opt_price</th>\n",
       "    </tr>\n",
       "  </thead>\n",
       "  <tbody>\n",
       "    <tr>\n",
       "      <th>0</th>\n",
       "      <td>2015-01-09</td>\n",
       "      <td>201501</td>\n",
       "      <td>7200.0</td>\n",
       "      <td>2030.0</td>\n",
       "    </tr>\n",
       "    <tr>\n",
       "      <th>1</th>\n",
       "      <td>2015-01-09</td>\n",
       "      <td>201501</td>\n",
       "      <td>7300.0</td>\n",
       "      <td>1930.0</td>\n",
       "    </tr>\n",
       "    <tr>\n",
       "      <th>2</th>\n",
       "      <td>2015-01-09</td>\n",
       "      <td>201501</td>\n",
       "      <td>7400.0</td>\n",
       "      <td>1830.0</td>\n",
       "    </tr>\n",
       "    <tr>\n",
       "      <th>3</th>\n",
       "      <td>2015-01-09</td>\n",
       "      <td>201501</td>\n",
       "      <td>7500.0</td>\n",
       "      <td>1730.0</td>\n",
       "    </tr>\n",
       "    <tr>\n",
       "      <th>4</th>\n",
       "      <td>2015-01-09</td>\n",
       "      <td>201501</td>\n",
       "      <td>7600.0</td>\n",
       "      <td>1630.0</td>\n",
       "    </tr>\n",
       "  </tbody>\n",
       "</table>\n",
       "</div>"
      ],
      "text/plain": [
       "        date maturity  strike  opt_price\n",
       "0 2015-01-09   201501  7200.0     2030.0\n",
       "1 2015-01-09   201501  7300.0     1930.0\n",
       "2 2015-01-09   201501  7400.0     1830.0\n",
       "3 2015-01-09   201501  7500.0     1730.0\n",
       "4 2015-01-09   201501  7600.0     1630.0"
      ]
     },
     "execution_count": 77,
     "metadata": {},
     "output_type": "execute_result"
    }
   ],
   "source": [
    "df_call.head()"
   ]
  },
  {
   "cell_type": "code",
   "execution_count": null,
   "metadata": {},
   "outputs": [],
   "source": []
  },
  {
   "cell_type": "code",
   "execution_count": null,
   "metadata": {},
   "outputs": [],
   "source": []
  }
 ],
 "metadata": {
  "kernelspec": {
   "display_name": "Python 3",
   "language": "python",
   "name": "python3"
  },
  "language_info": {
   "codemirror_mode": {
    "name": "ipython",
    "version": 3
   },
   "file_extension": ".py",
   "mimetype": "text/x-python",
   "name": "python",
   "nbconvert_exporter": "python",
   "pygments_lexer": "ipython3",
   "version": "3.8.0"
  },
  "toc-autonumbering": true
 },
 "nbformat": 4,
 "nbformat_minor": 4
}
