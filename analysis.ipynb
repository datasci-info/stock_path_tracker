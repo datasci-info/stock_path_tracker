{
 "cells": [
  {
   "cell_type": "code",
   "execution_count": 1,
   "metadata": {},
   "outputs": [],
   "source": [
    "%reload_ext autoreload\n",
    "%autoreload 2"
   ]
  },
  {
   "cell_type": "code",
   "execution_count": 2,
   "metadata": {},
   "outputs": [],
   "source": [
    "%matplotlib inline"
   ]
  },
  {
   "cell_type": "code",
   "execution_count": 3,
   "metadata": {},
   "outputs": [],
   "source": [
    "from IPython.core.interactiveshell import InteractiveShell\n",
    "InteractiveShell.ast_node_interactivity = \"all\""
   ]
  },
  {
   "cell_type": "code",
   "execution_count": 16,
   "metadata": {},
   "outputs": [],
   "source": [
    "import itertools "
   ]
  },
  {
   "cell_type": "code",
   "execution_count": 17,
   "metadata": {},
   "outputs": [
    {
     "data": {
      "text/plain": [
       "True"
      ]
     },
     "execution_count": 17,
     "metadata": {},
     "output_type": "execute_result"
    },
    {
     "name": "stdout",
     "output_type": "stream",
     "text": [
      "DolphinDB available tables:\n"
     ]
    },
    {
     "data": {
      "text/plain": [
       "array(['dfs://dailyETF/dailyETF', 'dfs://dailyOptions/dailyOptionsBasic',\n",
       "       'dfs://dailyStock/dailyStockBasic',\n",
       "       'dfs://dailyStock/dailyStockCapitalReduction',\n",
       "       'dfs://dailyStock/dailyStockCompanies',\n",
       "       'dfs://dailyStock/dailyStockDealers',\n",
       "       'dfs://dailyStock/dailyStockForeign',\n",
       "       'dfs://dailyStock/dailyStockForeignShare',\n",
       "       'dfs://dailyStock/dailyStockMargin',\n",
       "       'dfs://dailyStock/dailyStockRightDividend',\n",
       "       'dfs://dailyStock/dailyStockRightDividendComp',\n",
       "       'dfs://dailyStock/dailyStockShortSale',\n",
       "       'dfs://dailyStock/dailyStockShortSaleBalance',\n",
       "       'dfs://dailyStock/dailyStockShortSaleVolume',\n",
       "       'dfs://dailyStock/dailyStockTradeDay',\n",
       "       'dfs://daily_stock/dailyStock',\n",
       "       'dfs://daily_stock_margin/dailyStockMargin',\n",
       "       'dfs://daily_tfe/tickTFE', 'dfs://feature/indicator',\n",
       "       'dfs://futTaifex/futTaifex',\n",
       "       'dfs://test_indicator_tfe/testIndicator'], dtype='<U44')"
      ]
     },
     "execution_count": 17,
     "metadata": {},
     "output_type": "execute_result"
    }
   ],
   "source": [
    "import dolphindb\n",
    "sess = dolphindb.session()\n",
    "sess.connect(\"localhost\", 8868, \"admin\", \"123456\")\n",
    "print('DolphinDB available tables:')\n",
    "sess.run('getClusterDFSTables()')"
   ]
  },
  {
   "cell_type": "code",
   "execution_count": 18,
   "metadata": {},
   "outputs": [],
   "source": [
    "import sys\n",
    "import numpy as np\n",
    "import pandas as pd\n",
    "import matplotlib.pylab as plt"
   ]
  },
  {
   "cell_type": "code",
   "execution_count": 19,
   "metadata": {},
   "outputs": [],
   "source": [
    "import config as cfg"
   ]
  },
  {
   "cell_type": "code",
   "execution_count": 20,
   "metadata": {},
   "outputs": [
    {
     "name": "stderr",
     "output_type": "stream",
     "text": [
      "/home/cyyen/miniconda3/envs/stock_path_tracker/lib/python3.8/site-packages/IPython/core/interactiveshell.py:3343: FutureWarning: The read_msgpack is deprecated and will be removed in a future version.\n",
      "It is recommended to use pyarrow for on-the-wire transmission of pandas objects.\n",
      "  exec(code_obj, self.user_global_ns, self.user_ns)\n"
     ]
    },
    {
     "data": {
      "text/html": [
       "<div>\n",
       "<style scoped>\n",
       "    .dataframe tbody tr th:only-of-type {\n",
       "        vertical-align: middle;\n",
       "    }\n",
       "\n",
       "    .dataframe tbody tr th {\n",
       "        vertical-align: top;\n",
       "    }\n",
       "\n",
       "    .dataframe thead th {\n",
       "        text-align: right;\n",
       "    }\n",
       "</style>\n",
       "<table border=\"1\" class=\"dataframe\">\n",
       "  <thead>\n",
       "    <tr style=\"text-align: right;\">\n",
       "      <th></th>\n",
       "      <th>open</th>\n",
       "      <th>high</th>\n",
       "      <th>low</th>\n",
       "      <th>close</th>\n",
       "      <th>order_buy</th>\n",
       "      <th>order_sell</th>\n",
       "      <th>volume</th>\n",
       "    </tr>\n",
       "    <tr>\n",
       "      <th>date</th>\n",
       "      <th></th>\n",
       "      <th></th>\n",
       "      <th></th>\n",
       "      <th></th>\n",
       "      <th></th>\n",
       "      <th></th>\n",
       "      <th></th>\n",
       "    </tr>\n",
       "  </thead>\n",
       "  <tbody>\n",
       "    <tr>\n",
       "      <th>2005-07-11</th>\n",
       "      <td>6255.40</td>\n",
       "      <td>6305.61</td>\n",
       "      <td>6249.41</td>\n",
       "      <td>6298.86</td>\n",
       "      <td>88271.0</td>\n",
       "      <td>98780.0</td>\n",
       "      <td>93877.0</td>\n",
       "    </tr>\n",
       "    <tr>\n",
       "      <th>2005-07-12</th>\n",
       "      <td>6337.50</td>\n",
       "      <td>6365.76</td>\n",
       "      <td>6337.50</td>\n",
       "      <td>6358.81</td>\n",
       "      <td>86565.0</td>\n",
       "      <td>111912.0</td>\n",
       "      <td>101703.0</td>\n",
       "    </tr>\n",
       "    <tr>\n",
       "      <th>2005-07-13</th>\n",
       "      <td>6360.60</td>\n",
       "      <td>6406.99</td>\n",
       "      <td>6352.21</td>\n",
       "      <td>6377.09</td>\n",
       "      <td>80802.0</td>\n",
       "      <td>120531.0</td>\n",
       "      <td>106134.0</td>\n",
       "    </tr>\n",
       "    <tr>\n",
       "      <th>2005-07-14</th>\n",
       "      <td>6403.08</td>\n",
       "      <td>6427.32</td>\n",
       "      <td>6375.75</td>\n",
       "      <td>6418.35</td>\n",
       "      <td>92496.0</td>\n",
       "      <td>114781.0</td>\n",
       "      <td>106806.0</td>\n",
       "    </tr>\n",
       "    <tr>\n",
       "      <th>2005-07-15</th>\n",
       "      <td>6428.44</td>\n",
       "      <td>6454.33</td>\n",
       "      <td>6410.59</td>\n",
       "      <td>6410.59</td>\n",
       "      <td>88827.0</td>\n",
       "      <td>124306.0</td>\n",
       "      <td>106727.0</td>\n",
       "    </tr>\n",
       "  </tbody>\n",
       "</table>\n",
       "</div>"
      ],
      "text/plain": [
       "               open     high      low    close  order_buy  order_sell  \\\n",
       "date                                                                    \n",
       "2005-07-11  6255.40  6305.61  6249.41  6298.86    88271.0     98780.0   \n",
       "2005-07-12  6337.50  6365.76  6337.50  6358.81    86565.0    111912.0   \n",
       "2005-07-13  6360.60  6406.99  6352.21  6377.09    80802.0    120531.0   \n",
       "2005-07-14  6403.08  6427.32  6375.75  6418.35    92496.0    114781.0   \n",
       "2005-07-15  6428.44  6454.33  6410.59  6410.59    88827.0    124306.0   \n",
       "\n",
       "              volume  \n",
       "date                  \n",
       "2005-07-11   93877.0  \n",
       "2005-07-12  101703.0  \n",
       "2005-07-13  106134.0  \n",
       "2005-07-14  106806.0  \n",
       "2005-07-15  106727.0  "
      ]
     },
     "execution_count": 20,
     "metadata": {},
     "output_type": "execute_result"
    }
   ],
   "source": [
    "#TODO: switch to ddb twse index \n",
    "twse = pd.read_msgpack('/data/dataset/twse.msgpack')\n",
    "twse.head()"
   ]
  },
  {
   "cell_type": "markdown",
   "metadata": {},
   "source": [
    "# quantization: 2012-11-22 ~ 2020-04-15\n",
    "- TODO: add maturity dates before December 2012\n",
    "- size of cell: 100 \n",
    "- rounding: take floor"
   ]
  },
  {
   "cell_type": "code",
   "execution_count": 21,
   "metadata": {},
   "outputs": [],
   "source": [
    "df = twse[cfg.D_START:][['close']].copy()"
   ]
  },
  {
   "cell_type": "code",
   "execution_count": 22,
   "metadata": {},
   "outputs": [],
   "source": [
    "df['prc_qtz'] = df.close // cfg.SIZE_CELL * cfg.SIZE_CELL\n",
    "df['delta'] = df.prc_qtz.diff()"
   ]
  },
  {
   "cell_type": "code",
   "execution_count": 23,
   "metadata": {},
   "outputs": [],
   "source": [
    "settlements = pd.to_datetime(pd.read_csv('settlement_txf.csv').settlement).dt.date.tolist()\n",
    "df['maturity'] = df.index.where(df.index.isin(settlements)).to_series().fillna(method='bfill').values\n",
    "d2m = df.groupby('maturity').size().sort_index().tolist()\n",
    "df['d2m'] = sum([list(reversed(range(d))) for d in d2m], []) + [np.nan] * (df.shape[0] - sum(d2m))\n",
    "df = df[cfg.D_START: cfg.D_END]\n",
    "\n",
    "df.dropna(inplace=True)\n",
    "df.sort_index(ascending=True, inplace=True)"
   ]
  },
  {
   "cell_type": "code",
   "execution_count": 24,
   "metadata": {},
   "outputs": [
    {
     "name": "stdout",
     "output_type": "stream",
     "text": [
      "<class 'pandas.core.frame.DataFrame'>\n",
      "DatetimeIndex: 1803 entries, 2012-11-23 to 2020-04-15\n",
      "Data columns (total 4 columns):\n",
      "close      1803 non-null float64\n",
      "prc_qtz    1803 non-null float64\n",
      "delta      1803 non-null float64\n",
      "d2m        1803 non-null float64\n",
      "dtypes: float64(4)\n",
      "memory usage: 70.4 KB\n"
     ]
    },
    {
     "data": {
      "text/html": [
       "<div>\n",
       "<style scoped>\n",
       "    .dataframe tbody tr th:only-of-type {\n",
       "        vertical-align: middle;\n",
       "    }\n",
       "\n",
       "    .dataframe tbody tr th {\n",
       "        vertical-align: top;\n",
       "    }\n",
       "\n",
       "    .dataframe thead th {\n",
       "        text-align: right;\n",
       "    }\n",
       "</style>\n",
       "<table border=\"1\" class=\"dataframe\">\n",
       "  <thead>\n",
       "    <tr style=\"text-align: right;\">\n",
       "      <th></th>\n",
       "      <th>close</th>\n",
       "      <th>prc_qtz</th>\n",
       "      <th>delta</th>\n",
       "      <th>d2m</th>\n",
       "    </tr>\n",
       "    <tr>\n",
       "      <th>date</th>\n",
       "      <th></th>\n",
       "      <th></th>\n",
       "      <th></th>\n",
       "      <th></th>\n",
       "    </tr>\n",
       "  </thead>\n",
       "  <tbody>\n",
       "    <tr>\n",
       "      <th>2012-11-23</th>\n",
       "      <td>7326.01</td>\n",
       "      <td>7300.0</td>\n",
       "      <td>200.0</td>\n",
       "      <td>18.0</td>\n",
       "    </tr>\n",
       "    <tr>\n",
       "      <th>2012-11-26</th>\n",
       "      <td>7407.37</td>\n",
       "      <td>7400.0</td>\n",
       "      <td>100.0</td>\n",
       "      <td>17.0</td>\n",
       "    </tr>\n",
       "    <tr>\n",
       "      <th>2012-11-27</th>\n",
       "      <td>7430.20</td>\n",
       "      <td>7400.0</td>\n",
       "      <td>0.0</td>\n",
       "      <td>16.0</td>\n",
       "    </tr>\n",
       "    <tr>\n",
       "      <th>2012-11-28</th>\n",
       "      <td>7434.93</td>\n",
       "      <td>7400.0</td>\n",
       "      <td>0.0</td>\n",
       "      <td>15.0</td>\n",
       "    </tr>\n",
       "    <tr>\n",
       "      <th>2012-11-29</th>\n",
       "      <td>7503.55</td>\n",
       "      <td>7500.0</td>\n",
       "      <td>100.0</td>\n",
       "      <td>14.0</td>\n",
       "    </tr>\n",
       "    <tr>\n",
       "      <th>2012-11-30</th>\n",
       "      <td>7580.17</td>\n",
       "      <td>7500.0</td>\n",
       "      <td>0.0</td>\n",
       "      <td>13.0</td>\n",
       "    </tr>\n",
       "    <tr>\n",
       "      <th>2012-12-03</th>\n",
       "      <td>7599.91</td>\n",
       "      <td>7500.0</td>\n",
       "      <td>0.0</td>\n",
       "      <td>12.0</td>\n",
       "    </tr>\n",
       "    <tr>\n",
       "      <th>2012-12-04</th>\n",
       "      <td>7600.98</td>\n",
       "      <td>7600.0</td>\n",
       "      <td>100.0</td>\n",
       "      <td>11.0</td>\n",
       "    </tr>\n",
       "    <tr>\n",
       "      <th>2012-12-05</th>\n",
       "      <td>7649.05</td>\n",
       "      <td>7600.0</td>\n",
       "      <td>0.0</td>\n",
       "      <td>10.0</td>\n",
       "    </tr>\n",
       "    <tr>\n",
       "      <th>2012-12-06</th>\n",
       "      <td>7623.26</td>\n",
       "      <td>7600.0</td>\n",
       "      <td>0.0</td>\n",
       "      <td>9.0</td>\n",
       "    </tr>\n",
       "  </tbody>\n",
       "</table>\n",
       "</div>"
      ],
      "text/plain": [
       "              close  prc_qtz  delta   d2m\n",
       "date                                     \n",
       "2012-11-23  7326.01   7300.0  200.0  18.0\n",
       "2012-11-26  7407.37   7400.0  100.0  17.0\n",
       "2012-11-27  7430.20   7400.0    0.0  16.0\n",
       "2012-11-28  7434.93   7400.0    0.0  15.0\n",
       "2012-11-29  7503.55   7500.0  100.0  14.0\n",
       "2012-11-30  7580.17   7500.0    0.0  13.0\n",
       "2012-12-03  7599.91   7500.0    0.0  12.0\n",
       "2012-12-04  7600.98   7600.0  100.0  11.0\n",
       "2012-12-05  7649.05   7600.0    0.0  10.0\n",
       "2012-12-06  7623.26   7600.0    0.0   9.0"
      ]
     },
     "execution_count": 24,
     "metadata": {},
     "output_type": "execute_result"
    }
   ],
   "source": [
    "# vis\n",
    "df[['close', 'prc_qtz', 'delta', 'd2m']].info()\n",
    "df[['close', 'prc_qtz', 'delta', 'd2m']].head(10)"
   ]
  },
  {
   "cell_type": "markdown",
   "metadata": {},
   "source": [
    "## example: 2015-07-01 ~ 2015-07-14"
   ]
  },
  {
   "cell_type": "code",
   "execution_count": 25,
   "metadata": {},
   "outputs": [
    {
     "data": {
      "text/plain": [
       "<matplotlib.axes._subplots.AxesSubplot at 0x7f3af3ddde50>"
      ]
     },
     "execution_count": 25,
     "metadata": {},
     "output_type": "execute_result"
    },
    {
     "data": {
      "image/png": "[encoded data removed]",
      "text/plain": [
       "<Figure size 432x288 with 1 Axes>"
      ]
     },
     "metadata": {
      "needs_background": "light"
     },
     "output_type": "display_data"
    }
   ],
   "source": [
    "# vis\n",
    "df_plot = df['2015-07-01': '2015-07-14' ]\n",
    "ax = df_plot[['close']].plot(title=f'TWSE Index: {cfg.D_START} ~ {cfg.D_END}')\n",
    "df_plot[['prc_qtz']].plot(drawstyle='steps', ax=ax)"
   ]
  },
  {
   "cell_type": "markdown",
   "metadata": {},
   "source": [
    "# Distribution of changes in cell"
   ]
  },
  {
   "cell_type": "markdown",
   "metadata": {},
   "source": [
    "## histogram "
   ]
  },
  {
   "cell_type": "code",
   "execution_count": 26,
   "metadata": {},
   "outputs": [
    {
     "data": {
      "text/plain": [
       "Text(0.5, 1.0, '#(cells)')"
      ]
     },
     "execution_count": 26,
     "metadata": {},
     "output_type": "execute_result"
    },
    {
     "data": {
      "image/png": "[encoded data removed]",
      "text/plain": [
       "<Figure size 432x288 with 1 Axes>"
      ]
     },
     "metadata": {
      "needs_background": "light"
     },
     "output_type": "display_data"
    }
   ],
   "source": [
    "ax = df.delta.div(cfg.SIZE_CELL).hist()\n",
    "ax.set_title('#(cells)')"
   ]
  },
  {
   "cell_type": "markdown",
   "metadata": {},
   "source": [
    "## quantile"
   ]
  },
  {
   "cell_type": "code",
   "execution_count": 27,
   "metadata": {},
   "outputs": [
    {
     "data": {
      "text/html": [
       "<div>\n",
       "<style scoped>\n",
       "    .dataframe tbody tr th:only-of-type {\n",
       "        vertical-align: middle;\n",
       "    }\n",
       "\n",
       "    .dataframe tbody tr th {\n",
       "        vertical-align: top;\n",
       "    }\n",
       "\n",
       "    .dataframe thead th {\n",
       "        text-align: right;\n",
       "    }\n",
       "</style>\n",
       "<table border=\"1\" class=\"dataframe\">\n",
       "  <thead>\n",
       "    <tr style=\"text-align: right;\">\n",
       "      <th></th>\n",
       "      <th>min</th>\n",
       "      <th>2.5%</th>\n",
       "      <th>25%</th>\n",
       "      <th>median</th>\n",
       "      <th>75%</th>\n",
       "      <th>97.5%</th>\n",
       "      <th>max</th>\n",
       "    </tr>\n",
       "  </thead>\n",
       "  <tbody>\n",
       "    <tr>\n",
       "      <th>delta</th>\n",
       "      <td>-7.0</td>\n",
       "      <td>-2.0</td>\n",
       "      <td>0.0</td>\n",
       "      <td>0.0</td>\n",
       "      <td>1.0</td>\n",
       "      <td>1.0</td>\n",
       "      <td>6.0</td>\n",
       "    </tr>\n",
       "  </tbody>\n",
       "</table>\n",
       "</div>"
      ],
      "text/plain": [
       "       min  2.5%  25%  median  75%  97.5%  max\n",
       "delta -7.0  -2.0  0.0     0.0  1.0    1.0  6.0"
      ]
     },
     "execution_count": 27,
     "metadata": {},
     "output_type": "execute_result"
    }
   ],
   "source": [
    "df_quantile = df.delta.div(cfg.SIZE_CELL).quantile([0, 0.025, 0.25, 0.5, 0.75, 0.975, 1]).to_frame('delta').T\n",
    "df_quantile.columns = ['min', \"2.5%\", '25%', 'median', '75%', '97.5%', 'max']\n",
    "df_quantile"
   ]
  },
  {
   "cell_type": "markdown",
   "metadata": {},
   "source": [
    "## extreme cases"
   ]
  },
  {
   "cell_type": "code",
   "execution_count": 28,
   "metadata": {},
   "outputs": [
    {
     "data": {
      "text/html": [
       "<div>\n",
       "<style scoped>\n",
       "    .dataframe tbody tr th:only-of-type {\n",
       "        vertical-align: middle;\n",
       "    }\n",
       "\n",
       "    .dataframe tbody tr th {\n",
       "        vertical-align: top;\n",
       "    }\n",
       "\n",
       "    .dataframe thead th {\n",
       "        text-align: right;\n",
       "    }\n",
       "</style>\n",
       "<table border=\"1\" class=\"dataframe\">\n",
       "  <thead>\n",
       "    <tr style=\"text-align: right;\">\n",
       "      <th></th>\n",
       "      <th>close</th>\n",
       "      <th>prc_qtz</th>\n",
       "      <th>delta</th>\n",
       "      <th>maturity</th>\n",
       "      <th>d2m</th>\n",
       "    </tr>\n",
       "    <tr>\n",
       "      <th>date</th>\n",
       "      <th></th>\n",
       "      <th></th>\n",
       "      <th></th>\n",
       "      <th></th>\n",
       "      <th></th>\n",
       "    </tr>\n",
       "  </thead>\n",
       "  <tbody>\n",
       "    <tr>\n",
       "      <th>2018-02-21</th>\n",
       "      <td>10714.44</td>\n",
       "      <td>10700.0</td>\n",
       "      <td>300.0</td>\n",
       "      <td>2018-02-21</td>\n",
       "      <td>0.0</td>\n",
       "    </tr>\n",
       "    <tr>\n",
       "      <th>2018-10-31</th>\n",
       "      <td>9802.13</td>\n",
       "      <td>9800.0</td>\n",
       "      <td>300.0</td>\n",
       "      <td>2018-11-21</td>\n",
       "      <td>15.0</td>\n",
       "    </tr>\n",
       "    <tr>\n",
       "      <th>2018-12-03</th>\n",
       "      <td>10137.87</td>\n",
       "      <td>10100.0</td>\n",
       "      <td>300.0</td>\n",
       "      <td>2018-12-19</td>\n",
       "      <td>12.0</td>\n",
       "    </tr>\n",
       "    <tr>\n",
       "      <th>2020-03-20</th>\n",
       "      <td>9234.09</td>\n",
       "      <td>9200.0</td>\n",
       "      <td>600.0</td>\n",
       "      <td>2020-04-15</td>\n",
       "      <td>16.0</td>\n",
       "    </tr>\n",
       "    <tr>\n",
       "      <th>2020-03-24</th>\n",
       "      <td>9285.62</td>\n",
       "      <td>9200.0</td>\n",
       "      <td>400.0</td>\n",
       "      <td>2020-04-15</td>\n",
       "      <td>14.0</td>\n",
       "    </tr>\n",
       "    <tr>\n",
       "      <th>2020-03-25</th>\n",
       "      <td>9644.75</td>\n",
       "      <td>9600.0</td>\n",
       "      <td>400.0</td>\n",
       "      <td>2020-04-15</td>\n",
       "      <td>13.0</td>\n",
       "    </tr>\n",
       "    <tr>\n",
       "      <th>2020-04-14</th>\n",
       "      <td>10332.94</td>\n",
       "      <td>10300.0</td>\n",
       "      <td>300.0</td>\n",
       "      <td>2020-04-15</td>\n",
       "      <td>1.0</td>\n",
       "    </tr>\n",
       "  </tbody>\n",
       "</table>\n",
       "</div>"
      ],
      "text/plain": [
       "               close  prc_qtz  delta   maturity   d2m\n",
       "date                                                 \n",
       "2018-02-21  10714.44  10700.0  300.0 2018-02-21   0.0\n",
       "2018-10-31   9802.13   9800.0  300.0 2018-11-21  15.0\n",
       "2018-12-03  10137.87  10100.0  300.0 2018-12-19  12.0\n",
       "2020-03-20   9234.09   9200.0  600.0 2020-04-15  16.0\n",
       "2020-03-24   9285.62   9200.0  400.0 2020-04-15  14.0\n",
       "2020-03-25   9644.75   9600.0  400.0 2020-04-15  13.0\n",
       "2020-04-14  10332.94  10300.0  300.0 2020-04-15   1.0"
      ]
     },
     "execution_count": 28,
     "metadata": {},
     "output_type": "execute_result"
    }
   ],
   "source": [
    "df_extreme_pos = df.query(f'(delta > 2*{cfg.SIZE_CELL})')\n",
    "df_extreme_pos.sort_index()"
   ]
  },
  {
   "cell_type": "code",
   "execution_count": 29,
   "metadata": {},
   "outputs": [
    {
     "data": {
      "text/html": [
       "<div>\n",
       "<style scoped>\n",
       "    .dataframe tbody tr th:only-of-type {\n",
       "        vertical-align: middle;\n",
       "    }\n",
       "\n",
       "    .dataframe tbody tr th {\n",
       "        vertical-align: top;\n",
       "    }\n",
       "\n",
       "    .dataframe thead th {\n",
       "        text-align: right;\n",
       "    }\n",
       "</style>\n",
       "<table border=\"1\" class=\"dataframe\">\n",
       "  <thead>\n",
       "    <tr style=\"text-align: right;\">\n",
       "      <th></th>\n",
       "      <th>close</th>\n",
       "      <th>prc_qtz</th>\n",
       "      <th>delta</th>\n",
       "      <th>maturity</th>\n",
       "      <th>d2m</th>\n",
       "    </tr>\n",
       "    <tr>\n",
       "      <th>date</th>\n",
       "      <th></th>\n",
       "      <th></th>\n",
       "      <th></th>\n",
       "      <th></th>\n",
       "      <th></th>\n",
       "    </tr>\n",
       "  </thead>\n",
       "  <tbody>\n",
       "    <tr>\n",
       "      <th>2015-07-08</th>\n",
       "      <td>8976.11</td>\n",
       "      <td>8900.0</td>\n",
       "      <td>-300.0</td>\n",
       "      <td>2015-07-15</td>\n",
       "      <td>4.0</td>\n",
       "    </tr>\n",
       "    <tr>\n",
       "      <th>2015-08-21</th>\n",
       "      <td>7786.92</td>\n",
       "      <td>7700.0</td>\n",
       "      <td>-300.0</td>\n",
       "      <td>2015-09-16</td>\n",
       "      <td>18.0</td>\n",
       "    </tr>\n",
       "    <tr>\n",
       "      <th>2015-08-24</th>\n",
       "      <td>7410.34</td>\n",
       "      <td>7400.0</td>\n",
       "      <td>-300.0</td>\n",
       "      <td>2015-09-16</td>\n",
       "      <td>17.0</td>\n",
       "    </tr>\n",
       "    <tr>\n",
       "      <th>2016-11-09</th>\n",
       "      <td>8943.20</td>\n",
       "      <td>8900.0</td>\n",
       "      <td>-300.0</td>\n",
       "      <td>2016-11-16</td>\n",
       "      <td>5.0</td>\n",
       "    </tr>\n",
       "    <tr>\n",
       "      <th>2018-02-06</th>\n",
       "      <td>10404.00</td>\n",
       "      <td>10400.0</td>\n",
       "      <td>-500.0</td>\n",
       "      <td>2018-02-21</td>\n",
       "      <td>5.0</td>\n",
       "    </tr>\n",
       "    <tr>\n",
       "      <th>2018-10-11</th>\n",
       "      <td>9806.11</td>\n",
       "      <td>9800.0</td>\n",
       "      <td>-600.0</td>\n",
       "      <td>2018-10-17</td>\n",
       "      <td>4.0</td>\n",
       "    </tr>\n",
       "    <tr>\n",
       "      <th>2018-12-06</th>\n",
       "      <td>9684.72</td>\n",
       "      <td>9600.0</td>\n",
       "      <td>-300.0</td>\n",
       "      <td>2018-12-19</td>\n",
       "      <td>9.0</td>\n",
       "    </tr>\n",
       "    <tr>\n",
       "      <th>2020-01-30</th>\n",
       "      <td>11421.74</td>\n",
       "      <td>11400.0</td>\n",
       "      <td>-700.0</td>\n",
       "      <td>2020-02-19</td>\n",
       "      <td>14.0</td>\n",
       "    </tr>\n",
       "    <tr>\n",
       "      <th>2020-03-09</th>\n",
       "      <td>10977.64</td>\n",
       "      <td>10900.0</td>\n",
       "      <td>-400.0</td>\n",
       "      <td>2020-03-18</td>\n",
       "      <td>7.0</td>\n",
       "    </tr>\n",
       "    <tr>\n",
       "      <th>2020-03-12</th>\n",
       "      <td>10422.32</td>\n",
       "      <td>10400.0</td>\n",
       "      <td>-400.0</td>\n",
       "      <td>2020-03-18</td>\n",
       "      <td>4.0</td>\n",
       "    </tr>\n",
       "    <tr>\n",
       "      <th>2020-03-13</th>\n",
       "      <td>10128.87</td>\n",
       "      <td>10100.0</td>\n",
       "      <td>-300.0</td>\n",
       "      <td>2020-03-18</td>\n",
       "      <td>3.0</td>\n",
       "    </tr>\n",
       "    <tr>\n",
       "      <th>2020-03-16</th>\n",
       "      <td>9717.77</td>\n",
       "      <td>9700.0</td>\n",
       "      <td>-400.0</td>\n",
       "      <td>2020-03-18</td>\n",
       "      <td>2.0</td>\n",
       "    </tr>\n",
       "    <tr>\n",
       "      <th>2020-03-17</th>\n",
       "      <td>9439.63</td>\n",
       "      <td>9400.0</td>\n",
       "      <td>-300.0</td>\n",
       "      <td>2020-03-18</td>\n",
       "      <td>1.0</td>\n",
       "    </tr>\n",
       "    <tr>\n",
       "      <th>2020-03-19</th>\n",
       "      <td>8681.34</td>\n",
       "      <td>8600.0</td>\n",
       "      <td>-600.0</td>\n",
       "      <td>2020-04-15</td>\n",
       "      <td>17.0</td>\n",
       "    </tr>\n",
       "    <tr>\n",
       "      <th>2020-03-23</th>\n",
       "      <td>8890.03</td>\n",
       "      <td>8800.0</td>\n",
       "      <td>-400.0</td>\n",
       "      <td>2020-04-15</td>\n",
       "      <td>15.0</td>\n",
       "    </tr>\n",
       "  </tbody>\n",
       "</table>\n",
       "</div>"
      ],
      "text/plain": [
       "               close  prc_qtz  delta   maturity   d2m\n",
       "date                                                 \n",
       "2015-07-08   8976.11   8900.0 -300.0 2015-07-15   4.0\n",
       "2015-08-21   7786.92   7700.0 -300.0 2015-09-16  18.0\n",
       "2015-08-24   7410.34   7400.0 -300.0 2015-09-16  17.0\n",
       "2016-11-09   8943.20   8900.0 -300.0 2016-11-16   5.0\n",
       "2018-02-06  10404.00  10400.0 -500.0 2018-02-21   5.0\n",
       "2018-10-11   9806.11   9800.0 -600.0 2018-10-17   4.0\n",
       "2018-12-06   9684.72   9600.0 -300.0 2018-12-19   9.0\n",
       "2020-01-30  11421.74  11400.0 -700.0 2020-02-19  14.0\n",
       "2020-03-09  10977.64  10900.0 -400.0 2020-03-18   7.0\n",
       "2020-03-12  10422.32  10400.0 -400.0 2020-03-18   4.0\n",
       "2020-03-13  10128.87  10100.0 -300.0 2020-03-18   3.0\n",
       "2020-03-16   9717.77   9700.0 -400.0 2020-03-18   2.0\n",
       "2020-03-17   9439.63   9400.0 -300.0 2020-03-18   1.0\n",
       "2020-03-19   8681.34   8600.0 -600.0 2020-04-15  17.0\n",
       "2020-03-23   8890.03   8800.0 -400.0 2020-04-15  15.0"
      ]
     },
     "execution_count": 29,
     "metadata": {},
     "output_type": "execute_result"
    }
   ],
   "source": [
    "df_extreme_neg = df.query(f'(delta < -2*{cfg.SIZE_CELL})')\n",
    "df_extreme_neg.sort_index()"
   ]
  },
  {
   "cell_type": "markdown",
   "metadata": {},
   "source": [
    "# compute joint probabilty"
   ]
  },
  {
   "cell_type": "code",
   "execution_count": 30,
   "metadata": {},
   "outputs": [],
   "source": [
    "# winsorizing\n",
    "df['delta_cell'] = df.delta // cfg.SIZE_CELL\n",
    "df.loc[df.delta_cell >= cfg.MAX_DELTA_CELL, 'delta_cell'] = cfg.MAX_DELTA_CELL\n",
    "df.loc[df.delta_cell <= - cfg.MAX_DELTA_CELL , 'delta_cell'] = - cfg.MAX_DELTA_CELL"
   ]
  },
  {
   "cell_type": "code",
   "execution_count": 33,
   "metadata": {},
   "outputs": [
    {
     "data": {
      "text/html": [
       "<div>\n",
       "<style scoped>\n",
       "    .dataframe tbody tr th:only-of-type {\n",
       "        vertical-align: middle;\n",
       "    }\n",
       "\n",
       "    .dataframe tbody tr th {\n",
       "        vertical-align: top;\n",
       "    }\n",
       "\n",
       "    .dataframe thead th {\n",
       "        text-align: right;\n",
       "    }\n",
       "</style>\n",
       "<table border=\"1\" class=\"dataframe\">\n",
       "  <thead>\n",
       "    <tr style=\"text-align: right;\">\n",
       "      <th></th>\n",
       "      <th>-2</th>\n",
       "      <th>-1</th>\n",
       "      <th>0</th>\n",
       "      <th>1</th>\n",
       "      <th>2</th>\n",
       "    </tr>\n",
       "  </thead>\n",
       "  <tbody>\n",
       "    <tr>\n",
       "      <th>prob</th>\n",
       "      <td>0.036606</td>\n",
       "      <td>0.191348</td>\n",
       "      <td>0.50305</td>\n",
       "      <td>0.244592</td>\n",
       "      <td>0.024404</td>\n",
       "    </tr>\n",
       "  </tbody>\n",
       "</table>\n",
       "</div>"
      ],
      "text/plain": [
       "            -2        -1        0         1         2\n",
       "prob  0.036606  0.191348  0.50305  0.244592  0.024404"
      ]
     },
     "execution_count": 33,
     "metadata": {},
     "output_type": "execute_result"
    }
   ],
   "source": [
    "def get_prob_single_day(df):\n",
    "    prob_delta_cell = pd.Series(np.nan, index=range(-cfg.MAX_DELTA_CELL, cfg.MAX_DELTA_CELL+1))\n",
    "    prob_delta_cell.update(df.groupby('delta_cell').size().div(df.shape[0]))\n",
    "    prob_delta_cell.fillna(0, inplace=True)\n",
    "    return prob_delta_cell\n",
    "prob_delta_cell = get_prob_single_day(df)\n",
    "prob_delta_cell.to_frame('prob').T"
   ]
  },
  {
   "cell_type": "code",
   "execution_count": 34,
   "metadata": {},
   "outputs": [
    {
     "data": {
      "text/plain": [
       "Text(0.5, 1.0, 'Prob($\\\\Delta_t$)')"
      ]
     },
     "execution_count": 34,
     "metadata": {},
     "output_type": "execute_result"
    },
    {
     "data": {
      "image/png": "[encoded data removed]",
      "text/plain": [
       "<Figure size 432x288 with 1 Axes>"
      ]
     },
     "metadata": {
      "needs_background": "light"
     },
     "output_type": "display_data"
    }
   ],
   "source": [
    "ax = prob_delta_cell.plot.bar(width=1)\n",
    "ax.set_title('Prob($\\Delta_t$)')"
   ]
  },
  {
   "cell_type": "code",
   "execution_count": 35,
   "metadata": {},
   "outputs": [
    {
     "name": "stdout",
     "output_type": "stream",
     "text": [
      "[14 days] used 1025.39 GB\n",
      "[10 days] used 1.33 GB\n"
     ]
    }
   ],
   "source": [
    "GB = 10**9\n",
    "n_layer = 14\n",
    "print(f'[{n_layer} days] used {sys.getsizeof(list(range(n_layer))) * 5**n_layer / GB:.2f} GB')\n",
    "\n",
    "n_layer = 10\n",
    "print(f'[{n_layer} days] used {sys.getsizeof(list(range(n_layer))) * 5**n_layer / GB:.2f} GB')"
   ]
  },
  {
   "cell_type": "markdown",
   "metadata": {},
   "source": [
    "- currently only calcualte for $\\tau \\leq 9$, because of huge computing demand and memory"
   ]
  },
  {
   "cell_type": "code",
   "execution_count": 39,
   "metadata": {},
   "outputs": [],
   "source": [
    "gen_sequence = lambda var_tau: itertools.product(range(-cfg.MAX_DELTA_CELL, cfg.MAX_DELTA_CELL+1), repeat=var_tau+1)\n",
    "\n",
    "def get_realizations(var_lambda, var_tau):\n",
    "    assert var_tau <= 9, 'the probability matrix is not prepared for var_tau > 9'\n",
    "    all_feasible_seqs = filter(lambda seq: sum(seq) == var_lambda, gen_sequence(var_tau))\n",
    "    df_real = pd.DataFrame(list(all_feasible_seqs))\n",
    "    df_real.index.name = 'realization'\n",
    "    df_real.columns.name = 'duration'\n",
    "    return df_real\n",
    "\n",
    "def get_prob(df_real, prob_delta_cell):\n",
    "    prob = df_real.replace(prob_delta_cell.to_dict()).product(axis=1).sum()\n",
    "    return prob"
   ]
  },
  {
   "cell_type": "code",
   "execution_count": 40,
   "metadata": {},
   "outputs": [
    {
     "name": "stdout",
     "output_type": "stream",
     "text": [
      "\n",
      "lambda \t\t: \t 2\n",
      "tau \t\t: \t 8\n",
      "#(realization) \t: \t 162585\n",
      "probability \t: \t 12.84 %\n",
      "\n"
     ]
    },
    {
     "data": {
      "text/html": [
       "<div>\n",
       "<style scoped>\n",
       "    .dataframe tbody tr th:only-of-type {\n",
       "        vertical-align: middle;\n",
       "    }\n",
       "\n",
       "    .dataframe tbody tr th {\n",
       "        vertical-align: top;\n",
       "    }\n",
       "\n",
       "    .dataframe thead th {\n",
       "        text-align: right;\n",
       "    }\n",
       "</style>\n",
       "<table border=\"1\" class=\"dataframe\">\n",
       "  <thead>\n",
       "    <tr style=\"text-align: right;\">\n",
       "      <th>duration</th>\n",
       "      <th>0</th>\n",
       "      <th>1</th>\n",
       "      <th>2</th>\n",
       "      <th>3</th>\n",
       "      <th>4</th>\n",
       "      <th>5</th>\n",
       "      <th>6</th>\n",
       "      <th>7</th>\n",
       "      <th>8</th>\n",
       "      <th>$\\Sigma\\Delta_t$</th>\n",
       "      <th>prob</th>\n",
       "    </tr>\n",
       "    <tr>\n",
       "      <th>realization</th>\n",
       "      <th></th>\n",
       "      <th></th>\n",
       "      <th></th>\n",
       "      <th></th>\n",
       "      <th></th>\n",
       "      <th></th>\n",
       "      <th></th>\n",
       "      <th></th>\n",
       "      <th></th>\n",
       "      <th></th>\n",
       "      <th></th>\n",
       "    </tr>\n",
       "  </thead>\n",
       "  <tbody>\n",
       "    <tr>\n",
       "      <th>0</th>\n",
       "      <td>-2</td>\n",
       "      <td>-2</td>\n",
       "      <td>-2</td>\n",
       "      <td>-2</td>\n",
       "      <td>2</td>\n",
       "      <td>2</td>\n",
       "      <td>2</td>\n",
       "      <td>2</td>\n",
       "      <td>2</td>\n",
       "      <td>2</td>\n",
       "      <td>3.792578e-16</td>\n",
       "    </tr>\n",
       "    <tr>\n",
       "      <th>1</th>\n",
       "      <td>-2</td>\n",
       "      <td>-2</td>\n",
       "      <td>-2</td>\n",
       "      <td>-1</td>\n",
       "      <td>1</td>\n",
       "      <td>2</td>\n",
       "      <td>2</td>\n",
       "      <td>2</td>\n",
       "      <td>2</td>\n",
       "      <td>2</td>\n",
       "      <td>1.986990e-14</td>\n",
       "    </tr>\n",
       "    <tr>\n",
       "      <th>2</th>\n",
       "      <td>-2</td>\n",
       "      <td>-2</td>\n",
       "      <td>-2</td>\n",
       "      <td>-1</td>\n",
       "      <td>2</td>\n",
       "      <td>1</td>\n",
       "      <td>2</td>\n",
       "      <td>2</td>\n",
       "      <td>2</td>\n",
       "      <td>2</td>\n",
       "      <td>1.986990e-14</td>\n",
       "    </tr>\n",
       "    <tr>\n",
       "      <th>3</th>\n",
       "      <td>-2</td>\n",
       "      <td>-2</td>\n",
       "      <td>-2</td>\n",
       "      <td>-1</td>\n",
       "      <td>2</td>\n",
       "      <td>2</td>\n",
       "      <td>1</td>\n",
       "      <td>2</td>\n",
       "      <td>2</td>\n",
       "      <td>2</td>\n",
       "      <td>1.986990e-14</td>\n",
       "    </tr>\n",
       "    <tr>\n",
       "      <th>4</th>\n",
       "      <td>-2</td>\n",
       "      <td>-2</td>\n",
       "      <td>-2</td>\n",
       "      <td>-1</td>\n",
       "      <td>2</td>\n",
       "      <td>2</td>\n",
       "      <td>2</td>\n",
       "      <td>1</td>\n",
       "      <td>2</td>\n",
       "      <td>2</td>\n",
       "      <td>1.986990e-14</td>\n",
       "    </tr>\n",
       "    <tr>\n",
       "      <th>5</th>\n",
       "      <td>-2</td>\n",
       "      <td>-2</td>\n",
       "      <td>-2</td>\n",
       "      <td>-1</td>\n",
       "      <td>2</td>\n",
       "      <td>2</td>\n",
       "      <td>2</td>\n",
       "      <td>2</td>\n",
       "      <td>1</td>\n",
       "      <td>2</td>\n",
       "      <td>1.986990e-14</td>\n",
       "    </tr>\n",
       "    <tr>\n",
       "      <th>6</th>\n",
       "      <td>-2</td>\n",
       "      <td>-2</td>\n",
       "      <td>-2</td>\n",
       "      <td>0</td>\n",
       "      <td>0</td>\n",
       "      <td>2</td>\n",
       "      <td>2</td>\n",
       "      <td>2</td>\n",
       "      <td>2</td>\n",
       "      <td>2</td>\n",
       "      <td>1.074367e-13</td>\n",
       "    </tr>\n",
       "    <tr>\n",
       "      <th>7</th>\n",
       "      <td>-2</td>\n",
       "      <td>-2</td>\n",
       "      <td>-2</td>\n",
       "      <td>0</td>\n",
       "      <td>1</td>\n",
       "      <td>1</td>\n",
       "      <td>2</td>\n",
       "      <td>2</td>\n",
       "      <td>2</td>\n",
       "      <td>2</td>\n",
       "      <td>5.235639e-13</td>\n",
       "    </tr>\n",
       "    <tr>\n",
       "      <th>8</th>\n",
       "      <td>-2</td>\n",
       "      <td>-2</td>\n",
       "      <td>-2</td>\n",
       "      <td>0</td>\n",
       "      <td>1</td>\n",
       "      <td>2</td>\n",
       "      <td>1</td>\n",
       "      <td>2</td>\n",
       "      <td>2</td>\n",
       "      <td>2</td>\n",
       "      <td>5.235639e-13</td>\n",
       "    </tr>\n",
       "    <tr>\n",
       "      <th>9</th>\n",
       "      <td>-2</td>\n",
       "      <td>-2</td>\n",
       "      <td>-2</td>\n",
       "      <td>0</td>\n",
       "      <td>1</td>\n",
       "      <td>2</td>\n",
       "      <td>2</td>\n",
       "      <td>1</td>\n",
       "      <td>2</td>\n",
       "      <td>2</td>\n",
       "      <td>5.235639e-13</td>\n",
       "    </tr>\n",
       "  </tbody>\n",
       "</table>\n",
       "</div>"
      ],
      "text/plain": [
       "duration     0  1  2  3  4  5  6  7  8  $\\Sigma\\Delta_t$          prob\n",
       "realization                                                           \n",
       "0           -2 -2 -2 -2  2  2  2  2  2                 2  3.792578e-16\n",
       "1           -2 -2 -2 -1  1  2  2  2  2                 2  1.986990e-14\n",
       "2           -2 -2 -2 -1  2  1  2  2  2                 2  1.986990e-14\n",
       "3           -2 -2 -2 -1  2  2  1  2  2                 2  1.986990e-14\n",
       "4           -2 -2 -2 -1  2  2  2  1  2                 2  1.986990e-14\n",
       "5           -2 -2 -2 -1  2  2  2  2  1                 2  1.986990e-14\n",
       "6           -2 -2 -2  0  0  2  2  2  2                 2  1.074367e-13\n",
       "7           -2 -2 -2  0  1  1  2  2  2                 2  5.235639e-13\n",
       "8           -2 -2 -2  0  1  2  1  2  2                 2  5.235639e-13\n",
       "9           -2 -2 -2  0  1  2  2  1  2                 2  5.235639e-13"
      ]
     },
     "execution_count": 40,
     "metadata": {},
     "output_type": "execute_result"
    }
   ],
   "source": [
    "var_lambda, var_tau = 2, 8\n",
    "df_real = get_realizations(var_lambda, var_tau)\n",
    "df_real['$\\Sigma\\Delta_t$'] = df_real.sum(axis=1)\n",
    "df_real['prob'] = df_real.replace(prob_delta_cell.to_dict()).product(axis=1)\n",
    "prob = get_realizations(var_lambda, var_tau).pipe(get_prob, prob_delta_cell)\n",
    "print(f'''\n",
    "lambda \\t\\t: \\t {var_lambda}\n",
    "tau \\t\\t: \\t {var_tau}\n",
    "#(realization) \\t: \\t {df_real.shape[0]}\n",
    "probability \\t: \\t {prob*100:.2f} %\n",
    "''')\n",
    "df_real.head(10)"
   ]
  },
  {
   "cell_type": "code",
   "execution_count": 24,
   "metadata": {},
   "outputs": [
    {
     "name": "stdout",
     "output_type": "stream",
     "text": [
      "CPU times: user 576 ms, sys: 24 ms, total: 600 ms\n",
      "Wall time: 599 ms\n"
     ]
    },
    {
     "data": {
      "text/plain": [
       "(2, 8, 0.12838354719067116)"
      ]
     },
     "execution_count": 24,
     "metadata": {},
     "output_type": "execute_result"
    }
   ],
   "source": [
    "%%time\n",
    "var_lambda, var_tau = 2, 8\n",
    "prob = get_realizations(var_lambda, var_tau).pipe(get_prob, prob_delta_cell)\n",
    "var_lambda, var_tau, prob"
   ]
  },
  {
   "cell_type": "code",
   "execution_count": 25,
   "metadata": {},
   "outputs": [
    {
     "name": "stdout",
     "output_type": "stream",
     "text": [
      "CPU times: user 2.65 s, sys: 317 ms, total: 2.97 s\n",
      "Wall time: 2.97 s\n"
     ]
    },
    {
     "data": {
      "text/plain": [
       "(2, 9, 0.1255516392166399)"
      ]
     },
     "execution_count": 25,
     "metadata": {},
     "output_type": "execute_result"
    }
   ],
   "source": [
    "%%time\n",
    "var_lambda, var_tau = 2, 9\n",
    "prob = get_realizations(var_lambda, var_tau).pipe(get_prob, prob_delta_cell)\n",
    "var_lambda, var_tau, prob"
   ]
  },
  {
   "cell_type": "markdown",
   "metadata": {},
   "source": [
    "# Cost distribution\n",
    "- $OptPrc_t$: the settlePrice of t-1"
   ]
  },
  {
   "cell_type": "code",
   "execution_count": 68,
   "metadata": {},
   "outputs": [],
   "source": [
    "# TODO\n",
    "opt_start = '2015.01.05'\n",
    "cost_cutoff = 0.5"
   ]
  },
  {
   "cell_type": "code",
   "execution_count": 27,
   "metadata": {},
   "outputs": [
    {
     "data": {
      "text/html": [
       "<div>\n",
       "<style scoped>\n",
       "    .dataframe tbody tr th:only-of-type {\n",
       "        vertical-align: middle;\n",
       "    }\n",
       "\n",
       "    .dataframe tbody tr th {\n",
       "        vertical-align: top;\n",
       "    }\n",
       "\n",
       "    .dataframe thead th {\n",
       "        text-align: right;\n",
       "    }\n",
       "</style>\n",
       "<table border=\"1\" class=\"dataframe\">\n",
       "  <thead>\n",
       "    <tr style=\"text-align: right;\">\n",
       "      <th></th>\n",
       "      <th>TradingSession</th>\n",
       "      <th>min_Date</th>\n",
       "      <th>max_Date</th>\n",
       "    </tr>\n",
       "  </thead>\n",
       "  <tbody>\n",
       "    <tr>\n",
       "      <th>0</th>\n",
       "      <td>Night</td>\n",
       "      <td>2012-01-02</td>\n",
       "      <td>2019-12-31</td>\n",
       "    </tr>\n",
       "    <tr>\n",
       "      <th>1</th>\n",
       "      <td>Norm</td>\n",
       "      <td>2015-01-05</td>\n",
       "      <td>2019-12-31</td>\n",
       "    </tr>\n",
       "  </tbody>\n",
       "</table>\n",
       "</div>"
      ],
      "text/plain": [
       "  TradingSession   min_Date   max_Date\n",
       "0          Night 2012-01-02 2019-12-31\n",
       "1           Norm 2015-01-05 2019-12-31"
      ]
     },
     "execution_count": 27,
     "metadata": {},
     "output_type": "execute_result"
    }
   ],
   "source": [
    "sess.run('''\n",
    "dailyOptionsBasic = loadTable(\"dfs://dailyOptions\", `dailyOptionsBasic);\n",
    "txo = select * from dailyOptionsBasic where Contract==`TXO order by Date asc;\n",
    "''')"
   ]
  },
  {
   "cell_type": "code",
   "execution_count": 76,
   "metadata": {},
   "outputs": [
    {
     "data": {
      "text/html": [
       "<div>\n",
       "<style scoped>\n",
       "    .dataframe tbody tr th:only-of-type {\n",
       "        vertical-align: middle;\n",
       "    }\n",
       "\n",
       "    .dataframe tbody tr th {\n",
       "        vertical-align: top;\n",
       "    }\n",
       "\n",
       "    .dataframe thead th {\n",
       "        text-align: right;\n",
       "    }\n",
       "</style>\n",
       "<table border=\"1\" class=\"dataframe\">\n",
       "  <thead>\n",
       "    <tr style=\"text-align: right;\">\n",
       "      <th></th>\n",
       "      <th>TradingSession</th>\n",
       "      <th>min_Date</th>\n",
       "      <th>max_Date</th>\n",
       "    </tr>\n",
       "  </thead>\n",
       "  <tbody>\n",
       "    <tr>\n",
       "      <th>0</th>\n",
       "      <td>Night</td>\n",
       "      <td>2012-01-02</td>\n",
       "      <td>2019-12-31</td>\n",
       "    </tr>\n",
       "    <tr>\n",
       "      <th>1</th>\n",
       "      <td>Norm</td>\n",
       "      <td>2015-01-05</td>\n",
       "      <td>2019-12-31</td>\n",
       "    </tr>\n",
       "  </tbody>\n",
       "</table>\n",
       "</div>"
      ],
      "text/plain": [
       "  TradingSession   min_Date   max_Date\n",
       "0          Night 2012-01-02 2019-12-31\n",
       "1           Norm 2015-01-05 2019-12-31"
      ]
     },
     "execution_count": 76,
     "metadata": {},
     "output_type": "execute_result"
    }
   ],
   "source": [
    "sess.run('select min(Date), max(Date) from txo where Right=`Call group by TradingSession')"
   ]
  },
  {
   "cell_type": "code",
   "execution_count": 44,
   "metadata": {},
   "outputs": [],
   "source": [
    "def get_previous_date(date):\n",
    "    previous_date = sess.run(f'''\n",
    "    select max(Date) as date \n",
    "    from txo\n",
    "    where Date<date(`{date}) and TradingSession=`Norm;\n",
    "    ''')\n",
    "    return previous_date.date.dt.strftime('%Y.%m.%d').values[0]\n",
    "\n",
    "def get_all_txo_opt_price(date, maturity, right):\n",
    "    assert date >= '2015.01.05', 'date before 2015.01.05 has no data of normal trading sessions'\n",
    "    previous_date = get_previous_date(date)\n",
    "    df_opt = sess.run(f'''\n",
    "    select Date as date, SettleDate as maturity, StrikePrice as strike, SettlePrice as opt_price\n",
    "    from txo \n",
    "    where TradingSession=`Norm and Right=`{right} and SettleDate=`{maturity} and Date=date(`{previous_date});\n",
    "    ''')\n",
    "    return df_opt"
   ]
  },
  {
   "cell_type": "code",
   "execution_count": 75,
   "metadata": {},
   "outputs": [
    {
     "data": {
      "text/html": [
       "<div>\n",
       "<style scoped>\n",
       "    .dataframe tbody tr th:only-of-type {\n",
       "        vertical-align: middle;\n",
       "    }\n",
       "\n",
       "    .dataframe tbody tr th {\n",
       "        vertical-align: top;\n",
       "    }\n",
       "\n",
       "    .dataframe thead th {\n",
       "        text-align: right;\n",
       "    }\n",
       "</style>\n",
       "<table border=\"1\" class=\"dataframe\">\n",
       "  <thead>\n",
       "    <tr style=\"text-align: right;\">\n",
       "      <th></th>\n",
       "      <th>d2m</th>\n",
       "      <th>lambd</th>\n",
       "      <th>opt_price</th>\n",
       "    </tr>\n",
       "  </thead>\n",
       "  <tbody>\n",
       "    <tr>\n",
       "      <th>0</th>\n",
       "      <td>0.0</td>\n",
       "      <td>-33.0</td>\n",
       "      <td>3350.0</td>\n",
       "    </tr>\n",
       "    <tr>\n",
       "      <th>1</th>\n",
       "      <td>0.0</td>\n",
       "      <td>-32.0</td>\n",
       "      <td>3220.0</td>\n",
       "    </tr>\n",
       "    <tr>\n",
       "      <th>2</th>\n",
       "      <td>0.0</td>\n",
       "      <td>-31.0</td>\n",
       "      <td>3135.0</td>\n",
       "    </tr>\n",
       "    <tr>\n",
       "      <th>3</th>\n",
       "      <td>0.0</td>\n",
       "      <td>-30.0</td>\n",
       "      <td>3035.0</td>\n",
       "    </tr>\n",
       "    <tr>\n",
       "      <th>4</th>\n",
       "      <td>0.0</td>\n",
       "      <td>-29.0</td>\n",
       "      <td>2920.0</td>\n",
       "    </tr>\n",
       "    <tr>\n",
       "      <th>...</th>\n",
       "      <td>...</td>\n",
       "      <td>...</td>\n",
       "      <td>...</td>\n",
       "    </tr>\n",
       "    <tr>\n",
       "      <th>1750</th>\n",
       "      <td>24.0</td>\n",
       "      <td>19.0</td>\n",
       "      <td>0.1</td>\n",
       "    </tr>\n",
       "    <tr>\n",
       "      <th>1751</th>\n",
       "      <td>24.0</td>\n",
       "      <td>20.0</td>\n",
       "      <td>0.1</td>\n",
       "    </tr>\n",
       "    <tr>\n",
       "      <th>1752</th>\n",
       "      <td>24.0</td>\n",
       "      <td>21.0</td>\n",
       "      <td>0.1</td>\n",
       "    </tr>\n",
       "    <tr>\n",
       "      <th>1753</th>\n",
       "      <td>24.0</td>\n",
       "      <td>22.0</td>\n",
       "      <td>0.1</td>\n",
       "    </tr>\n",
       "    <tr>\n",
       "      <th>1754</th>\n",
       "      <td>24.0</td>\n",
       "      <td>23.0</td>\n",
       "      <td>0.1</td>\n",
       "    </tr>\n",
       "  </tbody>\n",
       "</table>\n",
       "<p>1755 rows × 3 columns</p>\n",
       "</div>"
      ],
      "text/plain": [
       "       d2m  lambd  opt_price\n",
       "0      0.0  -33.0     3350.0\n",
       "1      0.0  -32.0     3220.0\n",
       "2      0.0  -31.0     3135.0\n",
       "3      0.0  -30.0     3035.0\n",
       "4      0.0  -29.0     2920.0\n",
       "...    ...    ...        ...\n",
       "1750  24.0   19.0        0.1\n",
       "1751  24.0   20.0        0.1\n",
       "1752  24.0   21.0        0.1\n",
       "1753  24.0   22.0        0.1\n",
       "1754  24.0   23.0        0.1\n",
       "\n",
       "[1755 rows x 3 columns]"
      ]
     },
     "execution_count": 75,
     "metadata": {},
     "output_type": "execute_result"
    }
   ],
   "source": [
    "%%time\n",
    "def get_all_txo_call_lambda(row):\n",
    "    date = row.Index.strftime('%Y.%m.%d')\n",
    "    if date <= '2015.01.05':\n",
    "        return pd.DataFrame()\n",
    "    maturity = row.maturity.strftime('%Y%m')\n",
    "    df_call = get_all_txo_opt_price(date, maturity, right=cfg.RIGHT)\n",
    "    df_call['date'] = row.Index\n",
    "    df_call['lamb'] = (df_call.strike - row.prc_qtz).div(cfg.SIZE_CELL)\n",
    "    df_call['d2m'] = row.d2m\n",
    "    df_call = df_call[['date', 'maturity', 'lamb', 'opt_price', 'd2m']]\n",
    "    return df_call\n",
    "\n",
    "def get_cost(df, cost_cutoff):\n",
    "    df_call = pd.concat([get_all_txo_call_lambda(row) for row in df.itertuples()])\n",
    "    df_cost = df_call.groupby(['d2m', 'lamb']).opt_price.apply(lambda x: x.quantile(cost_cutoff)).reset_index()\n",
    "    df_cost.columns = ['d2m', 'lambd', 'opt_price']\n",
    "    return df_cost\n",
    "\n",
    "df_cost = get_cost(df, cost_cutoff)\n",
    "df_cost"
   ]
  },
  {
   "cell_type": "code",
   "execution_count": 86,
   "metadata": {},
   "outputs": [
    {
     "data": {
      "text/html": [
       "<div>\n",
       "<style scoped>\n",
       "    .dataframe tbody tr th:only-of-type {\n",
       "        vertical-align: middle;\n",
       "    }\n",
       "\n",
       "    .dataframe tbody tr th {\n",
       "        vertical-align: top;\n",
       "    }\n",
       "\n",
       "    .dataframe thead th {\n",
       "        text-align: right;\n",
       "    }\n",
       "</style>\n",
       "<table border=\"1\" class=\"dataframe\">\n",
       "  <thead>\n",
       "    <tr style=\"text-align: right;\">\n",
       "      <th></th>\n",
       "      <th>d2m</th>\n",
       "      <th>lambd</th>\n",
       "      <th>opt_price</th>\n",
       "    </tr>\n",
       "  </thead>\n",
       "  <tbody>\n",
       "    <tr>\n",
       "      <th>35</th>\n",
       "      <td>0.0</td>\n",
       "      <td>-2.0</td>\n",
       "      <td>236.50</td>\n",
       "    </tr>\n",
       "    <tr>\n",
       "      <th>36</th>\n",
       "      <td>0.0</td>\n",
       "      <td>-1.5</td>\n",
       "      <td>182.50</td>\n",
       "    </tr>\n",
       "    <tr>\n",
       "      <th>37</th>\n",
       "      <td>0.0</td>\n",
       "      <td>-1.0</td>\n",
       "      <td>137.50</td>\n",
       "    </tr>\n",
       "    <tr>\n",
       "      <th>38</th>\n",
       "      <td>0.0</td>\n",
       "      <td>-0.5</td>\n",
       "      <td>93.00</td>\n",
       "    </tr>\n",
       "    <tr>\n",
       "      <th>39</th>\n",
       "      <td>0.0</td>\n",
       "      <td>0.0</td>\n",
       "      <td>52.25</td>\n",
       "    </tr>\n",
       "    <tr>\n",
       "      <th>40</th>\n",
       "      <td>0.0</td>\n",
       "      <td>0.5</td>\n",
       "      <td>21.00</td>\n",
       "    </tr>\n",
       "    <tr>\n",
       "      <th>41</th>\n",
       "      <td>0.0</td>\n",
       "      <td>1.0</td>\n",
       "      <td>6.40</td>\n",
       "    </tr>\n",
       "    <tr>\n",
       "      <th>42</th>\n",
       "      <td>0.0</td>\n",
       "      <td>1.5</td>\n",
       "      <td>2.15</td>\n",
       "    </tr>\n",
       "    <tr>\n",
       "      <th>43</th>\n",
       "      <td>0.0</td>\n",
       "      <td>2.0</td>\n",
       "      <td>0.70</td>\n",
       "    </tr>\n",
       "    <tr>\n",
       "      <th>44</th>\n",
       "      <td>0.0</td>\n",
       "      <td>2.5</td>\n",
       "      <td>0.50</td>\n",
       "    </tr>\n",
       "  </tbody>\n",
       "</table>\n",
       "</div>"
      ],
      "text/plain": [
       "    d2m  lambd  opt_price\n",
       "35  0.0   -2.0     236.50\n",
       "36  0.0   -1.5     182.50\n",
       "37  0.0   -1.0     137.50\n",
       "38  0.0   -0.5      93.00\n",
       "39  0.0    0.0      52.25\n",
       "40  0.0    0.5      21.00\n",
       "41  0.0    1.0       6.40\n",
       "42  0.0    1.5       2.15\n",
       "43  0.0    2.0       0.70\n",
       "44  0.0    2.5       0.50"
      ]
     },
     "execution_count": 86,
     "metadata": {},
     "output_type": "execute_result"
    }
   ],
   "source": [
    "df_cost.query('d2m==0').iloc[35:45]"
   ]
  },
  {
   "cell_type": "code",
   "execution_count": 77,
   "metadata": {},
   "outputs": [],
   "source": [
    "# df_call = pd.concat([get_all_txo_call_lambda(row) for row in df.itertuples()])\n",
    "# df_call.head()\n",
    "\n",
    "# df_cost = df_call.groupby(['d2m', 'lamb']).opt_price.apply(lambda x: x.quantile(0.5)).reset_index()\n",
    "# df_cost.columns = ['d2m', 'lambd', 'opt_price']\n",
    "# df_cost"
   ]
  },
  {
   "cell_type": "markdown",
   "metadata": {},
   "source": [
    "# Profit"
   ]
  },
  {
   "cell_type": "code",
   "execution_count": 87,
   "metadata": {},
   "outputs": [],
   "source": [
    "def profit(lambd):\n",
    "    return (lambd - 1) * cfg.SIZE_CELL"
   ]
  },
  {
   "cell_type": "markdown",
   "metadata": {},
   "source": [
    "# Optimization"
   ]
  },
  {
   "cell_type": "code",
   "execution_count": 42,
   "metadata": {},
   "outputs": [],
   "source": [
    "from optimize import *"
   ]
  },
  {
   "cell_type": "code",
   "execution_count": 47,
   "metadata": {},
   "outputs": [
    {
     "name": "stderr",
     "output_type": "stream",
     "text": [
      "<ipython-input-47-af837f1d2d15>:1: FutureWarning: The read_msgpack is deprecated and will be removed in a future version.\n",
      "It is recommended to use pyarrow for on-the-wire transmission of pandas objects.\n",
      "  df = get_df()\n"
     ]
    }
   ],
   "source": [
    "df = get_df()\n",
    "prob_delta_cell = get_prob_single_day(df)\n",
    "df_cost = get_cost(df, cost_cutoff)"
   ]
  },
  {
   "cell_type": "code",
   "execution_count": 51,
   "metadata": {},
   "outputs": [
    {
     "name": "stdout",
     "output_type": "stream",
     "text": [
      "62.5 28.0\n"
     ]
    },
    {
     "data": {
      "text/plain": [
       "-21.55715387930067"
      ]
     },
     "execution_count": 51,
     "metadata": {},
     "output_type": "execute_result"
    }
   ],
   "source": [
    "var_lambda, var_tau = 2, 8\n",
    "optimize(var_lambda, var_tau, df_cost)"
   ]
  },
  {
   "cell_type": "code",
   "execution_count": null,
   "metadata": {},
   "outputs": [],
   "source": []
  }
 ],
 "metadata": {
  "kernelspec": {
   "display_name": "Python 3",
   "language": "python",
   "name": "python3"
  },
  "language_info": {
   "codemirror_mode": {
    "name": "ipython",
    "version": 3
   },
   "file_extension": ".py",
   "mimetype": "text/x-python",
   "name": "python",
   "nbconvert_exporter": "python",
   "pygments_lexer": "ipython3",
   "version": "3.8.0"
  },
  "toc-autonumbering": true
 },
 "nbformat": 4,
 "nbformat_minor": 4
}
