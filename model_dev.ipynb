{
 "cells": [
  {
   "cell_type": "code",
   "execution_count": 2,
   "metadata": {},
   "outputs": [
    {
     "name": "stdout",
     "output_type": "stream",
     "text": [
      "The autoreload extension is already loaded. To reload it, use:\n",
      "  %reload_ext autoreload\n"
     ]
    }
   ],
   "source": [
    "%load_ext autoreload"
   ]
  },
  {
   "cell_type": "code",
   "execution_count": 3,
   "metadata": {},
   "outputs": [],
   "source": [
    "%autoreload 2"
   ]
  },
  {
   "cell_type": "code",
   "execution_count": 4,
   "metadata": {},
   "outputs": [],
   "source": [
    "%matplotlib inline"
   ]
  },
  {
   "cell_type": "code",
   "execution_count": 5,
   "metadata": {},
   "outputs": [],
   "source": [
    "import matplotlib.pylab as plt\n",
    "import pandas as pd"
   ]
  },
  {
   "cell_type": "code",
   "execution_count": 6,
   "metadata": {},
   "outputs": [],
   "source": [
    "from model import get_model, get_train_test_pools, get_precision_recall, load_model, get_model_path"
   ]
  },
  {
   "cell_type": "code",
   "execution_count": 1,
   "metadata": {},
   "outputs": [],
   "source": [
    "%%time\n",
    "N=5\n",
    "DIRECTION='is_turnpt'\n",
    "WEIGHTS_QUNATILE = 0.01\n",
    "\n",
    "model = get_model(N, DIRECTION, WEIGHTS_QUNATILE, DEPTH=10, LEARNING_RATE=1, L2_LEAF_REG=10*5, OD_WAIT=50, CACHE=True, ADD_DIFF=False)\n",
    "# path = get_model_path(N, DIRECTION)\n",
    "# model = load_model(path)"
   ]
  },
  {
   "cell_type": "code",
   "execution_count": 9,
   "metadata": {},
   "outputs": [
    {
     "name": "stdout",
     "output_type": "stream",
     "text": [
      "transformed OHLCV at frequency 1D\n",
      "reading cache of TXF in 1D OHLCV\n",
      "CPU times: user 3.86 s, sys: 31.3 ms, total: 3.89 s\n",
      "Wall time: 3.86 s\n"
     ]
    }
   ],
   "source": [
    "%%time\n",
    "train_pool, test_pool =  get_train_test_pools(N,DIRECTION, WEIGHTS_QUNATILE, CACHE=True)\n",
    "# best_iter = next(map(lambda x: len(x[1])-1, model.eval_metrics(train_pool,['Precision']).items()))\n",
    "# model.plot_tree(best_iter)"
   ]
  },
  {
   "cell_type": "code",
   "execution_count": 10,
   "metadata": {},
   "outputs": [
    {
     "name": "stdout",
     "output_type": "stream",
     "text": [
      "training pool\n"
     ]
    },
    {
     "data": {
      "text/html": [
       "<div>\n",
       "<style scoped>\n",
       "    .dataframe tbody tr th:only-of-type {\n",
       "        vertical-align: middle;\n",
       "    }\n",
       "\n",
       "    .dataframe tbody tr th {\n",
       "        vertical-align: top;\n",
       "    }\n",
       "\n",
       "    .dataframe thead th {\n",
       "        text-align: right;\n",
       "    }\n",
       "</style>\n",
       "<table border=\"1\" class=\"dataframe\">\n",
       "  <thead>\n",
       "    <tr style=\"text-align: right;\">\n",
       "      <th></th>\n",
       "      <th>class_</th>\n",
       "      <th>Precision</th>\n",
       "      <th>Recall</th>\n",
       "    </tr>\n",
       "  </thead>\n",
       "  <tbody>\n",
       "    <tr>\n",
       "      <th>0</th>\n",
       "      <td>-1.0</td>\n",
       "      <td>100.00 %</td>\n",
       "      <td>100.00 %</td>\n",
       "    </tr>\n",
       "    <tr>\n",
       "      <th>1</th>\n",
       "      <td>0.0</td>\n",
       "      <td>100.00 %</td>\n",
       "      <td>100.00 %</td>\n",
       "    </tr>\n",
       "    <tr>\n",
       "      <th>2</th>\n",
       "      <td>1.0</td>\n",
       "      <td>100.00 %</td>\n",
       "      <td>100.00 %</td>\n",
       "    </tr>\n",
       "  </tbody>\n",
       "</table>\n",
       "</div>"
      ],
      "text/plain": [
       "   class_ Precision    Recall\n",
       "0    -1.0  100.00 %  100.00 %\n",
       "1     0.0  100.00 %  100.00 %\n",
       "2     1.0  100.00 %  100.00 %"
      ]
     },
     "execution_count": 10,
     "metadata": {},
     "output_type": "execute_result"
    },
    {
     "name": "stdout",
     "output_type": "stream",
     "text": [
      "testing pool\n"
     ]
    },
    {
     "data": {
      "text/html": [
       "<div>\n",
       "<style scoped>\n",
       "    .dataframe tbody tr th:only-of-type {\n",
       "        vertical-align: middle;\n",
       "    }\n",
       "\n",
       "    .dataframe tbody tr th {\n",
       "        vertical-align: top;\n",
       "    }\n",
       "\n",
       "    .dataframe thead th {\n",
       "        text-align: right;\n",
       "    }\n",
       "</style>\n",
       "<table border=\"1\" class=\"dataframe\">\n",
       "  <thead>\n",
       "    <tr style=\"text-align: right;\">\n",
       "      <th></th>\n",
       "      <th>class_</th>\n",
       "      <th>Precision</th>\n",
       "      <th>Recall</th>\n",
       "    </tr>\n",
       "  </thead>\n",
       "  <tbody>\n",
       "    <tr>\n",
       "      <th>0</th>\n",
       "      <td>-1.0</td>\n",
       "      <td>34.65 %</td>\n",
       "      <td>47.93 %</td>\n",
       "    </tr>\n",
       "    <tr>\n",
       "      <th>1</th>\n",
       "      <td>0.0</td>\n",
       "      <td>10.96 %</td>\n",
       "      <td>0.97 %</td>\n",
       "    </tr>\n",
       "    <tr>\n",
       "      <th>2</th>\n",
       "      <td>1.0</td>\n",
       "      <td>41.66 %</td>\n",
       "      <td>36.29 %</td>\n",
       "    </tr>\n",
       "  </tbody>\n",
       "</table>\n",
       "</div>"
      ],
      "text/plain": [
       "   class_ Precision   Recall\n",
       "0    -1.0   34.65 %  47.93 %\n",
       "1     0.0   10.96 %   0.97 %\n",
       "2     1.0   41.66 %  36.29 %"
      ]
     },
     "execution_count": 10,
     "metadata": {},
     "output_type": "execute_result"
    }
   ],
   "source": [
    "print('training pool')\n",
    "get_precision_recall(model, train_pool)\n",
    "\n",
    "print('testing pool')\n",
    "get_precision_recall(model, test_pool)"
   ]
  },
  {
   "cell_type": "code",
   "execution_count": 11,
   "metadata": {},
   "outputs": [
    {
     "data": {
      "text/html": [
       "<div>\n",
       "<style scoped>\n",
       "    .dataframe tbody tr th:only-of-type {\n",
       "        vertical-align: middle;\n",
       "    }\n",
       "\n",
       "    .dataframe tbody tr th {\n",
       "        vertical-align: top;\n",
       "    }\n",
       "\n",
       "    .dataframe thead th {\n",
       "        text-align: right;\n",
       "    }\n",
       "</style>\n",
       "<table border=\"1\" class=\"dataframe\">\n",
       "  <thead>\n",
       "    <tr style=\"text-align: right;\">\n",
       "      <th></th>\n",
       "      <th>y</th>\n",
       "      <th>pred</th>\n",
       "      <th>occurence</th>\n",
       "    </tr>\n",
       "  </thead>\n",
       "  <tbody>\n",
       "    <tr>\n",
       "      <th>0</th>\n",
       "      <td>-1.0</td>\n",
       "      <td>-1.0</td>\n",
       "      <td>57</td>\n",
       "    </tr>\n",
       "    <tr>\n",
       "      <th>1</th>\n",
       "      <td>-1.0</td>\n",
       "      <td>1.0</td>\n",
       "      <td>59</td>\n",
       "    </tr>\n",
       "    <tr>\n",
       "      <th>2</th>\n",
       "      <td>0.0</td>\n",
       "      <td>-1.0</td>\n",
       "      <td>843</td>\n",
       "    </tr>\n",
       "    <tr>\n",
       "      <th>3</th>\n",
       "      <td>0.0</td>\n",
       "      <td>0.0</td>\n",
       "      <td>16</td>\n",
       "    </tr>\n",
       "    <tr>\n",
       "      <th>4</th>\n",
       "      <td>0.0</td>\n",
       "      <td>1.0</td>\n",
       "      <td>786</td>\n",
       "    </tr>\n",
       "    <tr>\n",
       "      <th>5</th>\n",
       "      <td>1.0</td>\n",
       "      <td>-1.0</td>\n",
       "      <td>60</td>\n",
       "    </tr>\n",
       "    <tr>\n",
       "      <th>6</th>\n",
       "      <td>1.0</td>\n",
       "      <td>0.0</td>\n",
       "      <td>1</td>\n",
       "    </tr>\n",
       "    <tr>\n",
       "      <th>7</th>\n",
       "      <td>1.0</td>\n",
       "      <td>1.0</td>\n",
       "      <td>50</td>\n",
       "    </tr>\n",
       "  </tbody>\n",
       "</table>\n",
       "</div>"
      ],
      "text/plain": [
       "     y  pred  occurence\n",
       "0 -1.0  -1.0         57\n",
       "1 -1.0   1.0         59\n",
       "2  0.0  -1.0        843\n",
       "3  0.0   0.0         16\n",
       "4  0.0   1.0        786\n",
       "5  1.0  -1.0         60\n",
       "6  1.0   0.0          1\n",
       "7  1.0   1.0         50"
      ]
     },
     "execution_count": 11,
     "metadata": {},
     "output_type": "execute_result"
    },
    {
     "data": {
      "text/plain": [
       "array([[<matplotlib.axes._subplots.AxesSubplot object at 0x7f09fd7e6f10>,\n",
       "        <matplotlib.axes._subplots.AxesSubplot object at 0x7f0a0749ab50>]],\n",
       "      dtype=object)"
      ]
     },
     "execution_count": 11,
     "metadata": {},
     "output_type": "execute_result"
    },
    {
     "data": {
      "image/png": "[encoded data removed]",
      "text/plain": [
       "<Figure size 432x288 with 2 Axes>"
      ]
     },
     "metadata": {
      "needs_background": "light"
     },
     "output_type": "display_data"
    }
   ],
   "source": [
    "df_pred = (\n",
    "    pd.DataFrame(model.predict(test_pool), columns=['pred']).\n",
    "    assign(y=test_pool.get_label())\n",
    ")\n",
    "\n",
    "df_pred_summary = df_pred.groupby(['y', 'pred']).size().to_frame('occurence').reset_index()\n",
    "df_pred_summary\n",
    "\n",
    "\n",
    "df_pred[['pred', 'y']].hist()"
   ]
  },
  {
   "cell_type": "markdown",
   "metadata": {},
   "source": [
    "# plot entry and exit"
   ]
  },
  {
   "cell_type": "code",
   "execution_count": 9,
   "metadata": {},
   "outputs": [],
   "source": [
    "# def plot_turnpt(price, turnpts, dates_index):\n",
    "#     index_upward = np.where(turnpts==1)[0]\n",
    "#     index_downward = np.where(turnpts==-1)[0]\n",
    "    \n",
    "#     plt.figure(figsize=(20, 5))\n",
    "#     plt.plot(dates_index, price, color='black', markevery=index_upward.tolist(), marker='^', markerfacecolor='red', markeredgewidth=0.0)\n",
    "#     plt.plot(dates_index, price, color='black', markevery=index_downward.tolist(), marker='v', markerfacecolor='green', markeredgewidth=0.0)\n",
    "\n",
    "\n",
    "# test_df_y = df_y[df_y.index.isin(y_test.index)]\n",
    "# test_price = test_df_y.close.values\n",
    "# test_turnpts_true = test_df_y.is_turnpt.values\n",
    "# test_dates_index = test_df_y.index\n",
    "# plot_turnpt(test_price, test_turnpts_true, test_dates_index)"
   ]
  },
  {
   "cell_type": "code",
   "execution_count": null,
   "metadata": {},
   "outputs": [],
   "source": [
    "# def get_predict_class(model, pool, threshold = 0):\n",
    "#     max_prob = model.predict_proba(pool).max(axis=1)\n",
    "#     turnpts_pred = model.predict(pool).flatten()\n",
    "#     turnpts_pred_filtered = np.where(max_prob>=threshold, turnpts_pred, 0)\n",
    "#     return turnpts_pred_filtered\n",
    "\n",
    "# test_turnpts_pred = get_predict_class(model, test_pool)\n",
    "# plot_turnpt(test_price, test_turnpts_pred, test_dates_index)"
   ]
  },
  {
   "cell_type": "code",
   "execution_count": 228,
   "metadata": {},
   "outputs": [
    {
     "data": {
      "image/png": "[encoded data removed]",
      "text/plain": [
       "<Figure size 1440x360 with 1 Axes>"
      ]
     },
     "metadata": {
      "needs_background": "light"
     },
     "output_type": "display_data"
    }
   ],
   "source": [
    "# # only plot 1 or -1 when prob > thereshold\n",
    "# # noises during 2018-M7 disappear\n",
    "# test_turnpts_pred = get_predict_class(model, test_pool, threshold=0.6)\n",
    "# plot_turnpt(test_price, test_turnpts_pred, test_dates_index)"
   ]
  },
  {
   "cell_type": "markdown",
   "metadata": {},
   "source": [
    "# plot NAV"
   ]
  },
  {
   "cell_type": "code",
   "execution_count": 231,
   "metadata": {},
   "outputs": [
    {
     "name": "stderr",
     "output_type": "stream",
     "text": [
      "<ipython-input-231-74b3a4708c79>:1: SettingWithCopyWarning: \n",
      "A value is trying to be set on a copy of a slice from a DataFrame.\n",
      "Try using .loc[row_indexer,col_indexer] = value instead\n",
      "\n",
      "See the caveats in the documentation: http://pandas.pydata.org/pandas-docs/stable/user_guide/indexing.html#returning-a-view-versus-a-copy\n",
      "  test_df_y['is_turnpt_pred'] =get_predict_class(model, test_pool)\n"
     ]
    },
    {
     "data": {
      "text/html": [
       "<div>\n",
       "<style scoped>\n",
       "    .dataframe tbody tr th:only-of-type {\n",
       "        vertical-align: middle;\n",
       "    }\n",
       "\n",
       "    .dataframe tbody tr th {\n",
       "        vertical-align: top;\n",
       "    }\n",
       "\n",
       "    .dataframe thead th {\n",
       "        text-align: right;\n",
       "    }\n",
       "</style>\n",
       "<table border=\"1\" class=\"dataframe\">\n",
       "  <thead>\n",
       "    <tr style=\"text-align: right;\">\n",
       "      <th></th>\n",
       "      <th>tx_datetime</th>\n",
       "      <th>N</th>\n",
       "      <th>open</th>\n",
       "      <th>high</th>\n",
       "      <th>low</th>\n",
       "      <th>close</th>\n",
       "      <th>vol</th>\n",
       "      <th>maturity</th>\n",
       "      <th>day_to_maturity</th>\n",
       "      <th>is_turnpt_upward</th>\n",
       "      <th>is_turnpt_downward</th>\n",
       "      <th>is_turnpt</th>\n",
       "      <th>next_dt_turnpt</th>\n",
       "      <th>prc_diff</th>\n",
       "      <th>duration</th>\n",
       "      <th>slope</th>\n",
       "      <th>is_turnpt_pred</th>\n",
       "    </tr>\n",
       "    <tr>\n",
       "      <th>tx_datetime</th>\n",
       "      <th></th>\n",
       "      <th></th>\n",
       "      <th></th>\n",
       "      <th></th>\n",
       "      <th></th>\n",
       "      <th></th>\n",
       "      <th></th>\n",
       "      <th></th>\n",
       "      <th></th>\n",
       "      <th></th>\n",
       "      <th></th>\n",
       "      <th></th>\n",
       "      <th></th>\n",
       "      <th></th>\n",
       "      <th></th>\n",
       "      <th></th>\n",
       "      <th></th>\n",
       "    </tr>\n",
       "  </thead>\n",
       "  <tbody>\n",
       "    <tr>\n",
       "      <th>2017-03-06</th>\n",
       "      <td>2017-03-06</td>\n",
       "      <td>1</td>\n",
       "      <td>9639.0</td>\n",
       "      <td>9684.0</td>\n",
       "      <td>9619.0</td>\n",
       "      <td>9683.0</td>\n",
       "      <td>196244.0</td>\n",
       "      <td>2017-03-15</td>\n",
       "      <td>-9</td>\n",
       "      <td>0.0</td>\n",
       "      <td>0.0</td>\n",
       "      <td>0.0</td>\n",
       "      <td>2017-03-07</td>\n",
       "      <td>44.0</td>\n",
       "      <td>1</td>\n",
       "      <td>44.000000</td>\n",
       "      <td>-1.0</td>\n",
       "    </tr>\n",
       "    <tr>\n",
       "      <th>2017-03-07</th>\n",
       "      <td>2017-03-07</td>\n",
       "      <td>1</td>\n",
       "      <td>9693.0</td>\n",
       "      <td>9734.0</td>\n",
       "      <td>9682.0</td>\n",
       "      <td>9727.0</td>\n",
       "      <td>188700.0</td>\n",
       "      <td>2017-03-15</td>\n",
       "      <td>-8</td>\n",
       "      <td>0.0</td>\n",
       "      <td>0.0</td>\n",
       "      <td>0.0</td>\n",
       "      <td>2017-03-08</td>\n",
       "      <td>21.0</td>\n",
       "      <td>1</td>\n",
       "      <td>21.000000</td>\n",
       "      <td>-1.0</td>\n",
       "    </tr>\n",
       "    <tr>\n",
       "      <th>2017-03-08</th>\n",
       "      <td>2017-03-08</td>\n",
       "      <td>1</td>\n",
       "      <td>9736.0</td>\n",
       "      <td>9765.0</td>\n",
       "      <td>9701.0</td>\n",
       "      <td>9748.0</td>\n",
       "      <td>226610.0</td>\n",
       "      <td>2017-03-15</td>\n",
       "      <td>-7</td>\n",
       "      <td>0.0</td>\n",
       "      <td>1.0</td>\n",
       "      <td>-1.0</td>\n",
       "      <td>2017-03-09</td>\n",
       "      <td>-96.0</td>\n",
       "      <td>1</td>\n",
       "      <td>-96.000000</td>\n",
       "      <td>0.0</td>\n",
       "    </tr>\n",
       "    <tr>\n",
       "      <th>2017-03-09</th>\n",
       "      <td>2017-03-09</td>\n",
       "      <td>1</td>\n",
       "      <td>9739.0</td>\n",
       "      <td>9742.0</td>\n",
       "      <td>9642.0</td>\n",
       "      <td>9652.0</td>\n",
       "      <td>277266.0</td>\n",
       "      <td>2017-03-15</td>\n",
       "      <td>-6</td>\n",
       "      <td>0.0</td>\n",
       "      <td>0.0</td>\n",
       "      <td>0.0</td>\n",
       "      <td>2017-03-10</td>\n",
       "      <td>-27.0</td>\n",
       "      <td>1</td>\n",
       "      <td>-27.000000</td>\n",
       "      <td>1.0</td>\n",
       "    </tr>\n",
       "    <tr>\n",
       "      <th>2017-03-10</th>\n",
       "      <td>2017-03-10</td>\n",
       "      <td>1</td>\n",
       "      <td>9647.0</td>\n",
       "      <td>9652.0</td>\n",
       "      <td>9555.0</td>\n",
       "      <td>9625.0</td>\n",
       "      <td>307656.0</td>\n",
       "      <td>2017-03-15</td>\n",
       "      <td>-5</td>\n",
       "      <td>1.0</td>\n",
       "      <td>0.0</td>\n",
       "      <td>1.0</td>\n",
       "      <td>2017-03-13</td>\n",
       "      <td>67.0</td>\n",
       "      <td>3</td>\n",
       "      <td>22.333333</td>\n",
       "      <td>1.0</td>\n",
       "    </tr>\n",
       "  </tbody>\n",
       "</table>\n",
       "</div>"
      ],
      "text/plain": [
       "            tx_datetime  N    open    high     low   close       vol  \\\n",
       "tx_datetime                                                            \n",
       "2017-03-06   2017-03-06  1  9639.0  9684.0  9619.0  9683.0  196244.0   \n",
       "2017-03-07   2017-03-07  1  9693.0  9734.0  9682.0  9727.0  188700.0   \n",
       "2017-03-08   2017-03-08  1  9736.0  9765.0  9701.0  9748.0  226610.0   \n",
       "2017-03-09   2017-03-09  1  9739.0  9742.0  9642.0  9652.0  277266.0   \n",
       "2017-03-10   2017-03-10  1  9647.0  9652.0  9555.0  9625.0  307656.0   \n",
       "\n",
       "               maturity  day_to_maturity  is_turnpt_upward  \\\n",
       "tx_datetime                                                  \n",
       "2017-03-06   2017-03-15               -9               0.0   \n",
       "2017-03-07   2017-03-15               -8               0.0   \n",
       "2017-03-08   2017-03-15               -7               0.0   \n",
       "2017-03-09   2017-03-15               -6               0.0   \n",
       "2017-03-10   2017-03-15               -5               1.0   \n",
       "\n",
       "             is_turnpt_downward  is_turnpt next_dt_turnpt  prc_diff  duration  \\\n",
       "tx_datetime                                                                     \n",
       "2017-03-06                  0.0        0.0     2017-03-07      44.0         1   \n",
       "2017-03-07                  0.0        0.0     2017-03-08      21.0         1   \n",
       "2017-03-08                  1.0       -1.0     2017-03-09     -96.0         1   \n",
       "2017-03-09                  0.0        0.0     2017-03-10     -27.0         1   \n",
       "2017-03-10                  0.0        1.0     2017-03-13      67.0         3   \n",
       "\n",
       "                 slope  is_turnpt_pred  \n",
       "tx_datetime                             \n",
       "2017-03-06   44.000000            -1.0  \n",
       "2017-03-07   21.000000            -1.0  \n",
       "2017-03-08  -96.000000             0.0  \n",
       "2017-03-09  -27.000000             1.0  \n",
       "2017-03-10   22.333333             1.0  "
      ]
     },
     "execution_count": 231,
     "metadata": {},
     "output_type": "execute_result"
    }
   ],
   "source": [
    "# test_df_y['is_turnpt_pred'] = get_predict_class(model, test_pool)\n",
    "# test_df_y.head()"
   ]
  },
  {
   "cell_type": "code",
   "execution_count": 350,
   "metadata": {},
   "outputs": [],
   "source": [
    "# # test_df_y\n",
    "# (\n",
    "#     test_df_y.query('is_turnpt_pred != 0').loc[:, ['tx_datetime', 'close']].\n",
    "#     assign(entry = lambda x: x.tx_datetime, \n",
    "#            exit = lambda x: x.tx_datetime.shift(-1)).dropna().\n",
    "#     assign(p_entry = lambda x: x.close.loc[x.entry],# \n",
    "# #            p_exit = lambda x: x.close[x.exit],# \n",
    "# #            ret = lambda x: x.p_exit.div(x.p_entry)-1\n",
    "#     )\n",
    "# #     loc[:, ['entry', 'exit']].\n",
    "# #     join(test_df_y, how='right')\n",
    "# )"
   ]
  },
  {
   "cell_type": "markdown",
   "metadata": {},
   "source": [
    "# check X"
   ]
  },
  {
   "cell_type": "markdown",
   "metadata": {},
   "source": [
    "# show metrics"
   ]
  },
  {
   "cell_type": "code",
   "execution_count": null,
   "metadata": {},
   "outputs": [],
   "source": []
  }
 ],
 "metadata": {
  "jupytext": {
   "formats": "ipynb,py:percent"
  },
  "kernelspec": {
   "display_name": "Python 3",
   "language": "python",
   "name": "python3"
  },
  "language_info": {
   "codemirror_mode": {
    "name": "ipython",
    "version": 3
   },
   "file_extension": ".py",
   "mimetype": "text/x-python",
   "name": "python",
   "nbconvert_exporter": "python",
   "pygments_lexer": "ipython3",
   "version": "3.8.0"
  }
 },
 "nbformat": 4,
 "nbformat_minor": 4
}
